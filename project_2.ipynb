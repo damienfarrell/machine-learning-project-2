{
 "cells": [
  {
   "cell_type": "markdown",
   "metadata": {},
   "source": [
    "# **Machine Learning: Project Part 2**\n",
    "\n",
    "---\n",
    "\n",
    "**Author: Damien Farrell**\n",
    "\n",
    "---"
   ]
  },
  {
   "cell_type": "markdown",
   "metadata": {},
   "source": [
    "## **Project Part 2: Seal Call Discrimination**\n",
    "\n",
    "### **Objective**\n",
    "The aim of this project is to analyze a recorded dataset to investigate the feasibility of discriminating between different seal calls. The project is structured in steps to build a machine learning model that can potentially detect seal calls from audio recordings. While creating a fully functional detector is the ultimate goal, it may not be the final outcome of this project.\n",
    "\n",
    "#### **Step A: Data Pre-processing**\n",
    "\n",
    "This step is completed in notebook `data_preprocessing.ipynb`. The file `processed_data.pkl` was produced from this notebook.\n",
    "\n",
    "#### **Step B: Model Training**\n",
    "1. **Dataset Utilisation**:\n",
    "   - Use the prepared spectrogram dataset to train the machine learning model.\n",
    "\n",
    "3. **Evaluation**:\n",
    "   - Test the model’s performance on a separate test dataset.\n",
    "\n",
    "#### **Step C: Refine**\n",
    "1. **Parameter Tuning**:\n",
    "   - Adjust parameters in the data extraction/spectrogram creation process (e.g., `nfft`, `noverlap`).\n",
    "   - Manage computational costs by splitting `.wav` files using tools like `pydub`.\n",
    "\n",
    "2. **Validation**:\n",
    "   - Apply the Rupe B/No Call classifier on an entire `.wav` file (held back during training).\n",
    "   - Ensure no false positives due to the presence of other annotated calls."
   ]
  },
  {
   "cell_type": "code",
   "execution_count": 135,
   "metadata": {},
   "outputs": [],
   "source": [
    "# Imports\n",
    "\n",
    "import pandas as pd\n",
    "import numpy as np\n",
    "import matplotlib.pyplot as plt\n",
    "import seaborn as sns\n",
    "from sklearn.model_selection import train_test_split\n",
    "import tensorflow as tf\n",
    "from sklearn.utils import shuffle\n",
    "from tensorflow.keras import layers\n",
    "from sklearn.preprocessing import MinMaxScaler"
   ]
  },
  {
   "cell_type": "markdown",
   "metadata": {},
   "source": [
    "---\n",
    "\n",
    "### **Step B: Model Training** \n",
    "\n",
    "---"
   ]
  },
  {
   "cell_type": "code",
   "execution_count": 136,
   "metadata": {},
   "outputs": [
    {
     "data": {
      "text/html": [
       "<div>\n",
       "<style scoped>\n",
       "    .dataframe tbody tr th:only-of-type {\n",
       "        vertical-align: middle;\n",
       "    }\n",
       "\n",
       "    .dataframe tbody tr th {\n",
       "        vertical-align: top;\n",
       "    }\n",
       "\n",
       "    .dataframe thead th {\n",
       "        text-align: right;\n",
       "    }\n",
       "</style>\n",
       "<table border=\"1\" class=\"dataframe\">\n",
       "  <thead>\n",
       "    <tr style=\"text-align: right;\">\n",
       "      <th></th>\n",
       "      <th>Selection</th>\n",
       "      <th>View</th>\n",
       "      <th>Channel</th>\n",
       "      <th>Begin Time (s)</th>\n",
       "      <th>End Time (s)</th>\n",
       "      <th>Low Freq (Hz)</th>\n",
       "      <th>High Freq (Hz)</th>\n",
       "      <th>Delta Time (s)</th>\n",
       "      <th>Delta Freq (Hz)</th>\n",
       "      <th>Avg Power Density (dB FS/Hz)</th>\n",
       "      <th>...</th>\n",
       "      <th>snippet_spectrogram</th>\n",
       "      <th>snippet_times</th>\n",
       "      <th>snippet_frequencies</th>\n",
       "      <th>Annotation_G Rupe</th>\n",
       "      <th>Annotation_Moan</th>\n",
       "      <th>Annotation_No Call</th>\n",
       "      <th>Annotation_Rupe A</th>\n",
       "      <th>Annotation_Rupe B</th>\n",
       "      <th>Annotation_Rupe C</th>\n",
       "      <th>Annotation_Type 4 A</th>\n",
       "    </tr>\n",
       "  </thead>\n",
       "  <tbody>\n",
       "    <tr>\n",
       "      <th>0</th>\n",
       "      <td>1</td>\n",
       "      <td>Spectrogram 1</td>\n",
       "      <td>1</td>\n",
       "      <td>4.136987</td>\n",
       "      <td>4.657535</td>\n",
       "      <td>173.956</td>\n",
       "      <td>286.792</td>\n",
       "      <td>0.520500</td>\n",
       "      <td>112.836</td>\n",
       "      <td>-82.85</td>\n",
       "      <td>...</td>\n",
       "      <td>[[10.569122314453125, 4.712647438049316, 1.273...</td>\n",
       "      <td>[4.131708333333333, 4.1445, 4.157291666666667,...</td>\n",
       "      <td>[23.4375, 46.875, 70.3125, 93.75, 117.1875, 14...</td>\n",
       "      <td>True</td>\n",
       "      <td>False</td>\n",
       "      <td>False</td>\n",
       "      <td>False</td>\n",
       "      <td>False</td>\n",
       "      <td>False</td>\n",
       "      <td>False</td>\n",
       "    </tr>\n",
       "    <tr>\n",
       "      <th>1</th>\n",
       "      <td>2</td>\n",
       "      <td>Spectrogram 1</td>\n",
       "      <td>1</td>\n",
       "      <td>3.789955</td>\n",
       "      <td>4.264841</td>\n",
       "      <td>371.419</td>\n",
       "      <td>451.345</td>\n",
       "      <td>0.474900</td>\n",
       "      <td>79.926</td>\n",
       "      <td>-92.16</td>\n",
       "      <td>...</td>\n",
       "      <td>[[42.39829635620117, 55.68126678466797, 83.361...</td>\n",
       "      <td>[3.7863333333333333, 3.799125, 3.8119166666666...</td>\n",
       "      <td>[23.4375, 46.875, 70.3125, 93.75, 117.1875, 14...</td>\n",
       "      <td>True</td>\n",
       "      <td>False</td>\n",
       "      <td>False</td>\n",
       "      <td>False</td>\n",
       "      <td>False</td>\n",
       "      <td>False</td>\n",
       "      <td>False</td>\n",
       "    </tr>\n",
       "    <tr>\n",
       "      <th>2</th>\n",
       "      <td>3</td>\n",
       "      <td>Spectrogram 1</td>\n",
       "      <td>1</td>\n",
       "      <td>14.840188</td>\n",
       "      <td>15.406398</td>\n",
       "      <td>136.660</td>\n",
       "      <td>445.248</td>\n",
       "      <td>0.566200</td>\n",
       "      <td>308.588</td>\n",
       "      <td>-88.96</td>\n",
       "      <td>...</td>\n",
       "      <td>[[29.341825485229492, 8.032623291015625, 43.69...</td>\n",
       "      <td>[14.838333333333333, 14.851125, 14.86391666666...</td>\n",
       "      <td>[23.4375, 46.875, 70.3125, 93.75, 117.1875, 14...</td>\n",
       "      <td>True</td>\n",
       "      <td>False</td>\n",
       "      <td>False</td>\n",
       "      <td>False</td>\n",
       "      <td>False</td>\n",
       "      <td>False</td>\n",
       "      <td>False</td>\n",
       "    </tr>\n",
       "    <tr>\n",
       "      <th>3</th>\n",
       "      <td>4</td>\n",
       "      <td>Spectrogram 1</td>\n",
       "      <td>1</td>\n",
       "      <td>24.543802</td>\n",
       "      <td>25.082615</td>\n",
       "      <td>167.519</td>\n",
       "      <td>392.347</td>\n",
       "      <td>0.538800</td>\n",
       "      <td>224.828</td>\n",
       "      <td>-86.10</td>\n",
       "      <td>...</td>\n",
       "      <td>[[0.28541040420532227, 0.41072168946266174, 2....</td>\n",
       "      <td>[24.547208333333334, 24.56, 24.572791666666667...</td>\n",
       "      <td>[23.4375, 46.875, 70.3125, 93.75, 117.1875, 14...</td>\n",
       "      <td>True</td>\n",
       "      <td>False</td>\n",
       "      <td>False</td>\n",
       "      <td>False</td>\n",
       "      <td>False</td>\n",
       "      <td>False</td>\n",
       "      <td>False</td>\n",
       "    </tr>\n",
       "    <tr>\n",
       "      <th>4</th>\n",
       "      <td>5</td>\n",
       "      <td>Spectrogram 1</td>\n",
       "      <td>1</td>\n",
       "      <td>35.989220</td>\n",
       "      <td>36.573694</td>\n",
       "      <td>119.027</td>\n",
       "      <td>436.431</td>\n",
       "      <td>0.584500</td>\n",
       "      <td>317.405</td>\n",
       "      <td>-80.18</td>\n",
       "      <td>...</td>\n",
       "      <td>[[13.951732635498047, 23.50061798095703, 20.28...</td>\n",
       "      <td>[35.982958333333336, 35.99575, 36.008541666666...</td>\n",
       "      <td>[23.4375, 46.875, 70.3125, 93.75, 117.1875, 14...</td>\n",
       "      <td>True</td>\n",
       "      <td>False</td>\n",
       "      <td>False</td>\n",
       "      <td>False</td>\n",
       "      <td>False</td>\n",
       "      <td>False</td>\n",
       "      <td>False</td>\n",
       "    </tr>\n",
       "    <tr>\n",
       "      <th>...</th>\n",
       "      <td>...</td>\n",
       "      <td>...</td>\n",
       "      <td>...</td>\n",
       "      <td>...</td>\n",
       "      <td>...</td>\n",
       "      <td>...</td>\n",
       "      <td>...</td>\n",
       "      <td>...</td>\n",
       "      <td>...</td>\n",
       "      <td>...</td>\n",
       "      <td>...</td>\n",
       "      <td>...</td>\n",
       "      <td>...</td>\n",
       "      <td>...</td>\n",
       "      <td>...</td>\n",
       "      <td>...</td>\n",
       "      <td>...</td>\n",
       "      <td>...</td>\n",
       "      <td>...</td>\n",
       "      <td>...</td>\n",
       "      <td>...</td>\n",
       "    </tr>\n",
       "    <tr>\n",
       "      <th>3723</th>\n",
       "      <td>None</td>\n",
       "      <td>None</td>\n",
       "      <td>None</td>\n",
       "      <td>1113.309917</td>\n",
       "      <td>1114.371625</td>\n",
       "      <td>NaN</td>\n",
       "      <td>NaN</td>\n",
       "      <td>1.061708</td>\n",
       "      <td>NaN</td>\n",
       "      <td>NaN</td>\n",
       "      <td>...</td>\n",
       "      <td>[[0.011140447, 0.019048119, 0.005185865, 0.003...</td>\n",
       "      <td>[1113.3099166666666, 1113.3227083333334, 1113....</td>\n",
       "      <td>None</td>\n",
       "      <td>False</td>\n",
       "      <td>False</td>\n",
       "      <td>True</td>\n",
       "      <td>False</td>\n",
       "      <td>False</td>\n",
       "      <td>False</td>\n",
       "      <td>False</td>\n",
       "    </tr>\n",
       "    <tr>\n",
       "      <th>3724</th>\n",
       "      <td>None</td>\n",
       "      <td>None</td>\n",
       "      <td>None</td>\n",
       "      <td>755.232792</td>\n",
       "      <td>756.294500</td>\n",
       "      <td>NaN</td>\n",
       "      <td>NaN</td>\n",
       "      <td>1.061708</td>\n",
       "      <td>NaN</td>\n",
       "      <td>NaN</td>\n",
       "      <td>...</td>\n",
       "      <td>[[0.0016650123, 0.001, 0.0024891268, 0.0017487...</td>\n",
       "      <td>[755.2327916666667, 755.2455833333333, 755.258...</td>\n",
       "      <td>None</td>\n",
       "      <td>False</td>\n",
       "      <td>False</td>\n",
       "      <td>True</td>\n",
       "      <td>False</td>\n",
       "      <td>False</td>\n",
       "      <td>False</td>\n",
       "      <td>False</td>\n",
       "    </tr>\n",
       "    <tr>\n",
       "      <th>3725</th>\n",
       "      <td>None</td>\n",
       "      <td>None</td>\n",
       "      <td>None</td>\n",
       "      <td>59.506833</td>\n",
       "      <td>60.568542</td>\n",
       "      <td>NaN</td>\n",
       "      <td>NaN</td>\n",
       "      <td>1.061708</td>\n",
       "      <td>NaN</td>\n",
       "      <td>NaN</td>\n",
       "      <td>...</td>\n",
       "      <td>[[0.001, 0.0014154905, 0.002194438, 0.001, 0.0...</td>\n",
       "      <td>[59.50683333333333, 59.519625, 59.532416666666...</td>\n",
       "      <td>None</td>\n",
       "      <td>False</td>\n",
       "      <td>False</td>\n",
       "      <td>True</td>\n",
       "      <td>False</td>\n",
       "      <td>False</td>\n",
       "      <td>False</td>\n",
       "      <td>False</td>\n",
       "    </tr>\n",
       "    <tr>\n",
       "      <th>3726</th>\n",
       "      <td>None</td>\n",
       "      <td>None</td>\n",
       "      <td>None</td>\n",
       "      <td>250.895750</td>\n",
       "      <td>251.957458</td>\n",
       "      <td>NaN</td>\n",
       "      <td>NaN</td>\n",
       "      <td>1.061708</td>\n",
       "      <td>NaN</td>\n",
       "      <td>NaN</td>\n",
       "      <td>...</td>\n",
       "      <td>[[0.0031127078, 0.002369191, 0.010698743, 0.00...</td>\n",
       "      <td>[250.89575, 250.90854166666668, 250.9213333333...</td>\n",
       "      <td>None</td>\n",
       "      <td>False</td>\n",
       "      <td>False</td>\n",
       "      <td>True</td>\n",
       "      <td>False</td>\n",
       "      <td>False</td>\n",
       "      <td>False</td>\n",
       "      <td>False</td>\n",
       "    </tr>\n",
       "    <tr>\n",
       "      <th>3727</th>\n",
       "      <td>None</td>\n",
       "      <td>None</td>\n",
       "      <td>None</td>\n",
       "      <td>89.439333</td>\n",
       "      <td>90.501042</td>\n",
       "      <td>NaN</td>\n",
       "      <td>NaN</td>\n",
       "      <td>1.061708</td>\n",
       "      <td>NaN</td>\n",
       "      <td>NaN</td>\n",
       "      <td>...</td>\n",
       "      <td>[[0.007421362, 0.0011346681, 0.008094819, 0.00...</td>\n",
       "      <td>[89.43933333333334, 89.452125, 89.464916666666...</td>\n",
       "      <td>None</td>\n",
       "      <td>False</td>\n",
       "      <td>False</td>\n",
       "      <td>True</td>\n",
       "      <td>False</td>\n",
       "      <td>False</td>\n",
       "      <td>False</td>\n",
       "      <td>False</td>\n",
       "    </tr>\n",
       "  </tbody>\n",
       "</table>\n",
       "<p>3728 rows × 22 columns</p>\n",
       "</div>"
      ],
      "text/plain": [
       "     Selection           View Channel  Begin Time (s)  End Time (s)  \\\n",
       "0            1  Spectrogram 1       1        4.136987      4.657535   \n",
       "1            2  Spectrogram 1       1        3.789955      4.264841   \n",
       "2            3  Spectrogram 1       1       14.840188     15.406398   \n",
       "3            4  Spectrogram 1       1       24.543802     25.082615   \n",
       "4            5  Spectrogram 1       1       35.989220     36.573694   \n",
       "...        ...            ...     ...             ...           ...   \n",
       "3723      None           None    None     1113.309917   1114.371625   \n",
       "3724      None           None    None      755.232792    756.294500   \n",
       "3725      None           None    None       59.506833     60.568542   \n",
       "3726      None           None    None      250.895750    251.957458   \n",
       "3727      None           None    None       89.439333     90.501042   \n",
       "\n",
       "      Low Freq (Hz)  High Freq (Hz)  Delta Time (s)  Delta Freq (Hz)  \\\n",
       "0           173.956         286.792        0.520500          112.836   \n",
       "1           371.419         451.345        0.474900           79.926   \n",
       "2           136.660         445.248        0.566200          308.588   \n",
       "3           167.519         392.347        0.538800          224.828   \n",
       "4           119.027         436.431        0.584500          317.405   \n",
       "...             ...             ...             ...              ...   \n",
       "3723            NaN             NaN        1.061708              NaN   \n",
       "3724            NaN             NaN        1.061708              NaN   \n",
       "3725            NaN             NaN        1.061708              NaN   \n",
       "3726            NaN             NaN        1.061708              NaN   \n",
       "3727            NaN             NaN        1.061708              NaN   \n",
       "\n",
       "      Avg Power Density (dB FS/Hz)  ...  \\\n",
       "0                           -82.85  ...   \n",
       "1                           -92.16  ...   \n",
       "2                           -88.96  ...   \n",
       "3                           -86.10  ...   \n",
       "4                           -80.18  ...   \n",
       "...                            ...  ...   \n",
       "3723                           NaN  ...   \n",
       "3724                           NaN  ...   \n",
       "3725                           NaN  ...   \n",
       "3726                           NaN  ...   \n",
       "3727                           NaN  ...   \n",
       "\n",
       "                                    snippet_spectrogram  \\\n",
       "0     [[10.569122314453125, 4.712647438049316, 1.273...   \n",
       "1     [[42.39829635620117, 55.68126678466797, 83.361...   \n",
       "2     [[29.341825485229492, 8.032623291015625, 43.69...   \n",
       "3     [[0.28541040420532227, 0.41072168946266174, 2....   \n",
       "4     [[13.951732635498047, 23.50061798095703, 20.28...   \n",
       "...                                                 ...   \n",
       "3723  [[0.011140447, 0.019048119, 0.005185865, 0.003...   \n",
       "3724  [[0.0016650123, 0.001, 0.0024891268, 0.0017487...   \n",
       "3725  [[0.001, 0.0014154905, 0.002194438, 0.001, 0.0...   \n",
       "3726  [[0.0031127078, 0.002369191, 0.010698743, 0.00...   \n",
       "3727  [[0.007421362, 0.0011346681, 0.008094819, 0.00...   \n",
       "\n",
       "                                          snippet_times  \\\n",
       "0     [4.131708333333333, 4.1445, 4.157291666666667,...   \n",
       "1     [3.7863333333333333, 3.799125, 3.8119166666666...   \n",
       "2     [14.838333333333333, 14.851125, 14.86391666666...   \n",
       "3     [24.547208333333334, 24.56, 24.572791666666667...   \n",
       "4     [35.982958333333336, 35.99575, 36.008541666666...   \n",
       "...                                                 ...   \n",
       "3723  [1113.3099166666666, 1113.3227083333334, 1113....   \n",
       "3724  [755.2327916666667, 755.2455833333333, 755.258...   \n",
       "3725  [59.50683333333333, 59.519625, 59.532416666666...   \n",
       "3726  [250.89575, 250.90854166666668, 250.9213333333...   \n",
       "3727  [89.43933333333334, 89.452125, 89.464916666666...   \n",
       "\n",
       "                                    snippet_frequencies Annotation_G Rupe  \\\n",
       "0     [23.4375, 46.875, 70.3125, 93.75, 117.1875, 14...              True   \n",
       "1     [23.4375, 46.875, 70.3125, 93.75, 117.1875, 14...              True   \n",
       "2     [23.4375, 46.875, 70.3125, 93.75, 117.1875, 14...              True   \n",
       "3     [23.4375, 46.875, 70.3125, 93.75, 117.1875, 14...              True   \n",
       "4     [23.4375, 46.875, 70.3125, 93.75, 117.1875, 14...              True   \n",
       "...                                                 ...               ...   \n",
       "3723                                               None             False   \n",
       "3724                                               None             False   \n",
       "3725                                               None             False   \n",
       "3726                                               None             False   \n",
       "3727                                               None             False   \n",
       "\n",
       "     Annotation_Moan  Annotation_No Call  Annotation_Rupe A  \\\n",
       "0              False               False              False   \n",
       "1              False               False              False   \n",
       "2              False               False              False   \n",
       "3              False               False              False   \n",
       "4              False               False              False   \n",
       "...              ...                 ...                ...   \n",
       "3723           False                True              False   \n",
       "3724           False                True              False   \n",
       "3725           False                True              False   \n",
       "3726           False                True              False   \n",
       "3727           False                True              False   \n",
       "\n",
       "      Annotation_Rupe B  Annotation_Rupe C  Annotation_Type 4 A  \n",
       "0                 False              False                False  \n",
       "1                 False              False                False  \n",
       "2                 False              False                False  \n",
       "3                 False              False                False  \n",
       "4                 False              False                False  \n",
       "...                 ...                ...                  ...  \n",
       "3723              False              False                False  \n",
       "3724              False              False                False  \n",
       "3725              False              False                False  \n",
       "3726              False              False                False  \n",
       "3727              False              False                False  \n",
       "\n",
       "[3728 rows x 22 columns]"
      ]
     },
     "execution_count": 136,
     "metadata": {},
     "output_type": "execute_result"
    }
   ],
   "source": [
    "# Load in processed data\n",
    "df = pd.read_pickle('processed_data.pkl')\n",
    "df"
   ]
  },
  {
   "cell_type": "code",
   "execution_count": 137,
   "metadata": {},
   "outputs": [
    {
     "name": "stdout",
     "output_type": "stream",
     "text": [
      "Unique shapes in 'snippet_spectrogram':\n",
      "snippet_spectrogram\n",
      "(42, 84)    3728\n",
      "Name: count, dtype: int64\n"
     ]
    }
   ],
   "source": [
    "# Shuffle\n",
    "df = shuffle(df)\n",
    "\n",
    "# Get the shapes\n",
    "shapes = df['snippet_spectrogram'].apply(lambda x: x.shape if isinstance(x, np.ndarray) else None)\n",
    "\n",
    "# Count unique shapes\n",
    "print(\"Unique shapes in 'snippet_spectrogram':\")\n",
    "print(shapes.value_counts())"
   ]
  },
  {
   "cell_type": "code",
   "execution_count": 138,
   "metadata": {},
   "outputs": [
    {
     "name": "stdout",
     "output_type": "stream",
     "text": [
      "(3728,)\n",
      "(3728, 42, 84)\n"
     ]
    }
   ],
   "source": [
    "X = df[['snippet_spectrogram']].to_numpy()\n",
    "\n",
    "# \"Flatten\" the (3742, 1) array to (3742,)\n",
    "X = X.ravel()\n",
    "print(X.shape)\n",
    "\n",
    "# Stack along a new axis to get shape (3742, 42, 84)\n",
    "X = np.stack(X, axis=0)\n",
    "print(X.shape)\n"
   ]
  },
  {
   "cell_type": "code",
   "execution_count": 139,
   "metadata": {},
   "outputs": [
    {
     "data": {
      "text/plain": [
       "(3728, 42, 84)"
      ]
     },
     "execution_count": 139,
     "metadata": {},
     "output_type": "execute_result"
    }
   ],
   "source": [
    "# Reshape to 2D for MinMaxScaler\n",
    "X_reshaped = X.reshape(-1, X.shape[-2])  # Shape: (3742 * 42, 84)\n",
    "\n",
    "# Apply MinMaxScaler\n",
    "scaler = MinMaxScaler()\n",
    "X_scaled = scaler.fit_transform(X_reshaped)\n",
    "\n",
    "# Reshape back to the original shape\n",
    "X = X_scaled.reshape(X.shape)\n",
    "\n",
    "X.shape"
   ]
  },
  {
   "cell_type": "code",
   "execution_count": 140,
   "metadata": {},
   "outputs": [
    {
     "name": "stdout",
     "output_type": "stream",
     "text": [
      "Train shape: (2982, 42, 84) Test shape: (746, 42, 84)\n"
     ]
    }
   ],
   "source": [
    "from sklearn.model_selection import train_test_split\n",
    "\n",
    "X = np.stack(df['snippet_spectrogram'].values)\n",
    "y = df[[col for col in df.columns if col.startswith(\"Annotation_\")]]  # Select annotation columns\n",
    "\n",
    "# `y` contains one-hot encoded labels\n",
    "stratify_labels = y.idxmax(axis=1)\n",
    "\n",
    "X_train, X_test, y_train, y_test = train_test_split(\n",
    "    X, \n",
    "    y, \n",
    "    test_size=0.2, \n",
    "    random_state=42, \n",
    "    stratify=stratify_labels\n",
    ")\n",
    "\n",
    "print(\"Train shape:\", X_train.shape, \"Test shape:\", X_test.shape)"
   ]
  },
  {
   "cell_type": "code",
   "execution_count": 141,
   "metadata": {},
   "outputs": [
    {
     "data": {
      "text/plain": [
       "636      Annotation_G Rupe\n",
       "3121    Annotation_No Call\n",
       "555      Annotation_G Rupe\n",
       "2576    Annotation_No Call\n",
       "1958    Annotation_No Call\n",
       "               ...        \n",
       "2131    Annotation_No Call\n",
       "1465     Annotation_Rupe A\n",
       "120      Annotation_G Rupe\n",
       "2449    Annotation_No Call\n",
       "2892    Annotation_No Call\n",
       "Length: 3728, dtype: object"
      ]
     },
     "execution_count": 141,
     "metadata": {},
     "output_type": "execute_result"
    }
   ],
   "source": [
    "stratify_labels"
   ]
  },
  {
   "cell_type": "code",
   "execution_count": 142,
   "metadata": {},
   "outputs": [],
   "source": [
    "num_classes = len(stratify_labels.unique())\n",
    "\n",
    "model = tf.keras.models.Sequential()\n",
    "model.add(tf.keras.Input(shape=(42, 84, 1)))\n",
    "model.add(layers.Conv2D(16, 3, padding='same', activation='relu'))\n",
    "model.add(layers.MaxPooling2D())\n",
    "model.add(layers.Conv2D(32, 3, padding='same', activation='relu'))\n",
    "model.add(layers.MaxPooling2D())\n",
    "model.add(layers.Conv2D(64, 3, padding='same', activation='relu'))\n",
    "model.add(layers.MaxPooling2D())\n",
    "model.add(layers.Flatten())\n",
    "model.add(layers.Dense(128, activation='relu'))\n",
    "model.add(layers.Dense(num_classes, activation='softmax'))\n"
   ]
  },
  {
   "cell_type": "code",
   "execution_count": 143,
   "metadata": {},
   "outputs": [
    {
     "data": {
      "text/html": [
       "<pre style=\"white-space:pre;overflow-x:auto;line-height:normal;font-family:Menlo,'DejaVu Sans Mono',consolas,'Courier New',monospace\"><span style=\"font-weight: bold\">Model: \"sequential_6\"</span>\n",
       "</pre>\n"
      ],
      "text/plain": [
       "\u001b[1mModel: \"sequential_6\"\u001b[0m\n"
      ]
     },
     "metadata": {},
     "output_type": "display_data"
    },
    {
     "data": {
      "text/html": [
       "<pre style=\"white-space:pre;overflow-x:auto;line-height:normal;font-family:Menlo,'DejaVu Sans Mono',consolas,'Courier New',monospace\">┏━━━━━━━━━━━━━━━━━━━━━━━━━━━━━━━━━┳━━━━━━━━━━━━━━━━━━━━━━━━┳━━━━━━━━━━━━━━━┓\n",
       "┃<span style=\"font-weight: bold\"> Layer (type)                    </span>┃<span style=\"font-weight: bold\"> Output Shape           </span>┃<span style=\"font-weight: bold\">       Param # </span>┃\n",
       "┡━━━━━━━━━━━━━━━━━━━━━━━━━━━━━━━━━╇━━━━━━━━━━━━━━━━━━━━━━━━╇━━━━━━━━━━━━━━━┩\n",
       "│ conv2d_18 (<span style=\"color: #0087ff; text-decoration-color: #0087ff\">Conv2D</span>)              │ (<span style=\"color: #00d7ff; text-decoration-color: #00d7ff\">None</span>, <span style=\"color: #00af00; text-decoration-color: #00af00\">42</span>, <span style=\"color: #00af00; text-decoration-color: #00af00\">84</span>, <span style=\"color: #00af00; text-decoration-color: #00af00\">16</span>)     │           <span style=\"color: #00af00; text-decoration-color: #00af00\">160</span> │\n",
       "├─────────────────────────────────┼────────────────────────┼───────────────┤\n",
       "│ max_pooling2d_18 (<span style=\"color: #0087ff; text-decoration-color: #0087ff\">MaxPooling2D</span>) │ (<span style=\"color: #00d7ff; text-decoration-color: #00d7ff\">None</span>, <span style=\"color: #00af00; text-decoration-color: #00af00\">21</span>, <span style=\"color: #00af00; text-decoration-color: #00af00\">42</span>, <span style=\"color: #00af00; text-decoration-color: #00af00\">16</span>)     │             <span style=\"color: #00af00; text-decoration-color: #00af00\">0</span> │\n",
       "├─────────────────────────────────┼────────────────────────┼───────────────┤\n",
       "│ conv2d_19 (<span style=\"color: #0087ff; text-decoration-color: #0087ff\">Conv2D</span>)              │ (<span style=\"color: #00d7ff; text-decoration-color: #00d7ff\">None</span>, <span style=\"color: #00af00; text-decoration-color: #00af00\">21</span>, <span style=\"color: #00af00; text-decoration-color: #00af00\">42</span>, <span style=\"color: #00af00; text-decoration-color: #00af00\">32</span>)     │         <span style=\"color: #00af00; text-decoration-color: #00af00\">4,640</span> │\n",
       "├─────────────────────────────────┼────────────────────────┼───────────────┤\n",
       "│ max_pooling2d_19 (<span style=\"color: #0087ff; text-decoration-color: #0087ff\">MaxPooling2D</span>) │ (<span style=\"color: #00d7ff; text-decoration-color: #00d7ff\">None</span>, <span style=\"color: #00af00; text-decoration-color: #00af00\">10</span>, <span style=\"color: #00af00; text-decoration-color: #00af00\">21</span>, <span style=\"color: #00af00; text-decoration-color: #00af00\">32</span>)     │             <span style=\"color: #00af00; text-decoration-color: #00af00\">0</span> │\n",
       "├─────────────────────────────────┼────────────────────────┼───────────────┤\n",
       "│ conv2d_20 (<span style=\"color: #0087ff; text-decoration-color: #0087ff\">Conv2D</span>)              │ (<span style=\"color: #00d7ff; text-decoration-color: #00d7ff\">None</span>, <span style=\"color: #00af00; text-decoration-color: #00af00\">10</span>, <span style=\"color: #00af00; text-decoration-color: #00af00\">21</span>, <span style=\"color: #00af00; text-decoration-color: #00af00\">64</span>)     │        <span style=\"color: #00af00; text-decoration-color: #00af00\">18,496</span> │\n",
       "├─────────────────────────────────┼────────────────────────┼───────────────┤\n",
       "│ max_pooling2d_20 (<span style=\"color: #0087ff; text-decoration-color: #0087ff\">MaxPooling2D</span>) │ (<span style=\"color: #00d7ff; text-decoration-color: #00d7ff\">None</span>, <span style=\"color: #00af00; text-decoration-color: #00af00\">5</span>, <span style=\"color: #00af00; text-decoration-color: #00af00\">10</span>, <span style=\"color: #00af00; text-decoration-color: #00af00\">64</span>)      │             <span style=\"color: #00af00; text-decoration-color: #00af00\">0</span> │\n",
       "├─────────────────────────────────┼────────────────────────┼───────────────┤\n",
       "│ flatten_6 (<span style=\"color: #0087ff; text-decoration-color: #0087ff\">Flatten</span>)             │ (<span style=\"color: #00d7ff; text-decoration-color: #00d7ff\">None</span>, <span style=\"color: #00af00; text-decoration-color: #00af00\">3200</span>)           │             <span style=\"color: #00af00; text-decoration-color: #00af00\">0</span> │\n",
       "├─────────────────────────────────┼────────────────────────┼───────────────┤\n",
       "│ dense_12 (<span style=\"color: #0087ff; text-decoration-color: #0087ff\">Dense</span>)                │ (<span style=\"color: #00d7ff; text-decoration-color: #00d7ff\">None</span>, <span style=\"color: #00af00; text-decoration-color: #00af00\">128</span>)            │       <span style=\"color: #00af00; text-decoration-color: #00af00\">409,728</span> │\n",
       "├─────────────────────────────────┼────────────────────────┼───────────────┤\n",
       "│ dense_13 (<span style=\"color: #0087ff; text-decoration-color: #0087ff\">Dense</span>)                │ (<span style=\"color: #00d7ff; text-decoration-color: #00d7ff\">None</span>, <span style=\"color: #00af00; text-decoration-color: #00af00\">7</span>)              │           <span style=\"color: #00af00; text-decoration-color: #00af00\">903</span> │\n",
       "└─────────────────────────────────┴────────────────────────┴───────────────┘\n",
       "</pre>\n"
      ],
      "text/plain": [
       "┏━━━━━━━━━━━━━━━━━━━━━━━━━━━━━━━━━┳━━━━━━━━━━━━━━━━━━━━━━━━┳━━━━━━━━━━━━━━━┓\n",
       "┃\u001b[1m \u001b[0m\u001b[1mLayer (type)                   \u001b[0m\u001b[1m \u001b[0m┃\u001b[1m \u001b[0m\u001b[1mOutput Shape          \u001b[0m\u001b[1m \u001b[0m┃\u001b[1m \u001b[0m\u001b[1m      Param #\u001b[0m\u001b[1m \u001b[0m┃\n",
       "┡━━━━━━━━━━━━━━━━━━━━━━━━━━━━━━━━━╇━━━━━━━━━━━━━━━━━━━━━━━━╇━━━━━━━━━━━━━━━┩\n",
       "│ conv2d_18 (\u001b[38;5;33mConv2D\u001b[0m)              │ (\u001b[38;5;45mNone\u001b[0m, \u001b[38;5;34m42\u001b[0m, \u001b[38;5;34m84\u001b[0m, \u001b[38;5;34m16\u001b[0m)     │           \u001b[38;5;34m160\u001b[0m │\n",
       "├─────────────────────────────────┼────────────────────────┼───────────────┤\n",
       "│ max_pooling2d_18 (\u001b[38;5;33mMaxPooling2D\u001b[0m) │ (\u001b[38;5;45mNone\u001b[0m, \u001b[38;5;34m21\u001b[0m, \u001b[38;5;34m42\u001b[0m, \u001b[38;5;34m16\u001b[0m)     │             \u001b[38;5;34m0\u001b[0m │\n",
       "├─────────────────────────────────┼────────────────────────┼───────────────┤\n",
       "│ conv2d_19 (\u001b[38;5;33mConv2D\u001b[0m)              │ (\u001b[38;5;45mNone\u001b[0m, \u001b[38;5;34m21\u001b[0m, \u001b[38;5;34m42\u001b[0m, \u001b[38;5;34m32\u001b[0m)     │         \u001b[38;5;34m4,640\u001b[0m │\n",
       "├─────────────────────────────────┼────────────────────────┼───────────────┤\n",
       "│ max_pooling2d_19 (\u001b[38;5;33mMaxPooling2D\u001b[0m) │ (\u001b[38;5;45mNone\u001b[0m, \u001b[38;5;34m10\u001b[0m, \u001b[38;5;34m21\u001b[0m, \u001b[38;5;34m32\u001b[0m)     │             \u001b[38;5;34m0\u001b[0m │\n",
       "├─────────────────────────────────┼────────────────────────┼───────────────┤\n",
       "│ conv2d_20 (\u001b[38;5;33mConv2D\u001b[0m)              │ (\u001b[38;5;45mNone\u001b[0m, \u001b[38;5;34m10\u001b[0m, \u001b[38;5;34m21\u001b[0m, \u001b[38;5;34m64\u001b[0m)     │        \u001b[38;5;34m18,496\u001b[0m │\n",
       "├─────────────────────────────────┼────────────────────────┼───────────────┤\n",
       "│ max_pooling2d_20 (\u001b[38;5;33mMaxPooling2D\u001b[0m) │ (\u001b[38;5;45mNone\u001b[0m, \u001b[38;5;34m5\u001b[0m, \u001b[38;5;34m10\u001b[0m, \u001b[38;5;34m64\u001b[0m)      │             \u001b[38;5;34m0\u001b[0m │\n",
       "├─────────────────────────────────┼────────────────────────┼───────────────┤\n",
       "│ flatten_6 (\u001b[38;5;33mFlatten\u001b[0m)             │ (\u001b[38;5;45mNone\u001b[0m, \u001b[38;5;34m3200\u001b[0m)           │             \u001b[38;5;34m0\u001b[0m │\n",
       "├─────────────────────────────────┼────────────────────────┼───────────────┤\n",
       "│ dense_12 (\u001b[38;5;33mDense\u001b[0m)                │ (\u001b[38;5;45mNone\u001b[0m, \u001b[38;5;34m128\u001b[0m)            │       \u001b[38;5;34m409,728\u001b[0m │\n",
       "├─────────────────────────────────┼────────────────────────┼───────────────┤\n",
       "│ dense_13 (\u001b[38;5;33mDense\u001b[0m)                │ (\u001b[38;5;45mNone\u001b[0m, \u001b[38;5;34m7\u001b[0m)              │           \u001b[38;5;34m903\u001b[0m │\n",
       "└─────────────────────────────────┴────────────────────────┴───────────────┘\n"
      ]
     },
     "metadata": {},
     "output_type": "display_data"
    },
    {
     "data": {
      "text/html": [
       "<pre style=\"white-space:pre;overflow-x:auto;line-height:normal;font-family:Menlo,'DejaVu Sans Mono',consolas,'Courier New',monospace\"><span style=\"font-weight: bold\"> Total params: </span><span style=\"color: #00af00; text-decoration-color: #00af00\">433,927</span> (1.66 MB)\n",
       "</pre>\n"
      ],
      "text/plain": [
       "\u001b[1m Total params: \u001b[0m\u001b[38;5;34m433,927\u001b[0m (1.66 MB)\n"
      ]
     },
     "metadata": {},
     "output_type": "display_data"
    },
    {
     "data": {
      "text/html": [
       "<pre style=\"white-space:pre;overflow-x:auto;line-height:normal;font-family:Menlo,'DejaVu Sans Mono',consolas,'Courier New',monospace\"><span style=\"font-weight: bold\"> Trainable params: </span><span style=\"color: #00af00; text-decoration-color: #00af00\">433,927</span> (1.66 MB)\n",
       "</pre>\n"
      ],
      "text/plain": [
       "\u001b[1m Trainable params: \u001b[0m\u001b[38;5;34m433,927\u001b[0m (1.66 MB)\n"
      ]
     },
     "metadata": {},
     "output_type": "display_data"
    },
    {
     "data": {
      "text/html": [
       "<pre style=\"white-space:pre;overflow-x:auto;line-height:normal;font-family:Menlo,'DejaVu Sans Mono',consolas,'Courier New',monospace\"><span style=\"font-weight: bold\"> Non-trainable params: </span><span style=\"color: #00af00; text-decoration-color: #00af00\">0</span> (0.00 B)\n",
       "</pre>\n"
      ],
      "text/plain": [
       "\u001b[1m Non-trainable params: \u001b[0m\u001b[38;5;34m0\u001b[0m (0.00 B)\n"
      ]
     },
     "metadata": {},
     "output_type": "display_data"
    }
   ],
   "source": [
    "model.summary()"
   ]
  },
  {
   "cell_type": "code",
   "execution_count": 144,
   "metadata": {},
   "outputs": [],
   "source": [
    "model.compile(\n",
    "    optimizer=tf.keras.optimizers.Adam(0.001),\n",
    "    loss=tf.keras.losses.CategoricalCrossentropy(from_logits=False),  #from_logits=False as softmax is on the output of the CNN\n",
    "    metrics=['accuracy'],\n",
    ")"
   ]
  },
  {
   "cell_type": "code",
   "execution_count": 145,
   "metadata": {},
   "outputs": [
    {
     "name": "stdout",
     "output_type": "stream",
     "text": [
      "Epoch 1/40\n",
      "\u001b[1m75/75\u001b[0m \u001b[32m━━━━━━━━━━━━━━━━━━━━\u001b[0m\u001b[37m\u001b[0m \u001b[1m2s\u001b[0m 9ms/step - accuracy: 0.6114 - loss: 16.0226 - val_accuracy: 0.5159 - val_loss: 1.2149\n",
      "Epoch 2/40\n",
      "\u001b[1m75/75\u001b[0m \u001b[32m━━━━━━━━━━━━━━━━━━━━\u001b[0m\u001b[37m\u001b[0m \u001b[1m1s\u001b[0m 7ms/step - accuracy: 0.6008 - loss: 1.0418 - val_accuracy: 0.7119 - val_loss: 16.7980\n",
      "Epoch 3/40\n",
      "\u001b[1m75/75\u001b[0m \u001b[32m━━━━━━━━━━━━━━━━━━━━\u001b[0m\u001b[37m\u001b[0m \u001b[1m1s\u001b[0m 8ms/step - accuracy: 0.7151 - loss: 3.4720 - val_accuracy: 0.7253 - val_loss: 13.9115\n",
      "Epoch 4/40\n",
      "\u001b[1m75/75\u001b[0m \u001b[32m━━━━━━━━━━━━━━━━━━━━\u001b[0m\u001b[37m\u001b[0m \u001b[1m1s\u001b[0m 7ms/step - accuracy: 0.7753 - loss: 0.6132 - val_accuracy: 0.8358 - val_loss: 20.5088\n",
      "Epoch 5/40\n",
      "\u001b[1m75/75\u001b[0m \u001b[32m━━━━━━━━━━━━━━━━━━━━\u001b[0m\u001b[37m\u001b[0m \u001b[1m1s\u001b[0m 8ms/step - accuracy: 0.8312 - loss: 0.4753 - val_accuracy: 0.8358 - val_loss: 16.6007\n",
      "Epoch 6/40\n",
      "\u001b[1m75/75\u001b[0m \u001b[32m━━━━━━━━━━━━━━━━━━━━\u001b[0m\u001b[37m\u001b[0m \u001b[1m1s\u001b[0m 8ms/step - accuracy: 0.8673 - loss: 0.4110 - val_accuracy: 0.8710 - val_loss: 18.3612\n",
      "Epoch 7/40\n",
      "\u001b[1m75/75\u001b[0m \u001b[32m━━━━━━━━━━━━━━━━━━━━\u001b[0m\u001b[37m\u001b[0m \u001b[1m1s\u001b[0m 7ms/step - accuracy: 0.8711 - loss: 0.3860 - val_accuracy: 0.8626 - val_loss: 19.1301\n",
      "Epoch 8/40\n",
      "\u001b[1m75/75\u001b[0m \u001b[32m━━━━━━━━━━━━━━━━━━━━\u001b[0m\u001b[37m\u001b[0m \u001b[1m1s\u001b[0m 7ms/step - accuracy: 0.8842 - loss: 0.3534 - val_accuracy: 0.8911 - val_loss: 21.9519\n",
      "Epoch 9/40\n",
      "\u001b[1m75/75\u001b[0m \u001b[32m━━━━━━━━━━━━━━━━━━━━\u001b[0m\u001b[37m\u001b[0m \u001b[1m1s\u001b[0m 7ms/step - accuracy: 0.8905 - loss: 0.3264 - val_accuracy: 0.9112 - val_loss: 27.4819\n",
      "Epoch 10/40\n",
      "\u001b[1m75/75\u001b[0m \u001b[32m━━━━━━━━━━━━━━━━━━━━\u001b[0m\u001b[37m\u001b[0m \u001b[1m1s\u001b[0m 7ms/step - accuracy: 0.8939 - loss: 0.3328 - val_accuracy: 0.9045 - val_loss: 31.6138\n",
      "Epoch 11/40\n",
      "\u001b[1m75/75\u001b[0m \u001b[32m━━━━━━━━━━━━━━━━━━━━\u001b[0m\u001b[37m\u001b[0m \u001b[1m1s\u001b[0m 7ms/step - accuracy: 0.9131 - loss: 0.2892 - val_accuracy: 0.9028 - val_loss: 29.3982\n",
      "Epoch 12/40\n",
      "\u001b[1m75/75\u001b[0m \u001b[32m━━━━━━━━━━━━━━━━━━━━\u001b[0m\u001b[37m\u001b[0m \u001b[1m1s\u001b[0m 8ms/step - accuracy: 0.9279 - loss: 0.2422 - val_accuracy: 0.8794 - val_loss: 33.8117\n",
      "Epoch 13/40\n",
      "\u001b[1m75/75\u001b[0m \u001b[32m━━━━━━━━━━━━━━━━━━━━\u001b[0m\u001b[37m\u001b[0m \u001b[1m1s\u001b[0m 7ms/step - accuracy: 0.9173 - loss: 0.2613 - val_accuracy: 0.9045 - val_loss: 33.2220\n",
      "Epoch 14/40\n",
      "\u001b[1m75/75\u001b[0m \u001b[32m━━━━━━━━━━━━━━━━━━━━\u001b[0m\u001b[37m\u001b[0m \u001b[1m1s\u001b[0m 7ms/step - accuracy: 0.9216 - loss: 0.2640 - val_accuracy: 0.9213 - val_loss: 34.8177\n",
      "Epoch 15/40\n",
      "\u001b[1m75/75\u001b[0m \u001b[32m━━━━━━━━━━━━━━━━━━━━\u001b[0m\u001b[37m\u001b[0m \u001b[1m1s\u001b[0m 8ms/step - accuracy: 0.9294 - loss: 0.2243 - val_accuracy: 0.9112 - val_loss: 25.9998\n",
      "Epoch 16/40\n",
      "\u001b[1m75/75\u001b[0m \u001b[32m━━━━━━━━━━━━━━━━━━━━\u001b[0m\u001b[37m\u001b[0m \u001b[1m1s\u001b[0m 8ms/step - accuracy: 0.9164 - loss: 0.2674 - val_accuracy: 0.9129 - val_loss: 11.3518\n",
      "Epoch 17/40\n",
      "\u001b[1m75/75\u001b[0m \u001b[32m━━━━━━━━━━━━━━━━━━━━\u001b[0m\u001b[37m\u001b[0m \u001b[1m1s\u001b[0m 8ms/step - accuracy: 0.9251 - loss: 0.2325 - val_accuracy: 0.9079 - val_loss: 1.2171\n",
      "Epoch 18/40\n",
      "\u001b[1m75/75\u001b[0m \u001b[32m━━━━━━━━━━━━━━━━━━━━\u001b[0m\u001b[37m\u001b[0m \u001b[1m1s\u001b[0m 8ms/step - accuracy: 0.9385 - loss: 0.2213 - val_accuracy: 0.9129 - val_loss: 1.3726\n",
      "Epoch 19/40\n",
      "\u001b[1m75/75\u001b[0m \u001b[32m━━━━━━━━━━━━━━━━━━━━\u001b[0m\u001b[37m\u001b[0m \u001b[1m1s\u001b[0m 8ms/step - accuracy: 0.9318 - loss: 0.2122 - val_accuracy: 0.9246 - val_loss: 1.2857\n",
      "Epoch 20/40\n",
      "\u001b[1m75/75\u001b[0m \u001b[32m━━━━━━━━━━━━━━━━━━━━\u001b[0m\u001b[37m\u001b[0m \u001b[1m1s\u001b[0m 8ms/step - accuracy: 0.9324 - loss: 0.2166 - val_accuracy: 0.9162 - val_loss: 1.2125\n",
      "Epoch 21/40\n",
      "\u001b[1m75/75\u001b[0m \u001b[32m━━━━━━━━━━━━━━━━━━━━\u001b[0m\u001b[37m\u001b[0m \u001b[1m1s\u001b[0m 8ms/step - accuracy: 0.9356 - loss: 0.2070 - val_accuracy: 0.9229 - val_loss: 2.5401\n",
      "Epoch 22/40\n",
      "\u001b[1m75/75\u001b[0m \u001b[32m━━━━━━━━━━━━━━━━━━━━\u001b[0m\u001b[37m\u001b[0m \u001b[1m1s\u001b[0m 8ms/step - accuracy: 0.9241 - loss: 0.2159 - val_accuracy: 0.9229 - val_loss: 0.9167\n",
      "Epoch 23/40\n",
      "\u001b[1m75/75\u001b[0m \u001b[32m━━━━━━━━━━━━━━━━━━━━\u001b[0m\u001b[37m\u001b[0m \u001b[1m1s\u001b[0m 7ms/step - accuracy: 0.9402 - loss: 0.1861 - val_accuracy: 0.9146 - val_loss: 1.0734\n",
      "Epoch 24/40\n",
      "\u001b[1m75/75\u001b[0m \u001b[32m━━━━━━━━━━━━━━━━━━━━\u001b[0m\u001b[37m\u001b[0m \u001b[1m1s\u001b[0m 8ms/step - accuracy: 0.9350 - loss: 0.1968 - val_accuracy: 0.9229 - val_loss: 1.8976\n",
      "Epoch 25/40\n",
      "\u001b[1m75/75\u001b[0m \u001b[32m━━━━━━━━━━━━━━━━━━━━\u001b[0m\u001b[37m\u001b[0m \u001b[1m1s\u001b[0m 8ms/step - accuracy: 0.9200 - loss: 0.3024 - val_accuracy: 0.9162 - val_loss: 0.6562\n",
      "Epoch 26/40\n",
      "\u001b[1m75/75\u001b[0m \u001b[32m━━━━━━━━━━━━━━━━━━━━\u001b[0m\u001b[37m\u001b[0m \u001b[1m1s\u001b[0m 8ms/step - accuracy: 0.9397 - loss: 0.1936 - val_accuracy: 0.9263 - val_loss: 0.8225\n",
      "Epoch 27/40\n",
      "\u001b[1m75/75\u001b[0m \u001b[32m━━━━━━━━━━━━━━━━━━━━\u001b[0m\u001b[37m\u001b[0m \u001b[1m1s\u001b[0m 8ms/step - accuracy: 0.9388 - loss: 0.1770 - val_accuracy: 0.9313 - val_loss: 0.5841\n",
      "Epoch 28/40\n",
      "\u001b[1m75/75\u001b[0m \u001b[32m━━━━━━━━━━━━━━━━━━━━\u001b[0m\u001b[37m\u001b[0m \u001b[1m1s\u001b[0m 7ms/step - accuracy: 0.9337 - loss: 0.1940 - val_accuracy: 0.9129 - val_loss: 0.5776\n",
      "Epoch 29/40\n",
      "\u001b[1m75/75\u001b[0m \u001b[32m━━━━━━━━━━━━━━━━━━━━\u001b[0m\u001b[37m\u001b[0m \u001b[1m1s\u001b[0m 8ms/step - accuracy: 0.9451 - loss: 0.1830 - val_accuracy: 0.9280 - val_loss: 0.5790\n",
      "Epoch 30/40\n",
      "\u001b[1m75/75\u001b[0m \u001b[32m━━━━━━━━━━━━━━━━━━━━\u001b[0m\u001b[37m\u001b[0m \u001b[1m1s\u001b[0m 8ms/step - accuracy: 0.9462 - loss: 0.1555 - val_accuracy: 0.9330 - val_loss: 0.3240\n",
      "Epoch 31/40\n",
      "\u001b[1m75/75\u001b[0m \u001b[32m━━━━━━━━━━━━━━━━━━━━\u001b[0m\u001b[37m\u001b[0m \u001b[1m1s\u001b[0m 8ms/step - accuracy: 0.9317 - loss: 0.2005 - val_accuracy: 0.9179 - val_loss: 0.3188\n",
      "Epoch 32/40\n",
      "\u001b[1m75/75\u001b[0m \u001b[32m━━━━━━━━━━━━━━━━━━━━\u001b[0m\u001b[37m\u001b[0m \u001b[1m1s\u001b[0m 8ms/step - accuracy: 0.9376 - loss: 0.1866 - val_accuracy: 0.9280 - val_loss: 0.3178\n",
      "Epoch 33/40\n",
      "\u001b[1m75/75\u001b[0m \u001b[32m━━━━━━━━━━━━━━━━━━━━\u001b[0m\u001b[37m\u001b[0m \u001b[1m1s\u001b[0m 8ms/step - accuracy: 0.9484 - loss: 0.1574 - val_accuracy: 0.9246 - val_loss: 0.3086\n",
      "Epoch 34/40\n",
      "\u001b[1m75/75\u001b[0m \u001b[32m━━━━━━━━━━━━━━━━━━━━\u001b[0m\u001b[37m\u001b[0m \u001b[1m1s\u001b[0m 8ms/step - accuracy: 0.9590 - loss: 0.1364 - val_accuracy: 0.9330 - val_loss: 0.3290\n",
      "Epoch 35/40\n",
      "\u001b[1m75/75\u001b[0m \u001b[32m━━━━━━━━━━━━━━━━━━━━\u001b[0m\u001b[37m\u001b[0m \u001b[1m1s\u001b[0m 8ms/step - accuracy: 0.9564 - loss: 0.1307 - val_accuracy: 0.9246 - val_loss: 0.3296\n",
      "Epoch 36/40\n",
      "\u001b[1m75/75\u001b[0m \u001b[32m━━━━━━━━━━━━━━━━━━━━\u001b[0m\u001b[37m\u001b[0m \u001b[1m1s\u001b[0m 8ms/step - accuracy: 0.9554 - loss: 0.1303 - val_accuracy: 0.9280 - val_loss: 0.3256\n",
      "Epoch 37/40\n",
      "\u001b[1m75/75\u001b[0m \u001b[32m━━━━━━━━━━━━━━━━━━━━\u001b[0m\u001b[37m\u001b[0m \u001b[1m1s\u001b[0m 8ms/step - accuracy: 0.9501 - loss: 0.1435 - val_accuracy: 0.9330 - val_loss: 0.3818\n",
      "Epoch 38/40\n",
      "\u001b[1m75/75\u001b[0m \u001b[32m━━━━━━━━━━━━━━━━━━━━\u001b[0m\u001b[37m\u001b[0m \u001b[1m1s\u001b[0m 8ms/step - accuracy: 0.9591 - loss: 0.1259 - val_accuracy: 0.9179 - val_loss: 0.3707\n",
      "Epoch 39/40\n",
      "\u001b[1m75/75\u001b[0m \u001b[32m━━━━━━━━━━━━━━━━━━━━\u001b[0m\u001b[37m\u001b[0m \u001b[1m1s\u001b[0m 8ms/step - accuracy: 0.9550 - loss: 0.1320 - val_accuracy: 0.9363 - val_loss: 0.3534\n",
      "Epoch 40/40\n",
      "\u001b[1m75/75\u001b[0m \u001b[32m━━━━━━━━━━━━━━━━━━━━\u001b[0m\u001b[37m\u001b[0m \u001b[1m1s\u001b[0m 8ms/step - accuracy: 0.9583 - loss: 0.1201 - val_accuracy: 0.9062 - val_loss: 0.4582\n"
     ]
    }
   ],
   "source": [
    "history = model.fit(X_train, y_train, epochs=40, validation_split=0.2)"
   ]
  },
  {
   "cell_type": "code",
   "execution_count": 146,
   "metadata": {},
   "outputs": [
    {
     "name": "stdout",
     "output_type": "stream",
     "text": [
      "\u001b[1m24/24\u001b[0m \u001b[32m━━━━━━━━━━━━━━━━━━━━\u001b[0m\u001b[37m\u001b[0m \u001b[1m0s\u001b[0m 3ms/step - accuracy: 0.9002 - loss: 63.3982 \n"
     ]
    },
    {
     "data": {
      "text/plain": [
       "{'accuracy': 0.9061661958694458, 'loss': 18.027740478515625}"
      ]
     },
     "execution_count": 146,
     "metadata": {},
     "output_type": "execute_result"
    }
   ],
   "source": [
    "model.evaluate(X_test, y_test, return_dict=True)"
   ]
  },
  {
   "cell_type": "code",
   "execution_count": 147,
   "metadata": {},
   "outputs": [],
   "source": [
    "def plot_loss(history, which='loss'):\n",
    "    plt.plot(history.history[which], label='train')\n",
    "    try:\n",
    "        plt.plot(history.history['val_'+which], label='validation')\n",
    "    except:\n",
    "        None\n",
    "    plt.xlabel('Epoch')\n",
    "    plt.ylabel(which)\n",
    "    plt.legend()\n",
    "    plt.grid(True)"
   ]
  },
  {
   "cell_type": "code",
   "execution_count": 148,
   "metadata": {},
   "outputs": [
    {
     "data": {
      "image/png": "[encoded data removed]",
      "text/plain": [
       "<Figure size 640x480 with 1 Axes>"
      ]
     },
     "metadata": {},
     "output_type": "display_data"
    }
   ],
   "source": [
    "plot_loss(history)"
   ]
  },
  {
   "cell_type": "markdown",
   "metadata": {},
   "source": [
    "#### **Early Stopping**"
   ]
  },
  {
   "cell_type": "code",
   "execution_count": 149,
   "metadata": {},
   "outputs": [],
   "source": [
    "callback = tf.keras.callbacks.EarlyStopping(monitor='val_loss', patience=10)"
   ]
  },
  {
   "cell_type": "code",
   "execution_count": 150,
   "metadata": {},
   "outputs": [
    {
     "name": "stdout",
     "output_type": "stream",
     "text": [
      "Epoch 1/40\n",
      "\u001b[1m75/75\u001b[0m \u001b[32m━━━━━━━━━━━━━━━━━━━━\u001b[0m\u001b[37m\u001b[0m \u001b[1m1s\u001b[0m 8ms/step - accuracy: 0.9541 - loss: 0.1411 - val_accuracy: 0.9280 - val_loss: 0.3720\n",
      "Epoch 2/40\n",
      "\u001b[1m75/75\u001b[0m \u001b[32m━━━━━━━━━━━━━━━━━━━━\u001b[0m\u001b[37m\u001b[0m \u001b[1m1s\u001b[0m 7ms/step - accuracy: 0.9551 - loss: 0.1356 - val_accuracy: 0.9380 - val_loss: 0.3838\n",
      "Epoch 3/40\n",
      "\u001b[1m75/75\u001b[0m \u001b[32m━━━━━━━━━━━━━━━━━━━━\u001b[0m\u001b[37m\u001b[0m \u001b[1m1s\u001b[0m 7ms/step - accuracy: 0.9529 - loss: 0.1369 - val_accuracy: 0.9229 - val_loss: 0.4619\n",
      "Epoch 4/40\n",
      "\u001b[1m75/75\u001b[0m \u001b[32m━━━━━━━━━━━━━━━━━━━━\u001b[0m\u001b[37m\u001b[0m \u001b[1m1s\u001b[0m 7ms/step - accuracy: 0.9313 - loss: 0.2030 - val_accuracy: 0.9447 - val_loss: 0.4587\n",
      "Epoch 5/40\n",
      "\u001b[1m75/75\u001b[0m \u001b[32m━━━━━━━━━━━━━━━━━━━━\u001b[0m\u001b[37m\u001b[0m \u001b[1m1s\u001b[0m 8ms/step - accuracy: 0.9698 - loss: 0.1003 - val_accuracy: 0.9414 - val_loss: 0.4150\n",
      "Epoch 6/40\n",
      "\u001b[1m75/75\u001b[0m \u001b[32m━━━━━━━━━━━━━━━━━━━━\u001b[0m\u001b[37m\u001b[0m \u001b[1m1s\u001b[0m 7ms/step - accuracy: 0.9591 - loss: 0.1223 - val_accuracy: 0.9313 - val_loss: 0.4478\n",
      "Epoch 7/40\n",
      "\u001b[1m75/75\u001b[0m \u001b[32m━━━━━━━━━━━━━━━━━━━━\u001b[0m\u001b[37m\u001b[0m \u001b[1m1s\u001b[0m 8ms/step - accuracy: 0.9623 - loss: 0.1010 - val_accuracy: 0.9414 - val_loss: 0.4390\n",
      "Epoch 8/40\n",
      "\u001b[1m75/75\u001b[0m \u001b[32m━━━━━━━━━━━━━━━━━━━━\u001b[0m\u001b[37m\u001b[0m \u001b[1m1s\u001b[0m 7ms/step - accuracy: 0.9589 - loss: 0.1128 - val_accuracy: 0.9079 - val_loss: 0.6011\n",
      "Epoch 9/40\n",
      "\u001b[1m75/75\u001b[0m \u001b[32m━━━━━━━━━━━━━━━━━━━━\u001b[0m\u001b[37m\u001b[0m \u001b[1m1s\u001b[0m 7ms/step - accuracy: 0.9071 - loss: 0.7203 - val_accuracy: 0.9296 - val_loss: 0.3435\n",
      "Epoch 10/40\n",
      "\u001b[1m75/75\u001b[0m \u001b[32m━━━━━━━━━━━━━━━━━━━━\u001b[0m\u001b[37m\u001b[0m \u001b[1m1s\u001b[0m 7ms/step - accuracy: 0.9509 - loss: 0.1386 - val_accuracy: 0.9246 - val_loss: 0.3503\n",
      "Epoch 11/40\n",
      "\u001b[1m75/75\u001b[0m \u001b[32m━━━━━━━━━━━━━━━━━━━━\u001b[0m\u001b[37m\u001b[0m \u001b[1m1s\u001b[0m 7ms/step - accuracy: 0.9588 - loss: 0.1157 - val_accuracy: 0.9380 - val_loss: 0.3355\n",
      "Epoch 12/40\n",
      "\u001b[1m75/75\u001b[0m \u001b[32m━━━━━━━━━━━━━━━━━━━━\u001b[0m\u001b[37m\u001b[0m \u001b[1m1s\u001b[0m 7ms/step - accuracy: 0.9681 - loss: 0.1002 - val_accuracy: 0.9397 - val_loss: 0.3152\n",
      "Epoch 13/40\n",
      "\u001b[1m75/75\u001b[0m \u001b[32m━━━━━━━━━━━━━━━━━━━━\u001b[0m\u001b[37m\u001b[0m \u001b[1m1s\u001b[0m 7ms/step - accuracy: 0.9563 - loss: 0.1274 - val_accuracy: 0.9380 - val_loss: 0.3170\n",
      "Epoch 14/40\n",
      "\u001b[1m75/75\u001b[0m \u001b[32m━━━━━━━━━━━━━━━━━━━━\u001b[0m\u001b[37m\u001b[0m \u001b[1m1s\u001b[0m 7ms/step - accuracy: 0.9596 - loss: 0.1147 - val_accuracy: 0.9347 - val_loss: 0.3240\n",
      "Epoch 15/40\n",
      "\u001b[1m75/75\u001b[0m \u001b[32m━━━━━━━━━━━━━━━━━━━━\u001b[0m\u001b[37m\u001b[0m \u001b[1m1s\u001b[0m 7ms/step - accuracy: 0.9582 - loss: 0.1033 - val_accuracy: 0.9464 - val_loss: 0.3194\n",
      "Epoch 16/40\n",
      "\u001b[1m75/75\u001b[0m \u001b[32m━━━━━━━━━━━━━━━━━━━━\u001b[0m\u001b[37m\u001b[0m \u001b[1m1s\u001b[0m 7ms/step - accuracy: 0.9637 - loss: 0.1002 - val_accuracy: 0.9464 - val_loss: 0.3204\n",
      "Epoch 17/40\n",
      "\u001b[1m75/75\u001b[0m \u001b[32m━━━━━━━━━━━━━━━━━━━━\u001b[0m\u001b[37m\u001b[0m \u001b[1m1s\u001b[0m 7ms/step - accuracy: 0.9683 - loss: 0.0979 - val_accuracy: 0.9514 - val_loss: 0.3299\n",
      "Epoch 18/40\n",
      "\u001b[1m75/75\u001b[0m \u001b[32m━━━━━━━━━━━━━━━━━━━━\u001b[0m\u001b[37m\u001b[0m \u001b[1m1s\u001b[0m 7ms/step - accuracy: 0.9648 - loss: 0.0979 - val_accuracy: 0.9414 - val_loss: 0.3414\n",
      "Epoch 19/40\n",
      "\u001b[1m75/75\u001b[0m \u001b[32m━━━━━━━━━━━━━━━━━━━━\u001b[0m\u001b[37m\u001b[0m \u001b[1m1s\u001b[0m 7ms/step - accuracy: 0.9715 - loss: 0.0926 - val_accuracy: 0.9397 - val_loss: 0.3508\n",
      "Epoch 20/40\n",
      "\u001b[1m75/75\u001b[0m \u001b[32m━━━━━━━━━━━━━━━━━━━━\u001b[0m\u001b[37m\u001b[0m \u001b[1m1s\u001b[0m 7ms/step - accuracy: 0.9606 - loss: 0.0995 - val_accuracy: 0.9447 - val_loss: 0.3510\n",
      "Epoch 21/40\n",
      "\u001b[1m75/75\u001b[0m \u001b[32m━━━━━━━━━━━━━━━━━━━━\u001b[0m\u001b[37m\u001b[0m \u001b[1m1s\u001b[0m 7ms/step - accuracy: 0.9659 - loss: 0.0817 - val_accuracy: 0.9430 - val_loss: 0.3506\n",
      "Epoch 22/40\n",
      "\u001b[1m75/75\u001b[0m \u001b[32m━━━━━━━━━━━━━━━━━━━━\u001b[0m\u001b[37m\u001b[0m \u001b[1m1s\u001b[0m 7ms/step - accuracy: 0.9776 - loss: 0.0686 - val_accuracy: 0.9430 - val_loss: 0.3702\n",
      "Epoch 23/40\n",
      "\u001b[1m75/75\u001b[0m \u001b[32m━━━━━━━━━━━━━━━━━━━━\u001b[0m\u001b[37m\u001b[0m \u001b[1m1s\u001b[0m 8ms/step - accuracy: 0.9664 - loss: 0.0912 - val_accuracy: 0.9397 - val_loss: 0.3677\n",
      "Epoch 24/40\n",
      "\u001b[1m75/75\u001b[0m \u001b[32m━━━━━━━━━━━━━━━━━━━━\u001b[0m\u001b[37m\u001b[0m \u001b[1m1s\u001b[0m 7ms/step - accuracy: 0.9748 - loss: 0.0746 - val_accuracy: 0.9447 - val_loss: 0.3675\n",
      "Epoch 25/40\n",
      "\u001b[1m75/75\u001b[0m \u001b[32m━━━━━━━━━━━━━━━━━━━━\u001b[0m\u001b[37m\u001b[0m \u001b[1m1s\u001b[0m 7ms/step - accuracy: 0.9761 - loss: 0.0661 - val_accuracy: 0.9363 - val_loss: 0.4303\n",
      "Epoch 26/40\n",
      "\u001b[1m75/75\u001b[0m \u001b[32m━━━━━━━━━━━━━━━━━━━━\u001b[0m\u001b[37m\u001b[0m \u001b[1m1s\u001b[0m 7ms/step - accuracy: 0.9767 - loss: 0.0680 - val_accuracy: 0.9447 - val_loss: 0.3614\n",
      "Epoch 27/40\n",
      "\u001b[1m75/75\u001b[0m \u001b[32m━━━━━━━━━━━━━━━━━━━━\u001b[0m\u001b[37m\u001b[0m \u001b[1m1s\u001b[0m 7ms/step - accuracy: 0.9747 - loss: 0.0763 - val_accuracy: 0.9363 - val_loss: 13.4456\n",
      "Epoch 28/40\n",
      "\u001b[1m75/75\u001b[0m \u001b[32m━━━━━━━━━━━━━━━━━━━━\u001b[0m\u001b[37m\u001b[0m \u001b[1m1s\u001b[0m 7ms/step - accuracy: 0.9181 - loss: 0.4946 - val_accuracy: 0.9129 - val_loss: 0.4226\n",
      "Epoch 29/40\n",
      "\u001b[1m75/75\u001b[0m \u001b[32m━━━━━━━━━━━━━━━━━━━━\u001b[0m\u001b[37m\u001b[0m \u001b[1m1s\u001b[0m 7ms/step - accuracy: 0.9514 - loss: 0.1330 - val_accuracy: 0.9363 - val_loss: 0.3613\n",
      "Epoch 30/40\n",
      "\u001b[1m75/75\u001b[0m \u001b[32m━━━━━━━━━━━━━━━━━━━━\u001b[0m\u001b[37m\u001b[0m \u001b[1m1s\u001b[0m 7ms/step - accuracy: 0.9636 - loss: 0.1026 - val_accuracy: 0.9397 - val_loss: 0.3540\n",
      "Epoch 31/40\n",
      "\u001b[1m75/75\u001b[0m \u001b[32m━━━━━━━━━━━━━━━━━━━━\u001b[0m\u001b[37m\u001b[0m \u001b[1m1s\u001b[0m 7ms/step - accuracy: 0.9728 - loss: 0.0736 - val_accuracy: 0.9263 - val_loss: 0.4013\n",
      "Epoch 32/40\n",
      "\u001b[1m75/75\u001b[0m \u001b[32m━━━━━━━━━━━━━━━━━━━━\u001b[0m\u001b[37m\u001b[0m \u001b[1m1s\u001b[0m 7ms/step - accuracy: 0.9684 - loss: 0.0864 - val_accuracy: 0.9397 - val_loss: 0.3491\n",
      "Epoch 33/40\n",
      "\u001b[1m75/75\u001b[0m \u001b[32m━━━━━━━━━━━━━━━━━━━━\u001b[0m\u001b[37m\u001b[0m \u001b[1m1s\u001b[0m 7ms/step - accuracy: 0.9752 - loss: 0.0719 - val_accuracy: 0.9280 - val_loss: 0.3498\n",
      "Epoch 34/40\n",
      "\u001b[1m75/75\u001b[0m \u001b[32m━━━━━━━━━━━━━━━━━━━━\u001b[0m\u001b[37m\u001b[0m \u001b[1m1s\u001b[0m 7ms/step - accuracy: 0.9722 - loss: 0.0756 - val_accuracy: 0.9447 - val_loss: 0.3428\n",
      "Epoch 35/40\n",
      "\u001b[1m75/75\u001b[0m \u001b[32m━━━━━━━━━━━━━━━━━━━━\u001b[0m\u001b[37m\u001b[0m \u001b[1m1s\u001b[0m 7ms/step - accuracy: 0.9776 - loss: 0.0619 - val_accuracy: 0.9363 - val_loss: 0.3389\n",
      "Epoch 36/40\n",
      "\u001b[1m75/75\u001b[0m \u001b[32m━━━━━━━━━━━━━━━━━━━━\u001b[0m\u001b[37m\u001b[0m \u001b[1m1s\u001b[0m 7ms/step - accuracy: 0.9795 - loss: 0.0637 - val_accuracy: 0.9414 - val_loss: 0.3396\n",
      "Epoch 37/40\n",
      "\u001b[1m75/75\u001b[0m \u001b[32m━━━━━━━━━━━━━━━━━━━━\u001b[0m\u001b[37m\u001b[0m \u001b[1m1s\u001b[0m 7ms/step - accuracy: 0.9771 - loss: 0.0591 - val_accuracy: 0.9363 - val_loss: 0.3313\n",
      "Epoch 38/40\n",
      "\u001b[1m75/75\u001b[0m \u001b[32m━━━━━━━━━━━━━━━━━━━━\u001b[0m\u001b[37m\u001b[0m \u001b[1m1s\u001b[0m 7ms/step - accuracy: 0.9828 - loss: 0.0515 - val_accuracy: 0.9380 - val_loss: 0.3404\n",
      "Epoch 39/40\n",
      "\u001b[1m75/75\u001b[0m \u001b[32m━━━━━━━━━━━━━━━━━━━━\u001b[0m\u001b[37m\u001b[0m \u001b[1m1s\u001b[0m 7ms/step - accuracy: 0.9791 - loss: 0.0582 - val_accuracy: 0.9430 - val_loss: 0.3526\n",
      "Epoch 40/40\n",
      "\u001b[1m75/75\u001b[0m \u001b[32m━━━━━━━━━━━━━━━━━━━━\u001b[0m\u001b[37m\u001b[0m \u001b[1m1s\u001b[0m 7ms/step - accuracy: 0.9787 - loss: 0.0577 - val_accuracy: 0.9430 - val_loss: 0.3463\n"
     ]
    }
   ],
   "source": [
    "history = model.fit(X_train, y_train, epochs=40, validation_split=0.2)"
   ]
  },
  {
   "cell_type": "code",
   "execution_count": 151,
   "metadata": {},
   "outputs": [
    {
     "name": "stdout",
     "output_type": "stream",
     "text": [
      "\u001b[1m24/24\u001b[0m \u001b[32m━━━━━━━━━━━━━━━━━━━━\u001b[0m\u001b[37m\u001b[0m \u001b[1m0s\u001b[0m 3ms/step - accuracy: 0.9271 - loss: 0.2786\n"
     ]
    },
    {
     "data": {
      "text/plain": [
       "{'accuracy': 0.9316353797912598, 'loss': 0.27433252334594727}"
      ]
     },
     "execution_count": 151,
     "metadata": {},
     "output_type": "execute_result"
    }
   ],
   "source": [
    "model.evaluate(X_test, y_test, return_dict=True)"
   ]
  },
  {
   "cell_type": "code",
   "execution_count": 152,
   "metadata": {},
   "outputs": [
    {
     "data": {
      "image/png": "[encoded data removed]",
      "text/plain": [
       "<Figure size 640x480 with 1 Axes>"
      ]
     },
     "metadata": {},
     "output_type": "display_data"
    }
   ],
   "source": [
    "plot_loss(history)"
   ]
  },
  {
   "cell_type": "code",
   "execution_count": 153,
   "metadata": {},
   "outputs": [
    {
     "name": "stdout",
     "output_type": "stream",
     "text": [
      "\u001b[1m24/24\u001b[0m \u001b[32m━━━━━━━━━━━━━━━━━━━━\u001b[0m\u001b[37m\u001b[0m \u001b[1m0s\u001b[0m 3ms/step - accuracy: 0.9271 - loss: 0.2786\n"
     ]
    },
    {
     "data": {
      "text/plain": [
       "{'accuracy': 0.9316353797912598, 'loss': 0.27433252334594727}"
      ]
     },
     "execution_count": 153,
     "metadata": {},
     "output_type": "execute_result"
    }
   ],
   "source": [
    "model.evaluate(X_test, y_test, return_dict=True)"
   ]
  },
  {
   "cell_type": "code",
   "execution_count": 154,
   "metadata": {},
   "outputs": [
    {
     "data": {
      "text/plain": [
       "Annotation_No Call     1864\n",
       "Annotation_G Rupe       725\n",
       "Annotation_Rupe A       502\n",
       "Annotation_Moan         423\n",
       "Annotation_Rupe B       166\n",
       "Annotation_Rupe C        25\n",
       "Annotation_Type 4 A      23\n",
       "Name: count, dtype: int64"
      ]
     },
     "execution_count": 156,
     "metadata": {},
     "output_type": "execute_result"
    }
   ],
   "source": [
    "stratify_labels.value_counts()"
   ]
  },
  {
   "cell_type": "code",
   "execution_count": 155,
   "metadata": {},
   "outputs": [
    {
     "name": "stdout",
     "output_type": "stream",
     "text": [
      "\u001b[1m24/24\u001b[0m \u001b[32m━━━━━━━━━━━━━━━━━━━━\u001b[0m\u001b[37m\u001b[0m \u001b[1m0s\u001b[0m 4ms/step\n"
     ]
    },
    {
     "data": {
      "text/plain": [
       "<sklearn.metrics._plot.confusion_matrix.ConfusionMatrixDisplay at 0x19b7b169af0>"
      ]
     },
     "execution_count": 155,
     "metadata": {},
     "output_type": "execute_result"
    },
    {
     "data": {
      "image/png": "[encoded data removed]",
      "text/plain": [
       "<Figure size 640x480 with 2 Axes>"
      ]
     },
     "metadata": {},
     "output_type": "display_data"
    }
   ],
   "source": [
    "import numpy as np\n",
    "from sklearn.metrics import confusion_matrix, ConfusionMatrixDisplay\n",
    "\n",
    "y_pred_prob = model.predict(X_test)  # Predicted probabilities\n",
    "y_pred = np.argmax(y_pred_prob, axis=1)  # Convert to class labels\n",
    "\n",
    "# Convert y_test from one-hot to class labels\n",
    "y_true = np.argmax(y_test, axis=1)\n",
    "\n",
    "# Generate the confusion matrix\n",
    "cm = confusion_matrix(y_true, y_pred)\n",
    "\n",
    "# Display the confusion matrix\n",
    "disp = ConfusionMatrixDisplay(confusion_matrix=cm, display_labels=range(y_test.shape[1]))\n",
    "disp.plot(cmap='viridis')\n"
   ]
  },
  {
   "cell_type": "markdown",
   "metadata": {},
   "source": [
    "---\n",
    "\n",
    "### **Step C: Refine**\n",
    "\n",
    "---"
   ]
  },
  {
   "cell_type": "markdown",
   "metadata": {
    "jp-MarkdownHeadingCollapsed": true
   },
   "source": [
    "---\n",
    "\n",
    "### **References**\n",
    "\n",
    "1. [Bird Song Dataset on Kaggle](https://www.kaggle.com/code/sophiagnetneva/cnn-for-sound-classification-bird-calls-90)\n",
    "\n",
    "\n",
    "\n"
   ]
  },
  {
   "cell_type": "markdown",
   "metadata": {},
   "source": [
    "---\n",
    "\n",
    "# END"
   ]
  }
 ],
 "metadata": {
  "kernelspec": {
   "display_name": ".venv",
   "language": "python",
   "name": "python3"
  },
  "language_info": {
   "codemirror_mode": {
    "name": "ipython",
    "version": 3
   },
   "file_extension": ".py",
   "mimetype": "text/x-python",
   "name": "python",
   "nbconvert_exporter": "python",
   "pygments_lexer": "ipython3",
   "version": "3.12.8"
  }
 },
 "nbformat": 4,
 "nbformat_minor": 4
}
