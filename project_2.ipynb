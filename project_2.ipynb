{
 "cells": [
  {
   "cell_type": "markdown",
   "metadata": {},
   "source": [
    "# **Machine Learning: Project Part 2**\n",
    "\n",
    "---\n",
    "\n",
    "**Author: Damien Farrell**\n",
    "\n",
    "---"
   ]
  },
  {
   "cell_type": "markdown",
   "metadata": {},
   "source": [
    "## **Project Part 2: Seal Call Discrimination**\n",
    "\n",
    "### **Objective**\n",
    "The aim of this project is to analyze a recorded dataset to investigate the feasibility of discriminating between different seal calls. The project is structured in steps to build a machine learning model that can potentially detect seal calls from audio recordings. While creating a fully functional detector is the ultimate goal, it may not be the final outcome of this project.\n",
    "\n",
    "#### **Step A: Data Pre-processing**\n",
    "\n",
    "This step is completed in notebook `data_preprocessing.ipynb`. The file `processed_data.pkl` was produced from this notebook.\n",
    "\n",
    "#### **Step B: Model Training**\n",
    "1. **Dataset Utilisation**:\n",
    "   - Use the prepared spectrogram dataset to train the machine learning model.\n",
    "\n",
    "3. **Evaluation**:\n",
    "   - Test the model’s performance on a separate test dataset.\n",
    "\n",
    "#### **Step C: Refine**\n",
    "1. **Parameter Tuning**:\n",
    "   - Adjust parameters in the data extraction/spectrogram creation process (e.g., `nfft`, `noverlap`).\n",
    "   - Manage computational costs by splitting `.wav` files using tools like `pydub`.\n",
    "\n",
    "2. **Validation**:\n",
    "   - Apply the Rupe B/No Call classifier on an entire `.wav` file (held back during training).\n",
    "   - Ensure no false positives due to the presence of other annotated calls."
   ]
  },
  {
   "cell_type": "code",
   "execution_count": 545,
   "metadata": {},
   "outputs": [],
   "source": [
    "# Imports\n",
    "\n",
    "import pandas as pd\n",
    "import numpy as np\n",
    "import matplotlib.pyplot as plt\n",
    "import seaborn as sns\n",
    "from sklearn.model_selection import train_test_split\n",
    "import tensorflow as tf\n",
    "from tensorflow.keras import layers, regularizers\n",
    "from sklearn.preprocessing import MinMaxScaler\n",
    "from sklearn.utils.class_weight import compute_class_weight\n",
    "import tensorflow.keras.backend as K\n",
    "from sklearn.metrics import confusion_matrix, ConfusionMatrixDisplay"
   ]
  },
  {
   "cell_type": "markdown",
   "metadata": {},
   "source": [
    "---\n",
    "\n",
    "### **Step B: Model Training** \n",
    "\n",
    "---"
   ]
  },
  {
   "cell_type": "code",
   "execution_count": 546,
   "metadata": {},
   "outputs": [
    {
     "data": {
      "text/html": [
       "<div>\n",
       "<style scoped>\n",
       "    .dataframe tbody tr th:only-of-type {\n",
       "        vertical-align: middle;\n",
       "    }\n",
       "\n",
       "    .dataframe tbody tr th {\n",
       "        vertical-align: top;\n",
       "    }\n",
       "\n",
       "    .dataframe thead th {\n",
       "        text-align: right;\n",
       "    }\n",
       "</style>\n",
       "<table border=\"1\" class=\"dataframe\">\n",
       "  <thead>\n",
       "    <tr style=\"text-align: right;\">\n",
       "      <th></th>\n",
       "      <th>Selection</th>\n",
       "      <th>View</th>\n",
       "      <th>Channel</th>\n",
       "      <th>Begin Time (s)</th>\n",
       "      <th>End Time (s)</th>\n",
       "      <th>Low Freq (Hz)</th>\n",
       "      <th>High Freq (Hz)</th>\n",
       "      <th>Delta Time (s)</th>\n",
       "      <th>Delta Freq (Hz)</th>\n",
       "      <th>Avg Power Density (dB FS/Hz)</th>\n",
       "      <th>Annotation</th>\n",
       "      <th>file_name</th>\n",
       "      <th>folder_name</th>\n",
       "      <th>snippet_spectrogram</th>\n",
       "      <th>snippet_times</th>\n",
       "      <th>snippet_frequencies</th>\n",
       "    </tr>\n",
       "  </thead>\n",
       "  <tbody>\n",
       "    <tr>\n",
       "      <th>0</th>\n",
       "      <td>1</td>\n",
       "      <td>Spectrogram 1</td>\n",
       "      <td>1</td>\n",
       "      <td>4.136987</td>\n",
       "      <td>4.657535</td>\n",
       "      <td>173.956</td>\n",
       "      <td>286.792</td>\n",
       "      <td>0.5205</td>\n",
       "      <td>112.836</td>\n",
       "      <td>-82.85</td>\n",
       "      <td>G Rupe</td>\n",
       "      <td>5711.211013040024</td>\n",
       "      <td>Guttural rupe</td>\n",
       "      <td>[[10.569122314453125, 4.712647438049316, 1.273...</td>\n",
       "      <td>[4.131708333333333, 4.1445, 4.157291666666667,...</td>\n",
       "      <td>[23.4375, 46.875, 70.3125, 93.75, 117.1875, 14...</td>\n",
       "    </tr>\n",
       "    <tr>\n",
       "      <th>1</th>\n",
       "      <td>2</td>\n",
       "      <td>Spectrogram 1</td>\n",
       "      <td>1</td>\n",
       "      <td>3.789955</td>\n",
       "      <td>4.264841</td>\n",
       "      <td>371.419</td>\n",
       "      <td>451.345</td>\n",
       "      <td>0.4749</td>\n",
       "      <td>79.926</td>\n",
       "      <td>-92.16</td>\n",
       "      <td>G Rupe</td>\n",
       "      <td>5711.211013040024</td>\n",
       "      <td>Guttural rupe</td>\n",
       "      <td>[[42.39829635620117, 55.68126678466797, 83.361...</td>\n",
       "      <td>[3.7863333333333333, 3.799125, 3.8119166666666...</td>\n",
       "      <td>[23.4375, 46.875, 70.3125, 93.75, 117.1875, 14...</td>\n",
       "    </tr>\n",
       "    <tr>\n",
       "      <th>2</th>\n",
       "      <td>3</td>\n",
       "      <td>Spectrogram 1</td>\n",
       "      <td>1</td>\n",
       "      <td>14.840188</td>\n",
       "      <td>15.406398</td>\n",
       "      <td>136.660</td>\n",
       "      <td>445.248</td>\n",
       "      <td>0.5662</td>\n",
       "      <td>308.588</td>\n",
       "      <td>-88.96</td>\n",
       "      <td>G Rupe</td>\n",
       "      <td>5711.211013040024</td>\n",
       "      <td>Guttural rupe</td>\n",
       "      <td>[[29.341825485229492, 8.032623291015625, 43.69...</td>\n",
       "      <td>[14.838333333333333, 14.851125, 14.86391666666...</td>\n",
       "      <td>[23.4375, 46.875, 70.3125, 93.75, 117.1875, 14...</td>\n",
       "    </tr>\n",
       "    <tr>\n",
       "      <th>3</th>\n",
       "      <td>4</td>\n",
       "      <td>Spectrogram 1</td>\n",
       "      <td>1</td>\n",
       "      <td>24.543802</td>\n",
       "      <td>25.082615</td>\n",
       "      <td>167.519</td>\n",
       "      <td>392.347</td>\n",
       "      <td>0.5388</td>\n",
       "      <td>224.828</td>\n",
       "      <td>-86.10</td>\n",
       "      <td>G Rupe</td>\n",
       "      <td>5711.211013040024</td>\n",
       "      <td>Guttural rupe</td>\n",
       "      <td>[[0.28541040420532227, 0.41072168946266174, 2....</td>\n",
       "      <td>[24.547208333333334, 24.56, 24.572791666666667...</td>\n",
       "      <td>[23.4375, 46.875, 70.3125, 93.75, 117.1875, 14...</td>\n",
       "    </tr>\n",
       "    <tr>\n",
       "      <th>4</th>\n",
       "      <td>5</td>\n",
       "      <td>Spectrogram 1</td>\n",
       "      <td>1</td>\n",
       "      <td>35.989220</td>\n",
       "      <td>36.573694</td>\n",
       "      <td>119.027</td>\n",
       "      <td>436.431</td>\n",
       "      <td>0.5845</td>\n",
       "      <td>317.405</td>\n",
       "      <td>-80.18</td>\n",
       "      <td>G Rupe</td>\n",
       "      <td>5711.211013040024</td>\n",
       "      <td>Guttural rupe</td>\n",
       "      <td>[[13.951732635498047, 23.50061798095703, 20.28...</td>\n",
       "      <td>[35.982958333333336, 35.99575, 36.008541666666...</td>\n",
       "      <td>[23.4375, 46.875, 70.3125, 93.75, 117.1875, 14...</td>\n",
       "    </tr>\n",
       "  </tbody>\n",
       "</table>\n",
       "</div>"
      ],
      "text/plain": [
       "  Selection           View Channel  Begin Time (s)  End Time (s)  \\\n",
       "0         1  Spectrogram 1       1        4.136987      4.657535   \n",
       "1         2  Spectrogram 1       1        3.789955      4.264841   \n",
       "2         3  Spectrogram 1       1       14.840188     15.406398   \n",
       "3         4  Spectrogram 1       1       24.543802     25.082615   \n",
       "4         5  Spectrogram 1       1       35.989220     36.573694   \n",
       "\n",
       "   Low Freq (Hz)  High Freq (Hz)  Delta Time (s)  Delta Freq (Hz)  \\\n",
       "0        173.956         286.792          0.5205          112.836   \n",
       "1        371.419         451.345          0.4749           79.926   \n",
       "2        136.660         445.248          0.5662          308.588   \n",
       "3        167.519         392.347          0.5388          224.828   \n",
       "4        119.027         436.431          0.5845          317.405   \n",
       "\n",
       "   Avg Power Density (dB FS/Hz) Annotation          file_name    folder_name  \\\n",
       "0                        -82.85     G Rupe  5711.211013040024  Guttural rupe   \n",
       "1                        -92.16     G Rupe  5711.211013040024  Guttural rupe   \n",
       "2                        -88.96     G Rupe  5711.211013040024  Guttural rupe   \n",
       "3                        -86.10     G Rupe  5711.211013040024  Guttural rupe   \n",
       "4                        -80.18     G Rupe  5711.211013040024  Guttural rupe   \n",
       "\n",
       "                                 snippet_spectrogram  \\\n",
       "0  [[10.569122314453125, 4.712647438049316, 1.273...   \n",
       "1  [[42.39829635620117, 55.68126678466797, 83.361...   \n",
       "2  [[29.341825485229492, 8.032623291015625, 43.69...   \n",
       "3  [[0.28541040420532227, 0.41072168946266174, 2....   \n",
       "4  [[13.951732635498047, 23.50061798095703, 20.28...   \n",
       "\n",
       "                                       snippet_times  \\\n",
       "0  [4.131708333333333, 4.1445, 4.157291666666667,...   \n",
       "1  [3.7863333333333333, 3.799125, 3.8119166666666...   \n",
       "2  [14.838333333333333, 14.851125, 14.86391666666...   \n",
       "3  [24.547208333333334, 24.56, 24.572791666666667...   \n",
       "4  [35.982958333333336, 35.99575, 36.008541666666...   \n",
       "\n",
       "                                 snippet_frequencies  \n",
       "0  [23.4375, 46.875, 70.3125, 93.75, 117.1875, 14...  \n",
       "1  [23.4375, 46.875, 70.3125, 93.75, 117.1875, 14...  \n",
       "2  [23.4375, 46.875, 70.3125, 93.75, 117.1875, 14...  \n",
       "3  [23.4375, 46.875, 70.3125, 93.75, 117.1875, 14...  \n",
       "4  [23.4375, 46.875, 70.3125, 93.75, 117.1875, 14...  "
      ]
     },
     "execution_count": 546,
     "metadata": {},
     "output_type": "execute_result"
    }
   ],
   "source": [
    "# Load in processed data\n",
    "df = pd.read_pickle('processed_data.pkl')\n",
    "df.head()"
   ]
  },
  {
   "cell_type": "code",
   "execution_count": 547,
   "metadata": {},
   "outputs": [
    {
     "data": {
      "image/png": "[encoded data removed]",
      "text/plain": [
       "<Figure size 1200x800 with 1 Axes>"
      ]
     },
     "metadata": {},
     "output_type": "display_data"
    }
   ],
   "source": [
    "# Count the values\n",
    "annotation_counts = df['Annotation'].value_counts()\n",
    "\n",
    "# Create the barplot\n",
    "fig, ax = plt.subplots(figsize=(12, 8))\n",
    "sns.barplot(x=annotation_counts.index, y=annotation_counts.values, ax=ax)\n",
    "\n",
    "ax.set_xlabel(\"Annotation\")\n",
    "ax.set_ylabel(\"Count\")\n",
    "ax.set_title(\"Counts of Annotations\")\n",
    "plt.show()"
   ]
  },
  {
   "cell_type": "code",
   "execution_count": 548,
   "metadata": {},
   "outputs": [],
   "source": [
    "# Perform one-hot encoding\n",
    "df = pd.get_dummies(df, columns=['Annotation'], prefix='Annotation')"
   ]
  },
  {
   "cell_type": "code",
   "execution_count": 549,
   "metadata": {},
   "outputs": [
    {
     "name": "stdout",
     "output_type": "stream",
     "text": [
      "Unique shapes in 'snippet_spectrogram':\n",
      "snippet_spectrogram\n",
      "(42, 84)    3728\n",
      "Name: count, dtype: int64\n"
     ]
    }
   ],
   "source": [
    "# Get the shapes\n",
    "shapes = df['snippet_spectrogram'].apply(lambda x: x.shape if isinstance(x, np.ndarray) else None)\n",
    "\n",
    "# Count unique shapes\n",
    "print(\"Unique shapes in 'snippet_spectrogram':\")\n",
    "print(shapes.value_counts())"
   ]
  },
  {
   "cell_type": "code",
   "execution_count": 550,
   "metadata": {},
   "outputs": [
    {
     "name": "stdout",
     "output_type": "stream",
     "text": [
      "(3728,)\n",
      "(3728, 42, 84)\n"
     ]
    }
   ],
   "source": [
    "X = df[['snippet_spectrogram']].to_numpy()\n",
    "\n",
    "# \"Flatten\" the (3742, 1) array to (3742,)\n",
    "X = X.ravel()\n",
    "print(X.shape)\n",
    "\n",
    "# Stack along a new axis to get shape (3742, 42, 84)\n",
    "X = np.stack(X, axis=0)\n",
    "print(X.shape)\n"
   ]
  },
  {
   "cell_type": "code",
   "execution_count": 551,
   "metadata": {},
   "outputs": [
    {
     "data": {
      "text/plain": [
       "(3728, 42, 84)"
      ]
     },
     "execution_count": 551,
     "metadata": {},
     "output_type": "execute_result"
    }
   ],
   "source": [
    "# Reshape to 2D for MinMaxScaler\n",
    "X_reshaped = X.reshape(-1, X.shape[-2])  # Shape: (3742 * 42, 84)\n",
    "\n",
    "# Apply MinMaxScaler\n",
    "scaler = MinMaxScaler()\n",
    "X_scaled = scaler.fit_transform(X_reshaped)\n",
    "\n",
    "# Reshape back to the original shape\n",
    "X = X_scaled.reshape(X.shape)\n",
    "\n",
    "X.shape"
   ]
  },
  {
   "cell_type": "code",
   "execution_count": 552,
   "metadata": {},
   "outputs": [
    {
     "name": "stdout",
     "output_type": "stream",
     "text": [
      "Train shape: (2982, 42, 84) Test shape: (746, 42, 84)\n"
     ]
    }
   ],
   "source": [
    "from sklearn.model_selection import train_test_split\n",
    "\n",
    "X = np.stack(df['snippet_spectrogram'].values)\n",
    "y = df[[col for col in df.columns if col.startswith(\"Annotation_\")]]  # Select annotation columns\n",
    "\n",
    "# `y` contains one-hot encoded labels\n",
    "stratify_labels = y.idxmax(axis=1)\n",
    "\n",
    "X_train, X_test, y_train, y_test = train_test_split(\n",
    "    X, \n",
    "    y, \n",
    "    test_size=0.2, \n",
    "    random_state=42, \n",
    "    stratify=stratify_labels,\n",
    "    shuffle=True,\n",
    ")\n",
    "\n",
    "print(\"Train shape:\", X_train.shape, \"Test shape:\", X_test.shape)"
   ]
  },
  {
   "cell_type": "code",
   "execution_count": 553,
   "metadata": {},
   "outputs": [
    {
     "data": {
      "text/plain": [
       "0        Annotation_G Rupe\n",
       "1        Annotation_G Rupe\n",
       "2        Annotation_G Rupe\n",
       "3        Annotation_G Rupe\n",
       "4        Annotation_G Rupe\n",
       "               ...        \n",
       "3723    Annotation_No Call\n",
       "3724    Annotation_No Call\n",
       "3725    Annotation_No Call\n",
       "3726    Annotation_No Call\n",
       "3727    Annotation_No Call\n",
       "Length: 3728, dtype: object"
      ]
     },
     "execution_count": 553,
     "metadata": {},
     "output_type": "execute_result"
    }
   ],
   "source": [
    "stratify_labels"
   ]
  },
  {
   "cell_type": "code",
   "execution_count": 554,
   "metadata": {},
   "outputs": [],
   "source": [
    "# Define focal loss\n",
    "def focal_loss(gamma=2., alpha=0.25):\n",
    "    def focal_loss_fixed(y_true, y_pred):\n",
    "        y_pred = K.clip(y_pred, K.epsilon(), 1 - K.epsilon())\n",
    "        loss = -y_true * alpha * K.pow(1 - y_pred, gamma) * K.log(y_pred)\n",
    "        return K.mean(loss, axis=-1)\n",
    "    return focal_loss_fixed"
   ]
  },
  {
   "cell_type": "code",
   "execution_count": 555,
   "metadata": {},
   "outputs": [],
   "source": [
    "num_classes = len(stratify_labels.unique())\n",
    "\n",
    "model = tf.keras.models.Sequential()\n",
    "model.add(tf.keras.Input(shape=(42, 84, 1)))\n",
    "model.add(layers.Conv2D(16, 3, padding='same', activation='relu'))\n",
    "model.add(layers.MaxPooling2D())\n",
    "model.add(layers.Conv2D(32, 3, padding='same', activation='relu'))\n",
    "model.add(layers.MaxPooling2D())\n",
    "model.add(layers.Conv2D(64, 3, padding='same', activation='relu'))\n",
    "model.add(layers.MaxPooling2D())\n",
    "model.add(layers.Flatten())\n",
    "model.add(layers.Dense(128, activation='relu'))\n",
    "model.add(layers.Dense(num_classes, activation='softmax'))\n"
   ]
  },
  {
   "cell_type": "code",
   "execution_count": 556,
   "metadata": {},
   "outputs": [
    {
     "data": {
      "text/html": [
       "<pre style=\"white-space:pre;overflow-x:auto;line-height:normal;font-family:Menlo,'DejaVu Sans Mono',consolas,'Courier New',monospace\"><span style=\"font-weight: bold\">Model: \"sequential_22\"</span>\n",
       "</pre>\n"
      ],
      "text/plain": [
       "\u001b[1mModel: \"sequential_22\"\u001b[0m\n"
      ]
     },
     "metadata": {},
     "output_type": "display_data"
    },
    {
     "data": {
      "text/html": [
       "<pre style=\"white-space:pre;overflow-x:auto;line-height:normal;font-family:Menlo,'DejaVu Sans Mono',consolas,'Courier New',monospace\">┏━━━━━━━━━━━━━━━━━━━━━━━━━━━━━━━━━┳━━━━━━━━━━━━━━━━━━━━━━━━┳━━━━━━━━━━━━━━━┓\n",
       "┃<span style=\"font-weight: bold\"> Layer (type)                    </span>┃<span style=\"font-weight: bold\"> Output Shape           </span>┃<span style=\"font-weight: bold\">       Param # </span>┃\n",
       "┡━━━━━━━━━━━━━━━━━━━━━━━━━━━━━━━━━╇━━━━━━━━━━━━━━━━━━━━━━━━╇━━━━━━━━━━━━━━━┩\n",
       "│ conv2d_67 (<span style=\"color: #0087ff; text-decoration-color: #0087ff\">Conv2D</span>)              │ (<span style=\"color: #00d7ff; text-decoration-color: #00d7ff\">None</span>, <span style=\"color: #00af00; text-decoration-color: #00af00\">42</span>, <span style=\"color: #00af00; text-decoration-color: #00af00\">84</span>, <span style=\"color: #00af00; text-decoration-color: #00af00\">16</span>)     │           <span style=\"color: #00af00; text-decoration-color: #00af00\">160</span> │\n",
       "├─────────────────────────────────┼────────────────────────┼───────────────┤\n",
       "│ max_pooling2d_67 (<span style=\"color: #0087ff; text-decoration-color: #0087ff\">MaxPooling2D</span>) │ (<span style=\"color: #00d7ff; text-decoration-color: #00d7ff\">None</span>, <span style=\"color: #00af00; text-decoration-color: #00af00\">21</span>, <span style=\"color: #00af00; text-decoration-color: #00af00\">42</span>, <span style=\"color: #00af00; text-decoration-color: #00af00\">16</span>)     │             <span style=\"color: #00af00; text-decoration-color: #00af00\">0</span> │\n",
       "├─────────────────────────────────┼────────────────────────┼───────────────┤\n",
       "│ conv2d_68 (<span style=\"color: #0087ff; text-decoration-color: #0087ff\">Conv2D</span>)              │ (<span style=\"color: #00d7ff; text-decoration-color: #00d7ff\">None</span>, <span style=\"color: #00af00; text-decoration-color: #00af00\">21</span>, <span style=\"color: #00af00; text-decoration-color: #00af00\">42</span>, <span style=\"color: #00af00; text-decoration-color: #00af00\">32</span>)     │         <span style=\"color: #00af00; text-decoration-color: #00af00\">4,640</span> │\n",
       "├─────────────────────────────────┼────────────────────────┼───────────────┤\n",
       "│ max_pooling2d_68 (<span style=\"color: #0087ff; text-decoration-color: #0087ff\">MaxPooling2D</span>) │ (<span style=\"color: #00d7ff; text-decoration-color: #00d7ff\">None</span>, <span style=\"color: #00af00; text-decoration-color: #00af00\">10</span>, <span style=\"color: #00af00; text-decoration-color: #00af00\">21</span>, <span style=\"color: #00af00; text-decoration-color: #00af00\">32</span>)     │             <span style=\"color: #00af00; text-decoration-color: #00af00\">0</span> │\n",
       "├─────────────────────────────────┼────────────────────────┼───────────────┤\n",
       "│ conv2d_69 (<span style=\"color: #0087ff; text-decoration-color: #0087ff\">Conv2D</span>)              │ (<span style=\"color: #00d7ff; text-decoration-color: #00d7ff\">None</span>, <span style=\"color: #00af00; text-decoration-color: #00af00\">10</span>, <span style=\"color: #00af00; text-decoration-color: #00af00\">21</span>, <span style=\"color: #00af00; text-decoration-color: #00af00\">64</span>)     │        <span style=\"color: #00af00; text-decoration-color: #00af00\">18,496</span> │\n",
       "├─────────────────────────────────┼────────────────────────┼───────────────┤\n",
       "│ max_pooling2d_69 (<span style=\"color: #0087ff; text-decoration-color: #0087ff\">MaxPooling2D</span>) │ (<span style=\"color: #00d7ff; text-decoration-color: #00d7ff\">None</span>, <span style=\"color: #00af00; text-decoration-color: #00af00\">5</span>, <span style=\"color: #00af00; text-decoration-color: #00af00\">10</span>, <span style=\"color: #00af00; text-decoration-color: #00af00\">64</span>)      │             <span style=\"color: #00af00; text-decoration-color: #00af00\">0</span> │\n",
       "├─────────────────────────────────┼────────────────────────┼───────────────┤\n",
       "│ flatten_22 (<span style=\"color: #0087ff; text-decoration-color: #0087ff\">Flatten</span>)            │ (<span style=\"color: #00d7ff; text-decoration-color: #00d7ff\">None</span>, <span style=\"color: #00af00; text-decoration-color: #00af00\">3200</span>)           │             <span style=\"color: #00af00; text-decoration-color: #00af00\">0</span> │\n",
       "├─────────────────────────────────┼────────────────────────┼───────────────┤\n",
       "│ dense_45 (<span style=\"color: #0087ff; text-decoration-color: #0087ff\">Dense</span>)                │ (<span style=\"color: #00d7ff; text-decoration-color: #00d7ff\">None</span>, <span style=\"color: #00af00; text-decoration-color: #00af00\">128</span>)            │       <span style=\"color: #00af00; text-decoration-color: #00af00\">409,728</span> │\n",
       "├─────────────────────────────────┼────────────────────────┼───────────────┤\n",
       "│ dense_46 (<span style=\"color: #0087ff; text-decoration-color: #0087ff\">Dense</span>)                │ (<span style=\"color: #00d7ff; text-decoration-color: #00d7ff\">None</span>, <span style=\"color: #00af00; text-decoration-color: #00af00\">7</span>)              │           <span style=\"color: #00af00; text-decoration-color: #00af00\">903</span> │\n",
       "└─────────────────────────────────┴────────────────────────┴───────────────┘\n",
       "</pre>\n"
      ],
      "text/plain": [
       "┏━━━━━━━━━━━━━━━━━━━━━━━━━━━━━━━━━┳━━━━━━━━━━━━━━━━━━━━━━━━┳━━━━━━━━━━━━━━━┓\n",
       "┃\u001b[1m \u001b[0m\u001b[1mLayer (type)                   \u001b[0m\u001b[1m \u001b[0m┃\u001b[1m \u001b[0m\u001b[1mOutput Shape          \u001b[0m\u001b[1m \u001b[0m┃\u001b[1m \u001b[0m\u001b[1m      Param #\u001b[0m\u001b[1m \u001b[0m┃\n",
       "┡━━━━━━━━━━━━━━━━━━━━━━━━━━━━━━━━━╇━━━━━━━━━━━━━━━━━━━━━━━━╇━━━━━━━━━━━━━━━┩\n",
       "│ conv2d_67 (\u001b[38;5;33mConv2D\u001b[0m)              │ (\u001b[38;5;45mNone\u001b[0m, \u001b[38;5;34m42\u001b[0m, \u001b[38;5;34m84\u001b[0m, \u001b[38;5;34m16\u001b[0m)     │           \u001b[38;5;34m160\u001b[0m │\n",
       "├─────────────────────────────────┼────────────────────────┼───────────────┤\n",
       "│ max_pooling2d_67 (\u001b[38;5;33mMaxPooling2D\u001b[0m) │ (\u001b[38;5;45mNone\u001b[0m, \u001b[38;5;34m21\u001b[0m, \u001b[38;5;34m42\u001b[0m, \u001b[38;5;34m16\u001b[0m)     │             \u001b[38;5;34m0\u001b[0m │\n",
       "├─────────────────────────────────┼────────────────────────┼───────────────┤\n",
       "│ conv2d_68 (\u001b[38;5;33mConv2D\u001b[0m)              │ (\u001b[38;5;45mNone\u001b[0m, \u001b[38;5;34m21\u001b[0m, \u001b[38;5;34m42\u001b[0m, \u001b[38;5;34m32\u001b[0m)     │         \u001b[38;5;34m4,640\u001b[0m │\n",
       "├─────────────────────────────────┼────────────────────────┼───────────────┤\n",
       "│ max_pooling2d_68 (\u001b[38;5;33mMaxPooling2D\u001b[0m) │ (\u001b[38;5;45mNone\u001b[0m, \u001b[38;5;34m10\u001b[0m, \u001b[38;5;34m21\u001b[0m, \u001b[38;5;34m32\u001b[0m)     │             \u001b[38;5;34m0\u001b[0m │\n",
       "├─────────────────────────────────┼────────────────────────┼───────────────┤\n",
       "│ conv2d_69 (\u001b[38;5;33mConv2D\u001b[0m)              │ (\u001b[38;5;45mNone\u001b[0m, \u001b[38;5;34m10\u001b[0m, \u001b[38;5;34m21\u001b[0m, \u001b[38;5;34m64\u001b[0m)     │        \u001b[38;5;34m18,496\u001b[0m │\n",
       "├─────────────────────────────────┼────────────────────────┼───────────────┤\n",
       "│ max_pooling2d_69 (\u001b[38;5;33mMaxPooling2D\u001b[0m) │ (\u001b[38;5;45mNone\u001b[0m, \u001b[38;5;34m5\u001b[0m, \u001b[38;5;34m10\u001b[0m, \u001b[38;5;34m64\u001b[0m)      │             \u001b[38;5;34m0\u001b[0m │\n",
       "├─────────────────────────────────┼────────────────────────┼───────────────┤\n",
       "│ flatten_22 (\u001b[38;5;33mFlatten\u001b[0m)            │ (\u001b[38;5;45mNone\u001b[0m, \u001b[38;5;34m3200\u001b[0m)           │             \u001b[38;5;34m0\u001b[0m │\n",
       "├─────────────────────────────────┼────────────────────────┼───────────────┤\n",
       "│ dense_45 (\u001b[38;5;33mDense\u001b[0m)                │ (\u001b[38;5;45mNone\u001b[0m, \u001b[38;5;34m128\u001b[0m)            │       \u001b[38;5;34m409,728\u001b[0m │\n",
       "├─────────────────────────────────┼────────────────────────┼───────────────┤\n",
       "│ dense_46 (\u001b[38;5;33mDense\u001b[0m)                │ (\u001b[38;5;45mNone\u001b[0m, \u001b[38;5;34m7\u001b[0m)              │           \u001b[38;5;34m903\u001b[0m │\n",
       "└─────────────────────────────────┴────────────────────────┴───────────────┘\n"
      ]
     },
     "metadata": {},
     "output_type": "display_data"
    },
    {
     "data": {
      "text/html": [
       "<pre style=\"white-space:pre;overflow-x:auto;line-height:normal;font-family:Menlo,'DejaVu Sans Mono',consolas,'Courier New',monospace\"><span style=\"font-weight: bold\"> Total params: </span><span style=\"color: #00af00; text-decoration-color: #00af00\">433,927</span> (1.66 MB)\n",
       "</pre>\n"
      ],
      "text/plain": [
       "\u001b[1m Total params: \u001b[0m\u001b[38;5;34m433,927\u001b[0m (1.66 MB)\n"
      ]
     },
     "metadata": {},
     "output_type": "display_data"
    },
    {
     "data": {
      "text/html": [
       "<pre style=\"white-space:pre;overflow-x:auto;line-height:normal;font-family:Menlo,'DejaVu Sans Mono',consolas,'Courier New',monospace\"><span style=\"font-weight: bold\"> Trainable params: </span><span style=\"color: #00af00; text-decoration-color: #00af00\">433,927</span> (1.66 MB)\n",
       "</pre>\n"
      ],
      "text/plain": [
       "\u001b[1m Trainable params: \u001b[0m\u001b[38;5;34m433,927\u001b[0m (1.66 MB)\n"
      ]
     },
     "metadata": {},
     "output_type": "display_data"
    },
    {
     "data": {
      "text/html": [
       "<pre style=\"white-space:pre;overflow-x:auto;line-height:normal;font-family:Menlo,'DejaVu Sans Mono',consolas,'Courier New',monospace\"><span style=\"font-weight: bold\"> Non-trainable params: </span><span style=\"color: #00af00; text-decoration-color: #00af00\">0</span> (0.00 B)\n",
       "</pre>\n"
      ],
      "text/plain": [
       "\u001b[1m Non-trainable params: \u001b[0m\u001b[38;5;34m0\u001b[0m (0.00 B)\n"
      ]
     },
     "metadata": {},
     "output_type": "display_data"
    }
   ],
   "source": [
    "model.summary()"
   ]
  },
  {
   "cell_type": "code",
   "execution_count": 557,
   "metadata": {},
   "outputs": [],
   "source": [
    "model.compile(\n",
    "    optimizer=tf.keras.optimizers.Adam(0.001),\n",
    "    loss= focal_loss(gamma=2., alpha=0.25),  #from_logits=False as softmax is on the output of the CNN\n",
    "    metrics=['accuracy'],\n",
    "    \n",
    ")"
   ]
  },
  {
   "cell_type": "code",
   "execution_count": 558,
   "metadata": {},
   "outputs": [],
   "source": [
    "# Early stopping\n",
    "callback = tf.keras.callbacks.EarlyStopping(monitor='val_loss', patience=10)"
   ]
  },
  {
   "cell_type": "code",
   "execution_count": 559,
   "metadata": {},
   "outputs": [
    {
     "name": "stdout",
     "output_type": "stream",
     "text": [
      "Epoch 1/50\n",
      "\u001b[1m75/75\u001b[0m \u001b[32m━━━━━━━━━━━━━━━━━━━━\u001b[0m\u001b[37m\u001b[0m \u001b[1m2s\u001b[0m 9ms/step - accuracy: 0.6137 - loss: 0.0361 - val_accuracy: 0.6801 - val_loss: 0.0245\n",
      "Epoch 2/50\n",
      "\u001b[1m75/75\u001b[0m \u001b[32m━━━━━━━━━━━━━━━━━━━━\u001b[0m\u001b[37m\u001b[0m \u001b[1m1s\u001b[0m 7ms/step - accuracy: 0.7551 - loss: 0.0181 - val_accuracy: 0.8040 - val_loss: 0.0136\n",
      "Epoch 3/50\n",
      "\u001b[1m75/75\u001b[0m \u001b[32m━━━━━━━━━━━━━━━━━━━━\u001b[0m\u001b[37m\u001b[0m \u001b[1m1s\u001b[0m 8ms/step - accuracy: 0.8308 - loss: 0.0117 - val_accuracy: 0.8375 - val_loss: 0.0133\n",
      "Epoch 4/50\n",
      "\u001b[1m75/75\u001b[0m \u001b[32m━━━━━━━━━━━━━━━━━━━━\u001b[0m\u001b[37m\u001b[0m \u001b[1m1s\u001b[0m 8ms/step - accuracy: 0.8684 - loss: 0.0097 - val_accuracy: 0.8727 - val_loss: 0.0121\n",
      "Epoch 5/50\n",
      "\u001b[1m75/75\u001b[0m \u001b[32m━━━━━━━━━━━━━━━━━━━━\u001b[0m\u001b[37m\u001b[0m \u001b[1m1s\u001b[0m 8ms/step - accuracy: 0.8848 - loss: 0.0088 - val_accuracy: 0.8777 - val_loss: 0.0111\n",
      "Epoch 6/50\n",
      "\u001b[1m75/75\u001b[0m \u001b[32m━━━━━━━━━━━━━━━━━━━━\u001b[0m\u001b[37m\u001b[0m \u001b[1m1s\u001b[0m 7ms/step - accuracy: 0.8890 - loss: 0.0097 - val_accuracy: 0.8844 - val_loss: 0.0117\n",
      "Epoch 7/50\n",
      "\u001b[1m75/75\u001b[0m \u001b[32m━━━━━━━━━━━━━━━━━━━━\u001b[0m\u001b[37m\u001b[0m \u001b[1m1s\u001b[0m 7ms/step - accuracy: 0.8936 - loss: 0.0077 - val_accuracy: 0.8794 - val_loss: 0.0124\n",
      "Epoch 8/50\n",
      "\u001b[1m75/75\u001b[0m \u001b[32m━━━━━━━━━━━━━━━━━━━━\u001b[0m\u001b[37m\u001b[0m \u001b[1m1s\u001b[0m 7ms/step - accuracy: 0.9040 - loss: 0.0077 - val_accuracy: 0.8760 - val_loss: 0.0119\n",
      "Epoch 9/50\n",
      "\u001b[1m75/75\u001b[0m \u001b[32m━━━━━━━━━━━━━━━━━━━━\u001b[0m\u001b[37m\u001b[0m \u001b[1m1s\u001b[0m 7ms/step - accuracy: 0.9111 - loss: 0.0071 - val_accuracy: 0.8844 - val_loss: 0.0116\n",
      "Epoch 10/50\n",
      "\u001b[1m75/75\u001b[0m \u001b[32m━━━━━━━━━━━━━━━━━━━━\u001b[0m\u001b[37m\u001b[0m \u001b[1m1s\u001b[0m 7ms/step - accuracy: 0.9061 - loss: 0.0101 - val_accuracy: 0.8995 - val_loss: 0.0113\n",
      "Epoch 11/50\n",
      "\u001b[1m75/75\u001b[0m \u001b[32m━━━━━━━━━━━━━━━━━━━━\u001b[0m\u001b[37m\u001b[0m \u001b[1m1s\u001b[0m 7ms/step - accuracy: 0.9321 - loss: 0.0066 - val_accuracy: 0.9112 - val_loss: 0.0108\n",
      "Epoch 12/50\n",
      "\u001b[1m75/75\u001b[0m \u001b[32m━━━━━━━━━━━━━━━━━━━━\u001b[0m\u001b[37m\u001b[0m \u001b[1m1s\u001b[0m 7ms/step - accuracy: 0.9342 - loss: 0.0070 - val_accuracy: 0.9079 - val_loss: 0.0109\n",
      "Epoch 13/50\n",
      "\u001b[1m75/75\u001b[0m \u001b[32m━━━━━━━━━━━━━━━━━━━━\u001b[0m\u001b[37m\u001b[0m \u001b[1m1s\u001b[0m 7ms/step - accuracy: 0.9391 - loss: 0.0067 - val_accuracy: 0.9045 - val_loss: 0.0108\n",
      "Epoch 14/50\n",
      "\u001b[1m75/75\u001b[0m \u001b[32m━━━━━━━━━━━━━━━━━━━━\u001b[0m\u001b[37m\u001b[0m \u001b[1m1s\u001b[0m 7ms/step - accuracy: 0.9342 - loss: 0.0067 - val_accuracy: 0.8911 - val_loss: 0.0109\n",
      "Epoch 15/50\n",
      "\u001b[1m75/75\u001b[0m \u001b[32m━━━━━━━━━━━━━━━━━━━━\u001b[0m\u001b[37m\u001b[0m \u001b[1m1s\u001b[0m 8ms/step - accuracy: 0.9434 - loss: 0.0057 - val_accuracy: 0.9112 - val_loss: 0.0109\n",
      "Epoch 16/50\n",
      "\u001b[1m75/75\u001b[0m \u001b[32m━━━━━━━━━━━━━━━━━━━━\u001b[0m\u001b[37m\u001b[0m \u001b[1m1s\u001b[0m 8ms/step - accuracy: 0.9404 - loss: 0.0057 - val_accuracy: 0.9079 - val_loss: 0.0109\n",
      "Epoch 17/50\n",
      "\u001b[1m75/75\u001b[0m \u001b[32m━━━━━━━━━━━━━━━━━━━━\u001b[0m\u001b[37m\u001b[0m \u001b[1m1s\u001b[0m 7ms/step - accuracy: 0.9487 - loss: 0.0063 - val_accuracy: 0.9112 - val_loss: 0.0110\n",
      "Epoch 18/50\n",
      "\u001b[1m75/75\u001b[0m \u001b[32m━━━━━━━━━━━━━━━━━━━━\u001b[0m\u001b[37m\u001b[0m \u001b[1m1s\u001b[0m 7ms/step - accuracy: 0.9447 - loss: 0.0056 - val_accuracy: 0.9179 - val_loss: 0.0107\n",
      "Epoch 19/50\n",
      "\u001b[1m75/75\u001b[0m \u001b[32m━━━━━━━━━━━━━━━━━━━━\u001b[0m\u001b[37m\u001b[0m \u001b[1m1s\u001b[0m 8ms/step - accuracy: 0.9541 - loss: 0.0057 - val_accuracy: 0.9129 - val_loss: 0.0106\n",
      "Epoch 20/50\n",
      "\u001b[1m75/75\u001b[0m \u001b[32m━━━━━━━━━━━━━━━━━━━━\u001b[0m\u001b[37m\u001b[0m \u001b[1m1s\u001b[0m 7ms/step - accuracy: 0.9586 - loss: 0.0063 - val_accuracy: 0.9062 - val_loss: 0.0126\n",
      "Epoch 21/50\n",
      "\u001b[1m75/75\u001b[0m \u001b[32m━━━━━━━━━━━━━━━━━━━━\u001b[0m\u001b[37m\u001b[0m \u001b[1m1s\u001b[0m 7ms/step - accuracy: 0.9212 - loss: 0.0091 - val_accuracy: 0.9129 - val_loss: 0.0105\n",
      "Epoch 22/50\n",
      "\u001b[1m75/75\u001b[0m \u001b[32m━━━━━━━━━━━━━━━━━━━━\u001b[0m\u001b[37m\u001b[0m \u001b[1m1s\u001b[0m 7ms/step - accuracy: 0.9480 - loss: 0.0058 - val_accuracy: 0.9028 - val_loss: 0.0115\n",
      "Epoch 23/50\n",
      "\u001b[1m75/75\u001b[0m \u001b[32m━━━━━━━━━━━━━━━━━━━━\u001b[0m\u001b[37m\u001b[0m \u001b[1m1s\u001b[0m 7ms/step - accuracy: 0.9381 - loss: 0.0057 - val_accuracy: 0.9129 - val_loss: 0.0111\n",
      "Epoch 24/50\n",
      "\u001b[1m75/75\u001b[0m \u001b[32m━━━━━━━━━━━━━━━━━━━━\u001b[0m\u001b[37m\u001b[0m \u001b[1m1s\u001b[0m 7ms/step - accuracy: 0.9590 - loss: 0.0056 - val_accuracy: 0.9129 - val_loss: 0.0109\n",
      "Epoch 25/50\n",
      "\u001b[1m75/75\u001b[0m \u001b[32m━━━━━━━━━━━━━━━━━━━━\u001b[0m\u001b[37m\u001b[0m \u001b[1m1s\u001b[0m 8ms/step - accuracy: 0.9583 - loss: 0.0052 - val_accuracy: 0.9146 - val_loss: 0.0113\n",
      "Epoch 26/50\n",
      "\u001b[1m75/75\u001b[0m \u001b[32m━━━━━━━━━━━━━━━━━━━━\u001b[0m\u001b[37m\u001b[0m \u001b[1m1s\u001b[0m 7ms/step - accuracy: 0.9665 - loss: 0.0047 - val_accuracy: 0.9196 - val_loss: 0.0108\n",
      "Epoch 27/50\n",
      "\u001b[1m75/75\u001b[0m \u001b[32m━━━━━━━━━━━━━━━━━━━━\u001b[0m\u001b[37m\u001b[0m \u001b[1m1s\u001b[0m 7ms/step - accuracy: 0.9674 - loss: 0.0051 - val_accuracy: 0.9196 - val_loss: 0.0112\n",
      "Epoch 28/50\n",
      "\u001b[1m75/75\u001b[0m \u001b[32m━━━━━━━━━━━━━━━━━━━━\u001b[0m\u001b[37m\u001b[0m \u001b[1m1s\u001b[0m 7ms/step - accuracy: 0.9641 - loss: 0.0054 - val_accuracy: 0.9263 - val_loss: 0.0111\n",
      "Epoch 29/50\n",
      "\u001b[1m75/75\u001b[0m \u001b[32m━━━━━━━━━━━━━━━━━━━━\u001b[0m\u001b[37m\u001b[0m \u001b[1m1s\u001b[0m 7ms/step - accuracy: 0.9721 - loss: 0.0040 - val_accuracy: 0.8978 - val_loss: 0.0118\n",
      "Epoch 30/50\n",
      "\u001b[1m75/75\u001b[0m \u001b[32m━━━━━━━━━━━━━━━━━━━━\u001b[0m\u001b[37m\u001b[0m \u001b[1m1s\u001b[0m 7ms/step - accuracy: 0.9737 - loss: 0.0042 - val_accuracy: 0.9112 - val_loss: 0.0117\n",
      "Epoch 31/50\n",
      "\u001b[1m75/75\u001b[0m \u001b[32m━━━━━━━━━━━━━━━━━━━━\u001b[0m\u001b[37m\u001b[0m \u001b[1m1s\u001b[0m 7ms/step - accuracy: 0.9667 - loss: 0.0051 - val_accuracy: 0.9146 - val_loss: 0.0120\n",
      "Epoch 32/50\n",
      "\u001b[1m75/75\u001b[0m \u001b[32m━━━━━━━━━━━━━━━━━━━━\u001b[0m\u001b[37m\u001b[0m \u001b[1m1s\u001b[0m 7ms/step - accuracy: 0.9712 - loss: 0.0069 - val_accuracy: 0.9162 - val_loss: 0.0125\n",
      "Epoch 33/50\n",
      "\u001b[1m75/75\u001b[0m \u001b[32m━━━━━━━━━━━━━━━━━━━━\u001b[0m\u001b[37m\u001b[0m \u001b[1m1s\u001b[0m 7ms/step - accuracy: 0.9638 - loss: 0.0048 - val_accuracy: 0.9028 - val_loss: 0.0134\n",
      "Epoch 34/50\n",
      "\u001b[1m75/75\u001b[0m \u001b[32m━━━━━━━━━━━━━━━━━━━━\u001b[0m\u001b[37m\u001b[0m \u001b[1m1s\u001b[0m 7ms/step - accuracy: 0.9448 - loss: 0.0059 - val_accuracy: 0.8559 - val_loss: 0.0167\n",
      "Epoch 35/50\n",
      "\u001b[1m75/75\u001b[0m \u001b[32m━━━━━━━━━━━━━━━━━━━━\u001b[0m\u001b[37m\u001b[0m \u001b[1m1s\u001b[0m 7ms/step - accuracy: 0.9200 - loss: 0.0054 - val_accuracy: 0.9229 - val_loss: 0.0096\n",
      "Epoch 36/50\n",
      "\u001b[1m75/75\u001b[0m \u001b[32m━━━━━━━━━━━━━━━━━━━━\u001b[0m\u001b[37m\u001b[0m \u001b[1m1s\u001b[0m 7ms/step - accuracy: 0.9562 - loss: 0.0030 - val_accuracy: 0.9196 - val_loss: 0.0111\n",
      "Epoch 37/50\n",
      "\u001b[1m75/75\u001b[0m \u001b[32m━━━━━━━━━━━━━━━━━━━━\u001b[0m\u001b[37m\u001b[0m \u001b[1m1s\u001b[0m 7ms/step - accuracy: 0.9716 - loss: 0.0034 - val_accuracy: 0.9296 - val_loss: 0.0107\n",
      "Epoch 38/50\n",
      "\u001b[1m75/75\u001b[0m \u001b[32m━━━━━━━━━━━━━━━━━━━━\u001b[0m\u001b[37m\u001b[0m \u001b[1m1s\u001b[0m 7ms/step - accuracy: 0.9639 - loss: 0.0033 - val_accuracy: 0.9162 - val_loss: 0.0107\n",
      "Epoch 39/50\n",
      "\u001b[1m75/75\u001b[0m \u001b[32m━━━━━━━━━━━━━━━━━━━━\u001b[0m\u001b[37m\u001b[0m \u001b[1m1s\u001b[0m 8ms/step - accuracy: 0.9713 - loss: 0.0046 - val_accuracy: 0.9229 - val_loss: 0.0104\n",
      "Epoch 40/50\n",
      "\u001b[1m75/75\u001b[0m \u001b[32m━━━━━━━━━━━━━━━━━━━━\u001b[0m\u001b[37m\u001b[0m \u001b[1m1s\u001b[0m 7ms/step - accuracy: 0.9823 - loss: 0.0027 - val_accuracy: 0.9162 - val_loss: 0.0109\n",
      "Epoch 41/50\n",
      "\u001b[1m75/75\u001b[0m \u001b[32m━━━━━━━━━━━━━━━━━━━━\u001b[0m\u001b[37m\u001b[0m \u001b[1m1s\u001b[0m 7ms/step - accuracy: 0.9761 - loss: 0.0032 - val_accuracy: 0.9196 - val_loss: 0.0108\n",
      "Epoch 42/50\n",
      "\u001b[1m75/75\u001b[0m \u001b[32m━━━━━━━━━━━━━━━━━━━━\u001b[0m\u001b[37m\u001b[0m \u001b[1m1s\u001b[0m 7ms/step - accuracy: 0.9756 - loss: 0.0040 - val_accuracy: 0.9263 - val_loss: 0.0106\n",
      "Epoch 43/50\n",
      "\u001b[1m75/75\u001b[0m \u001b[32m━━━━━━━━━━━━━━━━━━━━\u001b[0m\u001b[37m\u001b[0m \u001b[1m1s\u001b[0m 7ms/step - accuracy: 0.9813 - loss: 0.0030 - val_accuracy: 0.9179 - val_loss: 0.0111\n",
      "Epoch 44/50\n",
      "\u001b[1m75/75\u001b[0m \u001b[32m━━━━━━━━━━━━━━━━━━━━\u001b[0m\u001b[37m\u001b[0m \u001b[1m1s\u001b[0m 8ms/step - accuracy: 0.9857 - loss: 0.0029 - val_accuracy: 0.9179 - val_loss: 0.0114\n",
      "Epoch 45/50\n",
      "\u001b[1m75/75\u001b[0m \u001b[32m━━━━━━━━━━━━━━━━━━━━\u001b[0m\u001b[37m\u001b[0m \u001b[1m1s\u001b[0m 7ms/step - accuracy: 0.9873 - loss: 0.0014 - val_accuracy: 0.9229 - val_loss: 0.0116\n",
      "Epoch 46/50\n",
      "\u001b[1m75/75\u001b[0m \u001b[32m━━━━━━━━━━━━━━━━━━━━\u001b[0m\u001b[37m\u001b[0m \u001b[1m1s\u001b[0m 7ms/step - accuracy: 0.9821 - loss: 0.0040 - val_accuracy: 0.9213 - val_loss: 0.0120\n",
      "Epoch 47/50\n",
      "\u001b[1m75/75\u001b[0m \u001b[32m━━━━━━━━━━━━━━━━━━━━\u001b[0m\u001b[37m\u001b[0m \u001b[1m1s\u001b[0m 7ms/step - accuracy: 0.9840 - loss: 0.0025 - val_accuracy: 0.9229 - val_loss: 0.0116\n",
      "Epoch 48/50\n",
      "\u001b[1m75/75\u001b[0m \u001b[32m━━━━━━━━━━━━━━━━━━━━\u001b[0m\u001b[37m\u001b[0m \u001b[1m1s\u001b[0m 7ms/step - accuracy: 0.9838 - loss: 0.0027 - val_accuracy: 0.9146 - val_loss: 0.0116\n",
      "Epoch 49/50\n",
      "\u001b[1m75/75\u001b[0m \u001b[32m━━━━━━━━━━━━━━━━━━━━\u001b[0m\u001b[37m\u001b[0m \u001b[1m1s\u001b[0m 7ms/step - accuracy: 0.9875 - loss: 0.0029 - val_accuracy: 0.9196 - val_loss: 0.0120\n",
      "Epoch 50/50\n",
      "\u001b[1m75/75\u001b[0m \u001b[32m━━━━━━━━━━━━━━━━━━━━\u001b[0m\u001b[37m\u001b[0m \u001b[1m1s\u001b[0m 7ms/step - accuracy: 0.9874 - loss: 0.0027 - val_accuracy: 0.9179 - val_loss: 0.0124\n"
     ]
    }
   ],
   "source": [
    "# history = model.fit(X_train, y_train, epochs=100, validation_split=0.2, callbacks = [callback])\n",
    "\n",
    "history = model.fit(X_train, y_train, epochs=50, validation_split=0.2)"
   ]
  },
  {
   "cell_type": "code",
   "execution_count": 560,
   "metadata": {},
   "outputs": [
    {
     "name": "stdout",
     "output_type": "stream",
     "text": [
      "\u001b[1m24/24\u001b[0m \u001b[32m━━━━━━━━━━━━━━━━━━━━\u001b[0m\u001b[37m\u001b[0m \u001b[1m0s\u001b[0m 3ms/step - accuracy: 0.8994 - loss: 0.0184\n"
     ]
    },
    {
     "data": {
      "text/plain": [
       "{'accuracy': 0.9128686189651489, 'loss': 0.015201425179839134}"
      ]
     },
     "execution_count": 560,
     "metadata": {},
     "output_type": "execute_result"
    }
   ],
   "source": [
    "model.evaluate(X_test, y_test, return_dict=True)"
   ]
  },
  {
   "cell_type": "code",
   "execution_count": 561,
   "metadata": {},
   "outputs": [],
   "source": [
    "def plot_loss(history, which='loss'):\n",
    "    plt.plot(history.history[which], label='train')\n",
    "    try:\n",
    "        plt.plot(history.history['val_'+which], label='validation')\n",
    "    except:\n",
    "        None\n",
    "    plt.xlabel('Epoch')\n",
    "    plt.ylabel(which)\n",
    "    plt.legend()\n",
    "    plt.grid(True)"
   ]
  },
  {
   "cell_type": "code",
   "execution_count": 562,
   "metadata": {},
   "outputs": [
    {
     "data": {
      "image/png": "[encoded data removed]",
      "text/plain": [
       "<Figure size 640x480 with 1 Axes>"
      ]
     },
     "metadata": {},
     "output_type": "display_data"
    }
   ],
   "source": [
    "plot_loss(history)"
   ]
  },
  {
   "cell_type": "code",
   "execution_count": 563,
   "metadata": {},
   "outputs": [
    {
     "name": "stdout",
     "output_type": "stream",
     "text": [
      "\u001b[1m24/24\u001b[0m \u001b[32m━━━━━━━━━━━━━━━━━━━━\u001b[0m\u001b[37m\u001b[0m \u001b[1m0s\u001b[0m 4ms/step\n"
     ]
    },
    {
     "data": {
      "text/plain": [
       "<sklearn.metrics._plot.confusion_matrix.ConfusionMatrixDisplay at 0x22b7e0175f0>"
      ]
     },
     "execution_count": 563,
     "metadata": {},
     "output_type": "execute_result"
    },
    {
     "data": {
      "image/png": "[encoded data removed]",
      "text/plain": [
       "<Figure size 640x480 with 2 Axes>"
      ]
     },
     "metadata": {},
     "output_type": "display_data"
    }
   ],
   "source": [
    "y_pred_prob = model.predict(X_test)  # Predicted probabilities\n",
    "y_pred = np.argmax(y_pred_prob, axis=1)  # Convert to class labels\n",
    "\n",
    "# Convert y_test from one-hot to class labels\n",
    "y_true = np.argmax(y_test, axis=1)\n",
    "\n",
    "# Generate the confusion matrix\n",
    "cm = confusion_matrix(y_true, y_pred)\n",
    "\n",
    "# Display the confusion matrix\n",
    "disp = ConfusionMatrixDisplay(confusion_matrix=cm, display_labels=range(y_test.shape[1]))\n",
    "disp.plot(cmap='viridis')"
   ]
  },
  {
   "cell_type": "code",
   "execution_count": 564,
   "metadata": {},
   "outputs": [],
   "source": [
    "model.compile(\n",
    "    optimizer=tf.keras.optimizers.Adam(0.001),\n",
    "    loss=tf.keras.losses.CategoricalCrossentropy(from_logits=False),  #from_logits=False as softmax is on the output of the CNN\n",
    "    metrics = [\n",
    "    'accuracy',\n",
    "    tf.keras.metrics.Precision(thresholds=0.5, name=\"precision\"),\n",
    "    tf.keras.metrics.Recall(thresholds=0.5, name=\"recall\"),\n",
    "    tf.keras.metrics.F1Score(threshold=0.5, average='macro', name=\"f1_score\"),\n",
    "]\n",
    ")"
   ]
  },
  {
   "cell_type": "code",
   "execution_count": 569,
   "metadata": {},
   "outputs": [
    {
     "name": "stdout",
     "output_type": "stream",
     "text": [
      "Epoch 1/20\n",
      "\u001b[1m75/75\u001b[0m \u001b[32m━━━━━━━━━━━━━━━━━━━━\u001b[0m\u001b[37m\u001b[0m \u001b[1m1s\u001b[0m 9ms/step - accuracy: 0.9999 - f1_score: 0.9969 - loss: 0.0050 - precision: 0.9999 - recall: 0.9999 - val_accuracy: 0.9330 - val_f1_score: 0.6214 - val_loss: 519.1270 - val_precision: 0.9376 - val_recall: 0.9313\n",
      "Epoch 2/20\n",
      "\u001b[1m75/75\u001b[0m \u001b[32m━━━━━━━━━━━━━━━━━━━━\u001b[0m\u001b[37m\u001b[0m \u001b[1m1s\u001b[0m 8ms/step - accuracy: 0.9992 - f1_score: 0.9635 - loss: 0.0068 - precision: 0.9992 - recall: 0.9989 - val_accuracy: 0.9363 - val_f1_score: 0.6273 - val_loss: 512.2010 - val_precision: 0.9424 - val_recall: 0.9313\n",
      "Epoch 3/20\n",
      "\u001b[1m75/75\u001b[0m \u001b[32m━━━━━━━━━━━━━━━━━━━━\u001b[0m\u001b[37m\u001b[0m \u001b[1m1s\u001b[0m 7ms/step - accuracy: 0.9990 - f1_score: 0.9538 - loss: 0.0060 - precision: 0.9990 - recall: 0.9990 - val_accuracy: 0.9330 - val_f1_score: 0.6178 - val_loss: 536.5741 - val_precision: 0.9330 - val_recall: 0.9330\n",
      "Epoch 4/20\n",
      "\u001b[1m75/75\u001b[0m \u001b[32m━━━━━━━━━━━━━━━━━━━━\u001b[0m\u001b[37m\u001b[0m \u001b[1m1s\u001b[0m 8ms/step - accuracy: 0.9989 - f1_score: 0.9885 - loss: 0.0069 - precision: 0.9989 - recall: 0.9989 - val_accuracy: 0.9229 - val_f1_score: 0.6075 - val_loss: 499.3355 - val_precision: 0.9259 - val_recall: 0.9213\n",
      "Epoch 5/20\n",
      "\u001b[1m75/75\u001b[0m \u001b[32m━━━━━━━━━━━━━━━━━━━━\u001b[0m\u001b[37m\u001b[0m \u001b[1m1s\u001b[0m 7ms/step - accuracy: 0.9994 - f1_score: 0.9751 - loss: 0.0089 - precision: 0.9994 - recall: 0.9994 - val_accuracy: 0.9296 - val_f1_score: 0.6155 - val_loss: 543.2438 - val_precision: 0.9328 - val_recall: 0.9296\n",
      "Epoch 6/20\n",
      "\u001b[1m75/75\u001b[0m \u001b[32m━━━━━━━━━━━━━━━━━━━━\u001b[0m\u001b[37m\u001b[0m \u001b[1m1s\u001b[0m 7ms/step - accuracy: 0.9996 - f1_score: 0.9513 - loss: 0.0046 - precision: 0.9996 - recall: 0.9996 - val_accuracy: 0.9330 - val_f1_score: 0.6275 - val_loss: 523.3219 - val_precision: 0.9409 - val_recall: 0.9330\n",
      "Epoch 7/20\n",
      "\u001b[1m75/75\u001b[0m \u001b[32m━━━━━━━━━━━━━━━━━━━━\u001b[0m\u001b[37m\u001b[0m \u001b[1m1s\u001b[0m 8ms/step - accuracy: 0.9993 - f1_score: 0.9516 - loss: 0.0053 - precision: 0.9993 - recall: 0.9984 - val_accuracy: 0.9380 - val_f1_score: 0.6276 - val_loss: 538.1260 - val_precision: 0.9412 - val_recall: 0.9380\n",
      "Epoch 8/20\n",
      "\u001b[1m75/75\u001b[0m \u001b[32m━━━━━━━━━━━━━━━━━━━━\u001b[0m\u001b[37m\u001b[0m \u001b[1m1s\u001b[0m 8ms/step - accuracy: 0.9978 - f1_score: 0.9796 - loss: 0.0074 - precision: 0.9978 - recall: 0.9978 - val_accuracy: 0.9363 - val_f1_score: 0.6219 - val_loss: 527.9262 - val_precision: 0.9361 - val_recall: 0.9330\n",
      "Epoch 9/20\n",
      "\u001b[1m75/75\u001b[0m \u001b[32m━━━━━━━━━━━━━━━━━━━━\u001b[0m\u001b[37m\u001b[0m \u001b[1m1s\u001b[0m 8ms/step - accuracy: 0.9999 - f1_score: 0.9897 - loss: 0.0027 - precision: 0.9999 - recall: 0.9999 - val_accuracy: 0.9313 - val_f1_score: 0.6230 - val_loss: 528.6057 - val_precision: 0.9376 - val_recall: 0.9313\n",
      "Epoch 10/20\n",
      "\u001b[1m75/75\u001b[0m \u001b[32m━━━━━━━━━━━━━━━━━━━━\u001b[0m\u001b[37m\u001b[0m \u001b[1m1s\u001b[0m 8ms/step - accuracy: 0.9982 - f1_score: 0.9823 - loss: 0.0061 - precision: 0.9982 - recall: 0.9977 - val_accuracy: 0.9296 - val_f1_score: 0.6180 - val_loss: 540.7333 - val_precision: 0.9312 - val_recall: 0.9296\n",
      "Epoch 11/20\n",
      "\u001b[1m75/75\u001b[0m \u001b[32m━━━━━━━━━━━━━━━━━━━━\u001b[0m\u001b[37m\u001b[0m \u001b[1m1s\u001b[0m 8ms/step - accuracy: 0.9859 - f1_score: 0.9724 - loss: 0.0494 - precision: 0.9863 - recall: 0.9852 - val_accuracy: 0.9196 - val_f1_score: 0.6046 - val_loss: 612.8333 - val_precision: 0.9193 - val_recall: 0.9162\n",
      "Epoch 12/20\n",
      "\u001b[1m75/75\u001b[0m \u001b[32m━━━━━━━━━━━━━━━━━━━━\u001b[0m\u001b[37m\u001b[0m \u001b[1m1s\u001b[0m 7ms/step - accuracy: 0.9847 - f1_score: 0.9159 - loss: 0.0399 - precision: 0.9852 - recall: 0.9843 - val_accuracy: 0.9330 - val_f1_score: 0.6100 - val_loss: 563.6404 - val_precision: 0.9376 - val_recall: 0.9313\n",
      "Epoch 13/20\n",
      "\u001b[1m75/75\u001b[0m \u001b[32m━━━━━━━━━━━━━━━━━━━━\u001b[0m\u001b[37m\u001b[0m \u001b[1m1s\u001b[0m 8ms/step - accuracy: 0.9954 - f1_score: 0.9803 - loss: 0.0199 - precision: 0.9954 - recall: 0.9953 - val_accuracy: 0.9296 - val_f1_score: 0.6144 - val_loss: 566.4663 - val_precision: 0.9311 - val_recall: 0.9280\n",
      "Epoch 14/20\n",
      "\u001b[1m75/75\u001b[0m \u001b[32m━━━━━━━━━━━━━━━━━━━━\u001b[0m\u001b[37m\u001b[0m \u001b[1m1s\u001b[0m 8ms/step - accuracy: 0.9911 - f1_score: 0.9594 - loss: 0.0562 - precision: 0.9911 - recall: 0.9911 - val_accuracy: 0.9380 - val_f1_score: 0.6273 - val_loss: 617.1590 - val_precision: 0.9412 - val_recall: 0.9380\n",
      "Epoch 15/20\n",
      "\u001b[1m75/75\u001b[0m \u001b[32m━━━━━━━━━━━━━━━━━━━━\u001b[0m\u001b[37m\u001b[0m \u001b[1m1s\u001b[0m 8ms/step - accuracy: 0.9912 - f1_score: 0.9693 - loss: 0.0533 - precision: 0.9921 - recall: 0.9909 - val_accuracy: 0.9246 - val_f1_score: 0.6136 - val_loss: 565.1594 - val_precision: 0.9262 - val_recall: 0.9246\n",
      "Epoch 16/20\n",
      "\u001b[1m75/75\u001b[0m \u001b[32m━━━━━━━━━━━━━━━━━━━━\u001b[0m\u001b[37m\u001b[0m \u001b[1m1s\u001b[0m 8ms/step - accuracy: 0.9928 - f1_score: 0.9758 - loss: 0.0301 - precision: 0.9932 - recall: 0.9928 - val_accuracy: 0.9414 - val_f1_score: 0.6329 - val_loss: 586.1605 - val_precision: 0.9430 - val_recall: 0.9414\n",
      "Epoch 17/20\n",
      "\u001b[1m75/75\u001b[0m \u001b[32m━━━━━━━━━━━━━━━━━━━━\u001b[0m\u001b[37m\u001b[0m \u001b[1m1s\u001b[0m 8ms/step - accuracy: 0.9973 - f1_score: 0.9672 - loss: 0.0081 - precision: 0.9973 - recall: 0.9973 - val_accuracy: 0.9414 - val_f1_score: 0.6271 - val_loss: 605.5865 - val_precision: 0.9414 - val_recall: 0.9414\n",
      "Epoch 18/20\n",
      "\u001b[1m75/75\u001b[0m \u001b[32m━━━━━━━━━━━━━━━━━━━━\u001b[0m\u001b[37m\u001b[0m \u001b[1m1s\u001b[0m 8ms/step - accuracy: 0.9999 - f1_score: 0.9817 - loss: 0.0031 - precision: 0.9999 - recall: 0.9999 - val_accuracy: 0.9397 - val_f1_score: 0.6261 - val_loss: 600.5387 - val_precision: 0.9412 - val_recall: 0.9380\n",
      "Epoch 19/20\n",
      "\u001b[1m75/75\u001b[0m \u001b[32m━━━━━━━━━━━━━━━━━━━━\u001b[0m\u001b[37m\u001b[0m \u001b[1m1s\u001b[0m 8ms/step - accuracy: 0.9993 - f1_score: 0.9901 - loss: 0.0036 - precision: 0.9993 - recall: 0.9993 - val_accuracy: 0.9380 - val_f1_score: 0.6282 - val_loss: 600.9355 - val_precision: 0.9428 - val_recall: 0.9380\n",
      "Epoch 20/20\n",
      "\u001b[1m75/75\u001b[0m \u001b[32m━━━━━━━━━━━━━━━━━━━━\u001b[0m\u001b[37m\u001b[0m \u001b[1m1s\u001b[0m 8ms/step - accuracy: 0.9995 - f1_score: 0.9472 - loss: 0.0033 - precision: 0.9995 - recall: 0.9995 - val_accuracy: 0.9397 - val_f1_score: 0.6266 - val_loss: 600.3395 - val_precision: 0.9429 - val_recall: 0.9397\n"
     ]
    }
   ],
   "source": [
    "history = model.fit(X_train, y_train, epochs=20, validation_split=0.2)"
   ]
  },
  {
   "cell_type": "code",
   "execution_count": 570,
   "metadata": {},
   "outputs": [
    {
     "data": {
      "image/png": "[encoded data removed]",
      "text/plain": [
       "<Figure size 640x480 with 1 Axes>"
      ]
     },
     "metadata": {},
     "output_type": "display_data"
    }
   ],
   "source": [
    "plot_loss(history)"
   ]
  },
  {
   "cell_type": "code",
   "execution_count": 571,
   "metadata": {},
   "outputs": [
    {
     "name": "stdout",
     "output_type": "stream",
     "text": [
      "\u001b[1m24/24\u001b[0m \u001b[32m━━━━━━━━━━━━━━━━━━━━\u001b[0m\u001b[37m\u001b[0m \u001b[1m0s\u001b[0m 3ms/step - accuracy: 0.9117 - f1_score: 0.6062 - loss: 144.9729 - precision: 0.9145 - recall: 0.9111\n"
     ]
    },
    {
     "data": {
      "text/plain": [
       "{'accuracy': 0.9276139140129089,\n",
       " 'f1_score': 0.6466860175132751,\n",
       " 'loss': 216.4634246826172,\n",
       " 'precision': 0.9300134778022766,\n",
       " 'recall': 0.9262734651565552}"
      ]
     },
     "execution_count": 571,
     "metadata": {},
     "output_type": "execute_result"
    }
   ],
   "source": [
    "model.evaluate(X_test, y_test, return_dict=True)"
   ]
  },
  {
   "cell_type": "code",
   "execution_count": 572,
   "metadata": {},
   "outputs": [
    {
     "name": "stdout",
     "output_type": "stream",
     "text": [
      "\u001b[1m24/24\u001b[0m \u001b[32m━━━━━━━━━━━━━━━━━━━━\u001b[0m\u001b[37m\u001b[0m \u001b[1m0s\u001b[0m 3ms/step\n"
     ]
    },
    {
     "data": {
      "text/plain": [
       "<sklearn.metrics._plot.confusion_matrix.ConfusionMatrixDisplay at 0x22b663bbec0>"
      ]
     },
     "execution_count": 572,
     "metadata": {},
     "output_type": "execute_result"
    },
    {
     "data": {
      "image/png": "[encoded data removed]",
      "text/plain": [
       "<Figure size 640x480 with 2 Axes>"
      ]
     },
     "metadata": {},
     "output_type": "display_data"
    }
   ],
   "source": [
    "y_pred_prob = model.predict(X_test)  # Predicted probabilities\n",
    "y_pred = np.argmax(y_pred_prob, axis=1)  # Convert to class labels\n",
    "\n",
    "# Convert y_test from one-hot to class labels\n",
    "y_true = np.argmax(y_test, axis=1)\n",
    "\n",
    "# Generate the confusion matrix\n",
    "cm = confusion_matrix(y_true, y_pred)\n",
    "\n",
    "# Display the confusion matrix\n",
    "disp = ConfusionMatrixDisplay(confusion_matrix=cm, display_labels=range(y_test.shape[1]))\n",
    "disp.plot(cmap='viridis')"
   ]
  },
  {
   "cell_type": "code",
   "execution_count": null,
   "metadata": {},
   "outputs": [],
   "source": []
  },
  {
   "cell_type": "code",
   "execution_count": null,
   "metadata": {},
   "outputs": [],
   "source": []
  },
  {
   "cell_type": "markdown",
   "metadata": {},
   "source": [
    "---\n",
    "\n",
    "### **Step C: Refine**\n",
    "\n",
    "---"
   ]
  },
  {
   "cell_type": "markdown",
   "metadata": {
    "jp-MarkdownHeadingCollapsed": true
   },
   "source": [
    "---\n",
    "\n",
    "### **References**\n",
    "\n",
    "1. [Bird Song Dataset on Kaggle](https://www.kaggle.com/code/sophiagnetneva/cnn-for-sound-classification-bird-calls-90)\n",
    "\n",
    "\n",
    "\n"
   ]
  },
  {
   "cell_type": "markdown",
   "metadata": {},
   "source": [
    "---\n",
    "\n",
    "# END"
   ]
  }
 ],
 "metadata": {
  "kernelspec": {
   "display_name": ".venv",
   "language": "python",
   "name": "python3"
  },
  "language_info": {
   "codemirror_mode": {
    "name": "ipython",
    "version": 3
   },
   "file_extension": ".py",
   "mimetype": "text/x-python",
   "name": "python",
   "nbconvert_exporter": "python",
   "pygments_lexer": "ipython3",
   "version": "3.12.8"
  }
 },
 "nbformat": 4,
 "nbformat_minor": 4
}
