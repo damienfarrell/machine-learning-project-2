{
 "cells": [
  {
   "cell_type": "markdown",
   "metadata": {},
   "source": [
    "# **Machine Learning: Project Part 2**\n",
    "\n",
    "---\n",
    "\n",
    "**Author: Damien Farrell**\n",
    "\n",
    "---"
   ]
  },
  {
   "cell_type": "markdown",
   "metadata": {},
   "source": [
    "## **Project Part 2: Seal Call Discrimination**\n",
    "\n",
    "### **Objective**\n",
    "The aim of this project is to analyze a recorded dataset to investigate the feasibility of discriminating between different seal calls. The project is structured in steps to build a machine learning model that can potentially detect seal calls from audio recordings. While creating a fully functional detector is the ultimate goal, it may not be the final outcome of this project.\n",
    "\n",
    "#### **Step A: Data Pre-processing**\n",
    "\n",
    "This step is completed in notebook `data_preprocessing.ipynb`. The file `processed_data.pkl` was produced from this notebook.\n",
    "\n",
    "#### **Step B: Model Training**\n",
    "1. **Dataset Utilisation**:\n",
    "   - Use the prepared spectrogram dataset to train the machine learning model.\n",
    "\n",
    "3. **Evaluation**:\n",
    "   - Test the model’s performance on a separate test dataset.\n",
    "\n",
    "#### **Step C: Refine**\n",
    "1. **Parameter Tuning**:\n",
    "   - Adjust parameters in the data extraction/spectrogram creation process (e.g., `nfft`, `noverlap`).\n",
    "   - Manage computational costs by splitting `.wav` files using tools like `pydub`.\n",
    "\n",
    "2. **Validation**:\n",
    "   - Apply the Rupe B/No Call classifier on an entire `.wav` file (held back during training).\n",
    "   - Ensure no false positives due to the presence of other annotated calls."
   ]
  },
  {
   "cell_type": "code",
   "execution_count": 45,
   "metadata": {},
   "outputs": [],
   "source": [
    "import tensorflow as tf\n",
    "import pandas as pd\n",
    "import seaborn as sns\n",
    "from tensorflow.keras.applications import EfficientNetB4\n",
    "from tensorflow.keras.applications.efficientnet import preprocess_input\n",
    "from tensorflow.keras import layers, regularizers\n",
    "import numpy as np\n",
    "from sklearn.svm import SVC\n",
    "import matplotlib.pyplot as plt\n",
    "from sklearn.model_selection import train_test_split, StratifiedKFold\n",
    "from sklearn.preprocessing import MinMaxScaler\n",
    "from sklearn.metrics import confusion_matrix, classification_report, accuracy_score\n",
    "from tensorflow.keras.preprocessing.image import ImageDataGenerator\n",
    "from keras.models import load_model\n",
    "from tensorflow.keras.regularizers import l2\n",
    "import tensorflow.keras.backend as K\n",
    "from lightgbm import LGBMClassifier\n",
    "from sklearn.utils import class_weight\n",
    "\n"
   ]
  },
  {
   "cell_type": "markdown",
   "metadata": {},
   "source": [
    "---\n",
    "\n",
    "### **Step B: Model Training** \n",
    "\n",
    "---"
   ]
  },
  {
   "cell_type": "code",
   "execution_count": 46,
   "metadata": {},
   "outputs": [
    {
     "data": {
      "text/html": [
       "<div>\n",
       "<style scoped>\n",
       "    .dataframe tbody tr th:only-of-type {\n",
       "        vertical-align: middle;\n",
       "    }\n",
       "\n",
       "    .dataframe tbody tr th {\n",
       "        vertical-align: top;\n",
       "    }\n",
       "\n",
       "    .dataframe thead th {\n",
       "        text-align: right;\n",
       "    }\n",
       "</style>\n",
       "<table border=\"1\" class=\"dataframe\">\n",
       "  <thead>\n",
       "    <tr style=\"text-align: right;\">\n",
       "      <th></th>\n",
       "      <th>Selection</th>\n",
       "      <th>View</th>\n",
       "      <th>Channel</th>\n",
       "      <th>Begin Time (s)</th>\n",
       "      <th>End Time (s)</th>\n",
       "      <th>Low Freq (Hz)</th>\n",
       "      <th>High Freq (Hz)</th>\n",
       "      <th>Delta Time (s)</th>\n",
       "      <th>Delta Freq (Hz)</th>\n",
       "      <th>Avg Power Density (dB FS/Hz)</th>\n",
       "      <th>Annotation</th>\n",
       "      <th>file_name</th>\n",
       "      <th>folder_name</th>\n",
       "      <th>snippet_spectrogram</th>\n",
       "      <th>snippet_times</th>\n",
       "      <th>snippet_frequencies</th>\n",
       "    </tr>\n",
       "  </thead>\n",
       "  <tbody>\n",
       "    <tr>\n",
       "      <th>0</th>\n",
       "      <td>1</td>\n",
       "      <td>Spectrogram 1</td>\n",
       "      <td>1</td>\n",
       "      <td>4.136987</td>\n",
       "      <td>4.657535</td>\n",
       "      <td>173.956</td>\n",
       "      <td>286.792</td>\n",
       "      <td>0.5205</td>\n",
       "      <td>112.836</td>\n",
       "      <td>-82.85</td>\n",
       "      <td>G Rupe</td>\n",
       "      <td>5711.211013040024</td>\n",
       "      <td>Guttural rupe</td>\n",
       "      <td>[[10.569122314453125, 4.712647438049316, 1.273...</td>\n",
       "      <td>[4.131708333333333, 4.1445, 4.157291666666667,...</td>\n",
       "      <td>[23.4375, 46.875, 70.3125, 93.75, 117.1875, 14...</td>\n",
       "    </tr>\n",
       "    <tr>\n",
       "      <th>1</th>\n",
       "      <td>2</td>\n",
       "      <td>Spectrogram 1</td>\n",
       "      <td>1</td>\n",
       "      <td>3.789955</td>\n",
       "      <td>4.264841</td>\n",
       "      <td>371.419</td>\n",
       "      <td>451.345</td>\n",
       "      <td>0.4749</td>\n",
       "      <td>79.926</td>\n",
       "      <td>-92.16</td>\n",
       "      <td>G Rupe</td>\n",
       "      <td>5711.211013040024</td>\n",
       "      <td>Guttural rupe</td>\n",
       "      <td>[[42.39829635620117, 55.68126678466797, 83.361...</td>\n",
       "      <td>[3.7863333333333333, 3.799125, 3.8119166666666...</td>\n",
       "      <td>[23.4375, 46.875, 70.3125, 93.75, 117.1875, 14...</td>\n",
       "    </tr>\n",
       "    <tr>\n",
       "      <th>2</th>\n",
       "      <td>3</td>\n",
       "      <td>Spectrogram 1</td>\n",
       "      <td>1</td>\n",
       "      <td>14.840188</td>\n",
       "      <td>15.406398</td>\n",
       "      <td>136.660</td>\n",
       "      <td>445.248</td>\n",
       "      <td>0.5662</td>\n",
       "      <td>308.588</td>\n",
       "      <td>-88.96</td>\n",
       "      <td>G Rupe</td>\n",
       "      <td>5711.211013040024</td>\n",
       "      <td>Guttural rupe</td>\n",
       "      <td>[[29.341825485229492, 8.032623291015625, 43.69...</td>\n",
       "      <td>[14.838333333333333, 14.851125, 14.86391666666...</td>\n",
       "      <td>[23.4375, 46.875, 70.3125, 93.75, 117.1875, 14...</td>\n",
       "    </tr>\n",
       "    <tr>\n",
       "      <th>3</th>\n",
       "      <td>4</td>\n",
       "      <td>Spectrogram 1</td>\n",
       "      <td>1</td>\n",
       "      <td>24.543802</td>\n",
       "      <td>25.082615</td>\n",
       "      <td>167.519</td>\n",
       "      <td>392.347</td>\n",
       "      <td>0.5388</td>\n",
       "      <td>224.828</td>\n",
       "      <td>-86.10</td>\n",
       "      <td>G Rupe</td>\n",
       "      <td>5711.211013040024</td>\n",
       "      <td>Guttural rupe</td>\n",
       "      <td>[[0.28541040420532227, 0.41072168946266174, 2....</td>\n",
       "      <td>[24.547208333333334, 24.56, 24.572791666666667...</td>\n",
       "      <td>[23.4375, 46.875, 70.3125, 93.75, 117.1875, 14...</td>\n",
       "    </tr>\n",
       "    <tr>\n",
       "      <th>4</th>\n",
       "      <td>5</td>\n",
       "      <td>Spectrogram 1</td>\n",
       "      <td>1</td>\n",
       "      <td>35.989220</td>\n",
       "      <td>36.573694</td>\n",
       "      <td>119.027</td>\n",
       "      <td>436.431</td>\n",
       "      <td>0.5845</td>\n",
       "      <td>317.405</td>\n",
       "      <td>-80.18</td>\n",
       "      <td>G Rupe</td>\n",
       "      <td>5711.211013040024</td>\n",
       "      <td>Guttural rupe</td>\n",
       "      <td>[[13.951732635498047, 23.50061798095703, 20.28...</td>\n",
       "      <td>[35.982958333333336, 35.99575, 36.008541666666...</td>\n",
       "      <td>[23.4375, 46.875, 70.3125, 93.75, 117.1875, 14...</td>\n",
       "    </tr>\n",
       "  </tbody>\n",
       "</table>\n",
       "</div>"
      ],
      "text/plain": [
       "  Selection           View Channel  Begin Time (s)  End Time (s)  \\\n",
       "0         1  Spectrogram 1       1        4.136987      4.657535   \n",
       "1         2  Spectrogram 1       1        3.789955      4.264841   \n",
       "2         3  Spectrogram 1       1       14.840188     15.406398   \n",
       "3         4  Spectrogram 1       1       24.543802     25.082615   \n",
       "4         5  Spectrogram 1       1       35.989220     36.573694   \n",
       "\n",
       "   Low Freq (Hz)  High Freq (Hz)  Delta Time (s)  Delta Freq (Hz)  \\\n",
       "0        173.956         286.792          0.5205          112.836   \n",
       "1        371.419         451.345          0.4749           79.926   \n",
       "2        136.660         445.248          0.5662          308.588   \n",
       "3        167.519         392.347          0.5388          224.828   \n",
       "4        119.027         436.431          0.5845          317.405   \n",
       "\n",
       "   Avg Power Density (dB FS/Hz) Annotation          file_name    folder_name  \\\n",
       "0                        -82.85     G Rupe  5711.211013040024  Guttural rupe   \n",
       "1                        -92.16     G Rupe  5711.211013040024  Guttural rupe   \n",
       "2                        -88.96     G Rupe  5711.211013040024  Guttural rupe   \n",
       "3                        -86.10     G Rupe  5711.211013040024  Guttural rupe   \n",
       "4                        -80.18     G Rupe  5711.211013040024  Guttural rupe   \n",
       "\n",
       "                                 snippet_spectrogram  \\\n",
       "0  [[10.569122314453125, 4.712647438049316, 1.273...   \n",
       "1  [[42.39829635620117, 55.68126678466797, 83.361...   \n",
       "2  [[29.341825485229492, 8.032623291015625, 43.69...   \n",
       "3  [[0.28541040420532227, 0.41072168946266174, 2....   \n",
       "4  [[13.951732635498047, 23.50061798095703, 20.28...   \n",
       "\n",
       "                                       snippet_times  \\\n",
       "0  [4.131708333333333, 4.1445, 4.157291666666667,...   \n",
       "1  [3.7863333333333333, 3.799125, 3.8119166666666...   \n",
       "2  [14.838333333333333, 14.851125, 14.86391666666...   \n",
       "3  [24.547208333333334, 24.56, 24.572791666666667...   \n",
       "4  [35.982958333333336, 35.99575, 36.008541666666...   \n",
       "\n",
       "                                 snippet_frequencies  \n",
       "0  [23.4375, 46.875, 70.3125, 93.75, 117.1875, 14...  \n",
       "1  [23.4375, 46.875, 70.3125, 93.75, 117.1875, 14...  \n",
       "2  [23.4375, 46.875, 70.3125, 93.75, 117.1875, 14...  \n",
       "3  [23.4375, 46.875, 70.3125, 93.75, 117.1875, 14...  \n",
       "4  [23.4375, 46.875, 70.3125, 93.75, 117.1875, 14...  "
      ]
     },
     "execution_count": 46,
     "metadata": {},
     "output_type": "execute_result"
    }
   ],
   "source": [
    "# Load in processed data\n",
    "df = pd.read_pickle('processed_data.pkl')\n",
    "df.head()"
   ]
  },
  {
   "cell_type": "code",
   "execution_count": 47,
   "metadata": {},
   "outputs": [
    {
     "data": {
      "image/png": "[encoded data removed]",
      "text/plain": [
       "<Figure size 1200x800 with 1 Axes>"
      ]
     },
     "metadata": {},
     "output_type": "display_data"
    }
   ],
   "source": [
    "# Count the values\n",
    "annotation_counts = df['Annotation'].value_counts()\n",
    "\n",
    "# Create the barplot\n",
    "fig, ax = plt.subplots(figsize=(12, 8))\n",
    "sns.barplot(x=annotation_counts.index, y=annotation_counts.values, ax=ax)\n",
    "\n",
    "ax.set_xlabel(\"Annotation\")\n",
    "ax.set_ylabel(\"Count\")\n",
    "ax.set_title(\"Counts of Annotations\")\n",
    "plt.show()"
   ]
  },
  {
   "cell_type": "code",
   "execution_count": 48,
   "metadata": {},
   "outputs": [],
   "source": [
    "# Perform one-hot encoding\n",
    "df = pd.get_dummies(df, columns=['Annotation'], prefix='Annotation')"
   ]
  },
  {
   "cell_type": "code",
   "execution_count": 49,
   "metadata": {},
   "outputs": [
    {
     "name": "stdout",
     "output_type": "stream",
     "text": [
      "Unique shapes in 'snippet_spectrogram':\n",
      "snippet_spectrogram\n",
      "(42, 84)    3728\n",
      "Name: count, dtype: int64\n"
     ]
    }
   ],
   "source": [
    "# Get the shapes\n",
    "shapes = df['snippet_spectrogram'].apply(lambda x: x.shape if isinstance(x, np.ndarray) else None)\n",
    "\n",
    "# Count unique shapes\n",
    "print(\"Unique shapes in 'snippet_spectrogram':\")\n",
    "print(shapes.value_counts())"
   ]
  },
  {
   "cell_type": "code",
   "execution_count": 50,
   "metadata": {},
   "outputs": [
    {
     "name": "stdout",
     "output_type": "stream",
     "text": [
      "(3728,)\n",
      "(3728, 42, 84)\n"
     ]
    }
   ],
   "source": [
    "X = df[['snippet_spectrogram']].to_numpy()\n",
    "\n",
    "# \"Flatten\" the (3742, 1) array to (3742,)\n",
    "X = X.ravel()\n",
    "print(X.shape)\n",
    "\n",
    "# Stack along a new axis to get shape (3742, 42, 84)\n",
    "X = np.stack(X, axis=0)\n",
    "print(X.shape)\n"
   ]
  },
  {
   "cell_type": "code",
   "execution_count": 51,
   "metadata": {},
   "outputs": [
    {
     "data": {
      "text/plain": [
       "(3728, 42, 84)"
      ]
     },
     "execution_count": 51,
     "metadata": {},
     "output_type": "execute_result"
    }
   ],
   "source": [
    "# Reshape to 2D for MinMaxScaler\n",
    "X_reshaped = X.reshape(-1, X.shape[-2])  # Shape: (3742 * 42, 84)\n",
    "\n",
    "# Apply MinMaxScaler\n",
    "scaler = MinMaxScaler()\n",
    "X_scaled = scaler.fit_transform(X_reshaped)\n",
    "\n",
    "# Reshape back to the original shape\n",
    "X = X_scaled.reshape(X.shape)\n",
    "\n",
    "X.shape"
   ]
  },
  {
   "cell_type": "code",
   "execution_count": 52,
   "metadata": {},
   "outputs": [
    {
     "data": {
      "text/plain": [
       "((2236, 42, 84), (746, 42, 84), (746, 42, 84))"
      ]
     },
     "execution_count": 52,
     "metadata": {},
     "output_type": "execute_result"
    }
   ],
   "source": [
    "X = np.stack(df['snippet_spectrogram'].values)\n",
    "y = df[[col for col in df.columns if col.startswith(\"Annotation_\")]]  # Select annotation columns\n",
    "\n",
    "# `y` contains one-hot encoded labels\n",
    "stratify_labels = y.idxmax(axis=1)\n",
    "\n",
    "# First split: Train/Test\n",
    "X_train, X_test, y_train, y_test = train_test_split(\n",
    "    X, \n",
    "    y, \n",
    "    test_size=0.2, \n",
    "    random_state=42, \n",
    "    stratify=stratify_labels,\n",
    "    shuffle=True\n",
    ")\n",
    "\n",
    "# Second split: Train/Validation\n",
    "X_train, X_val, y_train, y_val = train_test_split(\n",
    "    X_train,\n",
    "    y_train,\n",
    "    test_size=0.25,\n",
    "    random_state=42,\n",
    "    stratify=y_train.idxmax(axis=1),\n",
    "    shuffle=True\n",
    ")\n",
    "\n",
    "# Output shapes\n",
    "train_shape = X_train.shape\n",
    "val_shape = X_val.shape\n",
    "test_shape = X_test.shape\n",
    "\n",
    "train_shape, val_shape, test_shape"
   ]
  },
  {
   "cell_type": "code",
   "execution_count": 53,
   "metadata": {},
   "outputs": [
    {
     "data": {
      "text/plain": [
       "0        Annotation_G Rupe\n",
       "1        Annotation_G Rupe\n",
       "2        Annotation_G Rupe\n",
       "3        Annotation_G Rupe\n",
       "4        Annotation_G Rupe\n",
       "               ...        \n",
       "3723    Annotation_No Call\n",
       "3724    Annotation_No Call\n",
       "3725    Annotation_No Call\n",
       "3726    Annotation_No Call\n",
       "3727    Annotation_No Call\n",
       "Length: 3728, dtype: object"
      ]
     },
     "execution_count": 53,
     "metadata": {},
     "output_type": "execute_result"
    }
   ],
   "source": [
    "stratify_labels"
   ]
  },
  {
   "cell_type": "markdown",
   "metadata": {},
   "source": [
    "#### **Model 1**"
   ]
  },
  {
   "cell_type": "code",
   "execution_count": 54,
   "metadata": {},
   "outputs": [],
   "source": [
    "def plot_loss(history, which='loss'):\n",
    "    plt.plot(history.history[which], label='train')\n",
    "    try:\n",
    "        plt.plot(history.history['val_' + which], label='Validation Loss')\n",
    "    except:\n",
    "        pass\n",
    "    plt.xlabel('Epoch')\n",
    "    plt.ylabel(which)\n",
    "    plt.legend()\n",
    "    plt.grid(True)\n",
    "\n",
    "def plot_accuracy(history):\n",
    "    plt.plot(history.history['accuracy'], label='Accuracy')\n",
    "    try:\n",
    "        plt.plot(history.history['val_accuracy'], label='Validation Accuracy')\n",
    "    except:\n",
    "        pass\n",
    "    plt.xlabel('Epoch')\n",
    "    plt.ylabel('Accuracy')\n",
    "    plt.legend()\n",
    "    plt.grid(True)"
   ]
  },
  {
   "cell_type": "code",
   "execution_count": 55,
   "metadata": {},
   "outputs": [],
   "source": [
    "def confusion_matrix_plot():\n",
    "    # Predict probabilities and convert to class predictions\n",
    "    y_pred_prob = model.predict(X_test)\n",
    "    y_pred = np.argmax(y_pred_prob, axis=1)\n",
    "\n",
    "    # Convert y_test one-hot to integer-encoded labels\n",
    "    y_true = np.argmax(y_test, axis=1)\n",
    "\n",
    "    # Extract the real class names\n",
    "    class_names = [col.replace(\"Annotation_\", \"\") for col in y_test.columns]\n",
    "\n",
    "    # Print classification report\n",
    "    print(\"Classification Report:\")\n",
    "    print(classification_report(y_true, y_pred, target_names=class_names, zero_division=0))\n",
    "\n",
    "    # Compute the confusion matrix\n",
    "    cm = confusion_matrix(y_true, y_pred, labels=range(len(class_names)))\n",
    "\n",
    "    # Plot the confusion matrix\n",
    "    fig, ax = plt.subplots(figsize=(8, 6))\n",
    "    sns.heatmap(cm, annot=True, fmt=\"d\",\n",
    "                xticklabels=class_names,\n",
    "                yticklabels=class_names,\n",
    "                cmap=\"viridis\", ax=ax)\n",
    "\n",
    "    plt.ylabel(\"True Label\")\n",
    "    plt.xlabel(\"Predicted Label\")\n",
    "    plt.title(\"Confusion Matrix\")\n",
    "    plt.show()"
   ]
  },
  {
   "cell_type": "code",
   "execution_count": 56,
   "metadata": {},
   "outputs": [],
   "source": [
    "input_shape = (42, 84, 1)\n",
    "num_classes = len(stratify_labels.unique())\n",
    "\n",
    "model = tf.keras.models.Sequential()\n",
    "model.add(tf.keras.Input(shape=input_shape))\n",
    "model.add(layers.Conv2D(16, 3, padding='same', activation='relu'))\n",
    "model.add(layers.MaxPooling2D())\n",
    "model.add(layers.Conv2D(32, 3, padding='same', activation='relu'))\n",
    "model.add(layers.MaxPooling2D())\n",
    "model.add(layers.Conv2D(64, 3, padding='same', activation='relu'))\n",
    "model.add(layers.MaxPooling2D())\n",
    "model.add(layers.Flatten())\n",
    "model.add(layers.Dense(128, activation='relu'))\n",
    "model.add(layers.Dense(num_classes, activation='softmax'))"
   ]
  },
  {
   "cell_type": "code",
   "execution_count": 57,
   "metadata": {},
   "outputs": [
    {
     "data": {
      "text/html": [
       "<pre style=\"white-space:pre;overflow-x:auto;line-height:normal;font-family:Menlo,'DejaVu Sans Mono',consolas,'Courier New',monospace\"><span style=\"font-weight: bold\">Model: \"sequential_2\"</span>\n",
       "</pre>\n"
      ],
      "text/plain": [
       "\u001b[1mModel: \"sequential_2\"\u001b[0m\n"
      ]
     },
     "metadata": {},
     "output_type": "display_data"
    },
    {
     "data": {
      "text/html": [
       "<pre style=\"white-space:pre;overflow-x:auto;line-height:normal;font-family:Menlo,'DejaVu Sans Mono',consolas,'Courier New',monospace\">┏━━━━━━━━━━━━━━━━━━━━━━━━━━━━━━━━━┳━━━━━━━━━━━━━━━━━━━━━━━━┳━━━━━━━━━━━━━━━┓\n",
       "┃<span style=\"font-weight: bold\"> Layer (type)                    </span>┃<span style=\"font-weight: bold\"> Output Shape           </span>┃<span style=\"font-weight: bold\">       Param # </span>┃\n",
       "┡━━━━━━━━━━━━━━━━━━━━━━━━━━━━━━━━━╇━━━━━━━━━━━━━━━━━━━━━━━━╇━━━━━━━━━━━━━━━┩\n",
       "│ conv2d_6 (<span style=\"color: #0087ff; text-decoration-color: #0087ff\">Conv2D</span>)               │ (<span style=\"color: #00d7ff; text-decoration-color: #00d7ff\">None</span>, <span style=\"color: #00af00; text-decoration-color: #00af00\">42</span>, <span style=\"color: #00af00; text-decoration-color: #00af00\">84</span>, <span style=\"color: #00af00; text-decoration-color: #00af00\">16</span>)     │           <span style=\"color: #00af00; text-decoration-color: #00af00\">160</span> │\n",
       "├─────────────────────────────────┼────────────────────────┼───────────────┤\n",
       "│ max_pooling2d_6 (<span style=\"color: #0087ff; text-decoration-color: #0087ff\">MaxPooling2D</span>)  │ (<span style=\"color: #00d7ff; text-decoration-color: #00d7ff\">None</span>, <span style=\"color: #00af00; text-decoration-color: #00af00\">21</span>, <span style=\"color: #00af00; text-decoration-color: #00af00\">42</span>, <span style=\"color: #00af00; text-decoration-color: #00af00\">16</span>)     │             <span style=\"color: #00af00; text-decoration-color: #00af00\">0</span> │\n",
       "├─────────────────────────────────┼────────────────────────┼───────────────┤\n",
       "│ conv2d_7 (<span style=\"color: #0087ff; text-decoration-color: #0087ff\">Conv2D</span>)               │ (<span style=\"color: #00d7ff; text-decoration-color: #00d7ff\">None</span>, <span style=\"color: #00af00; text-decoration-color: #00af00\">21</span>, <span style=\"color: #00af00; text-decoration-color: #00af00\">42</span>, <span style=\"color: #00af00; text-decoration-color: #00af00\">32</span>)     │         <span style=\"color: #00af00; text-decoration-color: #00af00\">4,640</span> │\n",
       "├─────────────────────────────────┼────────────────────────┼───────────────┤\n",
       "│ max_pooling2d_7 (<span style=\"color: #0087ff; text-decoration-color: #0087ff\">MaxPooling2D</span>)  │ (<span style=\"color: #00d7ff; text-decoration-color: #00d7ff\">None</span>, <span style=\"color: #00af00; text-decoration-color: #00af00\">10</span>, <span style=\"color: #00af00; text-decoration-color: #00af00\">21</span>, <span style=\"color: #00af00; text-decoration-color: #00af00\">32</span>)     │             <span style=\"color: #00af00; text-decoration-color: #00af00\">0</span> │\n",
       "├─────────────────────────────────┼────────────────────────┼───────────────┤\n",
       "│ conv2d_8 (<span style=\"color: #0087ff; text-decoration-color: #0087ff\">Conv2D</span>)               │ (<span style=\"color: #00d7ff; text-decoration-color: #00d7ff\">None</span>, <span style=\"color: #00af00; text-decoration-color: #00af00\">10</span>, <span style=\"color: #00af00; text-decoration-color: #00af00\">21</span>, <span style=\"color: #00af00; text-decoration-color: #00af00\">64</span>)     │        <span style=\"color: #00af00; text-decoration-color: #00af00\">18,496</span> │\n",
       "├─────────────────────────────────┼────────────────────────┼───────────────┤\n",
       "│ max_pooling2d_8 (<span style=\"color: #0087ff; text-decoration-color: #0087ff\">MaxPooling2D</span>)  │ (<span style=\"color: #00d7ff; text-decoration-color: #00d7ff\">None</span>, <span style=\"color: #00af00; text-decoration-color: #00af00\">5</span>, <span style=\"color: #00af00; text-decoration-color: #00af00\">10</span>, <span style=\"color: #00af00; text-decoration-color: #00af00\">64</span>)      │             <span style=\"color: #00af00; text-decoration-color: #00af00\">0</span> │\n",
       "├─────────────────────────────────┼────────────────────────┼───────────────┤\n",
       "│ flatten_2 (<span style=\"color: #0087ff; text-decoration-color: #0087ff\">Flatten</span>)             │ (<span style=\"color: #00d7ff; text-decoration-color: #00d7ff\">None</span>, <span style=\"color: #00af00; text-decoration-color: #00af00\">3200</span>)           │             <span style=\"color: #00af00; text-decoration-color: #00af00\">0</span> │\n",
       "├─────────────────────────────────┼────────────────────────┼───────────────┤\n",
       "│ dense_4 (<span style=\"color: #0087ff; text-decoration-color: #0087ff\">Dense</span>)                 │ (<span style=\"color: #00d7ff; text-decoration-color: #00d7ff\">None</span>, <span style=\"color: #00af00; text-decoration-color: #00af00\">128</span>)            │       <span style=\"color: #00af00; text-decoration-color: #00af00\">409,728</span> │\n",
       "├─────────────────────────────────┼────────────────────────┼───────────────┤\n",
       "│ dense_5 (<span style=\"color: #0087ff; text-decoration-color: #0087ff\">Dense</span>)                 │ (<span style=\"color: #00d7ff; text-decoration-color: #00d7ff\">None</span>, <span style=\"color: #00af00; text-decoration-color: #00af00\">7</span>)              │           <span style=\"color: #00af00; text-decoration-color: #00af00\">903</span> │\n",
       "└─────────────────────────────────┴────────────────────────┴───────────────┘\n",
       "</pre>\n"
      ],
      "text/plain": [
       "┏━━━━━━━━━━━━━━━━━━━━━━━━━━━━━━━━━┳━━━━━━━━━━━━━━━━━━━━━━━━┳━━━━━━━━━━━━━━━┓\n",
       "┃\u001b[1m \u001b[0m\u001b[1mLayer (type)                   \u001b[0m\u001b[1m \u001b[0m┃\u001b[1m \u001b[0m\u001b[1mOutput Shape          \u001b[0m\u001b[1m \u001b[0m┃\u001b[1m \u001b[0m\u001b[1m      Param #\u001b[0m\u001b[1m \u001b[0m┃\n",
       "┡━━━━━━━━━━━━━━━━━━━━━━━━━━━━━━━━━╇━━━━━━━━━━━━━━━━━━━━━━━━╇━━━━━━━━━━━━━━━┩\n",
       "│ conv2d_6 (\u001b[38;5;33mConv2D\u001b[0m)               │ (\u001b[38;5;45mNone\u001b[0m, \u001b[38;5;34m42\u001b[0m, \u001b[38;5;34m84\u001b[0m, \u001b[38;5;34m16\u001b[0m)     │           \u001b[38;5;34m160\u001b[0m │\n",
       "├─────────────────────────────────┼────────────────────────┼───────────────┤\n",
       "│ max_pooling2d_6 (\u001b[38;5;33mMaxPooling2D\u001b[0m)  │ (\u001b[38;5;45mNone\u001b[0m, \u001b[38;5;34m21\u001b[0m, \u001b[38;5;34m42\u001b[0m, \u001b[38;5;34m16\u001b[0m)     │             \u001b[38;5;34m0\u001b[0m │\n",
       "├─────────────────────────────────┼────────────────────────┼───────────────┤\n",
       "│ conv2d_7 (\u001b[38;5;33mConv2D\u001b[0m)               │ (\u001b[38;5;45mNone\u001b[0m, \u001b[38;5;34m21\u001b[0m, \u001b[38;5;34m42\u001b[0m, \u001b[38;5;34m32\u001b[0m)     │         \u001b[38;5;34m4,640\u001b[0m │\n",
       "├─────────────────────────────────┼────────────────────────┼───────────────┤\n",
       "│ max_pooling2d_7 (\u001b[38;5;33mMaxPooling2D\u001b[0m)  │ (\u001b[38;5;45mNone\u001b[0m, \u001b[38;5;34m10\u001b[0m, \u001b[38;5;34m21\u001b[0m, \u001b[38;5;34m32\u001b[0m)     │             \u001b[38;5;34m0\u001b[0m │\n",
       "├─────────────────────────────────┼────────────────────────┼───────────────┤\n",
       "│ conv2d_8 (\u001b[38;5;33mConv2D\u001b[0m)               │ (\u001b[38;5;45mNone\u001b[0m, \u001b[38;5;34m10\u001b[0m, \u001b[38;5;34m21\u001b[0m, \u001b[38;5;34m64\u001b[0m)     │        \u001b[38;5;34m18,496\u001b[0m │\n",
       "├─────────────────────────────────┼────────────────────────┼───────────────┤\n",
       "│ max_pooling2d_8 (\u001b[38;5;33mMaxPooling2D\u001b[0m)  │ (\u001b[38;5;45mNone\u001b[0m, \u001b[38;5;34m5\u001b[0m, \u001b[38;5;34m10\u001b[0m, \u001b[38;5;34m64\u001b[0m)      │             \u001b[38;5;34m0\u001b[0m │\n",
       "├─────────────────────────────────┼────────────────────────┼───────────────┤\n",
       "│ flatten_2 (\u001b[38;5;33mFlatten\u001b[0m)             │ (\u001b[38;5;45mNone\u001b[0m, \u001b[38;5;34m3200\u001b[0m)           │             \u001b[38;5;34m0\u001b[0m │\n",
       "├─────────────────────────────────┼────────────────────────┼───────────────┤\n",
       "│ dense_4 (\u001b[38;5;33mDense\u001b[0m)                 │ (\u001b[38;5;45mNone\u001b[0m, \u001b[38;5;34m128\u001b[0m)            │       \u001b[38;5;34m409,728\u001b[0m │\n",
       "├─────────────────────────────────┼────────────────────────┼───────────────┤\n",
       "│ dense_5 (\u001b[38;5;33mDense\u001b[0m)                 │ (\u001b[38;5;45mNone\u001b[0m, \u001b[38;5;34m7\u001b[0m)              │           \u001b[38;5;34m903\u001b[0m │\n",
       "└─────────────────────────────────┴────────────────────────┴───────────────┘\n"
      ]
     },
     "metadata": {},
     "output_type": "display_data"
    },
    {
     "data": {
      "text/html": [
       "<pre style=\"white-space:pre;overflow-x:auto;line-height:normal;font-family:Menlo,'DejaVu Sans Mono',consolas,'Courier New',monospace\"><span style=\"font-weight: bold\"> Total params: </span><span style=\"color: #00af00; text-decoration-color: #00af00\">433,927</span> (1.66 MB)\n",
       "</pre>\n"
      ],
      "text/plain": [
       "\u001b[1m Total params: \u001b[0m\u001b[38;5;34m433,927\u001b[0m (1.66 MB)\n"
      ]
     },
     "metadata": {},
     "output_type": "display_data"
    },
    {
     "data": {
      "text/html": [
       "<pre style=\"white-space:pre;overflow-x:auto;line-height:normal;font-family:Menlo,'DejaVu Sans Mono',consolas,'Courier New',monospace\"><span style=\"font-weight: bold\"> Trainable params: </span><span style=\"color: #00af00; text-decoration-color: #00af00\">433,927</span> (1.66 MB)\n",
       "</pre>\n"
      ],
      "text/plain": [
       "\u001b[1m Trainable params: \u001b[0m\u001b[38;5;34m433,927\u001b[0m (1.66 MB)\n"
      ]
     },
     "metadata": {},
     "output_type": "display_data"
    },
    {
     "data": {
      "text/html": [
       "<pre style=\"white-space:pre;overflow-x:auto;line-height:normal;font-family:Menlo,'DejaVu Sans Mono',consolas,'Courier New',monospace\"><span style=\"font-weight: bold\"> Non-trainable params: </span><span style=\"color: #00af00; text-decoration-color: #00af00\">0</span> (0.00 B)\n",
       "</pre>\n"
      ],
      "text/plain": [
       "\u001b[1m Non-trainable params: \u001b[0m\u001b[38;5;34m0\u001b[0m (0.00 B)\n"
      ]
     },
     "metadata": {},
     "output_type": "display_data"
    }
   ],
   "source": [
    "model.summary()"
   ]
  },
  {
   "cell_type": "code",
   "execution_count": 58,
   "metadata": {},
   "outputs": [],
   "source": [
    "# Define focal loss\n",
    "def focal_loss(gamma=2., alpha=0.25):\n",
    "    def focal_loss_fixed(y_true, y_pred):\n",
    "        y_pred = K.clip(y_pred, K.epsilon(), 1 - K.epsilon())\n",
    "        loss = -y_true * alpha * K.pow(1 - y_pred, gamma) * K.log(y_pred)\n",
    "        return K.mean(loss, axis=-1)\n",
    "    return focal_loss_fixed"
   ]
  },
  {
   "cell_type": "code",
   "execution_count": 59,
   "metadata": {},
   "outputs": [],
   "source": [
    "model.compile(\n",
    "    optimizer=tf.keras.optimizers.Adam(0.001),\n",
    "    loss= focal_loss(gamma=2., alpha=0.25),  #from_logits=False as softmax is on the output of the CNN\n",
    "    metrics=[\n",
    "        'accuracy',\n",
    "        tf.keras.metrics.Precision(thresholds=0.5, name=\"precision\"),\n",
    "        tf.keras.metrics.Recall(thresholds=0.5, name=\"recall\"),\n",
    "        tf.keras.metrics.AUC(multi_label=True, name=\"auc\"),\n",
    "        tf.keras.metrics.F1Score(threshold=0.5, average='macro', name=\"f1_score\"),\n",
    "    ]\n",
    ")"
   ]
  },
  {
   "cell_type": "code",
   "execution_count": 60,
   "metadata": {},
   "outputs": [],
   "source": [
    "# Early stopping\n",
    "callback = tf.keras.callbacks.EarlyStopping(monitor='val_loss', patience=20)"
   ]
  },
  {
   "cell_type": "code",
   "execution_count": 61,
   "metadata": {},
   "outputs": [
    {
     "name": "stdout",
     "output_type": "stream",
     "text": [
      "Epoch 1/50\n",
      "\u001b[1m56/56\u001b[0m \u001b[32m━━━━━━━━━━━━━━━━━━━━\u001b[0m\u001b[37m\u001b[0m \u001b[1m2s\u001b[0m 13ms/step - accuracy: 0.6208 - auc: 0.6314 - f1_score: 0.1297 - loss: 0.0374 - precision: 0.7071 - recall: 0.2083 - val_accuracy: 0.6696 - val_auc: 0.8339 - val_f1_score: 0.1072 - val_loss: 0.0229 - val_precision: 0.8539 - val_recall: 0.1696\n",
      "Epoch 2/50\n",
      "\u001b[1m56/56\u001b[0m \u001b[32m━━━━━━━━━━━━━━━━━━━━\u001b[0m\u001b[37m\u001b[0m \u001b[1m0s\u001b[0m 8ms/step - accuracy: 0.6714 - auc: 0.7950 - f1_score: 0.1987 - loss: 0.0211 - precision: 0.9044 - recall: 0.3871 - val_accuracy: 0.8482 - val_auc: 0.8855 - val_f1_score: 0.3782 - val_loss: 0.0149 - val_precision: 0.9443 - val_recall: 0.6429\n",
      "Epoch 3/50\n",
      "\u001b[1m56/56\u001b[0m \u001b[32m━━━━━━━━━━━━━━━━━━━━\u001b[0m\u001b[37m\u001b[0m \u001b[1m0s\u001b[0m 8ms/step - accuracy: 0.8144 - auc: 0.8507 - f1_score: 0.3644 - loss: 0.0116 - precision: 0.9368 - recall: 0.6665 - val_accuracy: 0.8728 - val_auc: 0.9019 - val_f1_score: 0.3723 - val_loss: 0.0116 - val_precision: 0.9589 - val_recall: 0.6763\n",
      "Epoch 4/50\n",
      "\u001b[1m56/56\u001b[0m \u001b[32m━━━━━━━━━━━━━━━━━━━━\u001b[0m\u001b[37m\u001b[0m \u001b[1m0s\u001b[0m 8ms/step - accuracy: 0.8665 - auc: 0.8788 - f1_score: 0.4613 - loss: 0.0086 - precision: 0.9284 - recall: 0.7545 - val_accuracy: 0.8750 - val_auc: 0.9137 - val_f1_score: 0.4559 - val_loss: 0.0101 - val_precision: 0.9391 - val_recall: 0.7567\n",
      "Epoch 5/50\n",
      "\u001b[1m56/56\u001b[0m \u001b[32m━━━━━━━━━━━━━━━━━━━━\u001b[0m\u001b[37m\u001b[0m \u001b[1m0s\u001b[0m 8ms/step - accuracy: 0.8758 - auc: 0.9433 - f1_score: 0.4671 - loss: 0.0086 - precision: 0.9270 - recall: 0.7719 - val_accuracy: 0.8728 - val_auc: 0.9120 - val_f1_score: 0.5151 - val_loss: 0.0095 - val_precision: 0.9330 - val_recall: 0.8080\n",
      "Epoch 6/50\n",
      "\u001b[1m56/56\u001b[0m \u001b[32m━━━━━━━━━━━━━━━━━━━━\u001b[0m\u001b[37m\u001b[0m \u001b[1m0s\u001b[0m 8ms/step - accuracy: 0.8790 - auc: 0.9530 - f1_score: 0.5255 - loss: 0.0080 - precision: 0.9202 - recall: 0.8252 - val_accuracy: 0.8862 - val_auc: 0.9152 - val_f1_score: 0.4789 - val_loss: 0.0102 - val_precision: 0.9187 - val_recall: 0.8326\n",
      "Epoch 7/50\n",
      "\u001b[1m56/56\u001b[0m \u001b[32m━━━━━━━━━━━━━━━━━━━━\u001b[0m\u001b[37m\u001b[0m \u001b[1m0s\u001b[0m 8ms/step - accuracy: 0.8838 - auc: 0.9457 - f1_score: 0.4906 - loss: 0.0088 - precision: 0.9268 - recall: 0.8071 - val_accuracy: 0.8527 - val_auc: 0.9135 - val_f1_score: 0.4207 - val_loss: 0.0094 - val_precision: 0.9008 - val_recall: 0.7902\n",
      "Epoch 8/50\n",
      "\u001b[1m56/56\u001b[0m \u001b[32m━━━━━━━━━━━━━━━━━━━━\u001b[0m\u001b[37m\u001b[0m \u001b[1m0s\u001b[0m 8ms/step - accuracy: 0.8792 - auc: 0.9258 - f1_score: 0.5116 - loss: 0.0079 - precision: 0.9384 - recall: 0.8118 - val_accuracy: 0.8839 - val_auc: 0.9282 - val_f1_score: 0.4868 - val_loss: 0.0084 - val_precision: 0.9242 - val_recall: 0.8438\n",
      "Epoch 9/50\n",
      "\u001b[1m56/56\u001b[0m \u001b[32m━━━━━━━━━━━━━━━━━━━━\u001b[0m\u001b[37m\u001b[0m \u001b[1m0s\u001b[0m 8ms/step - accuracy: 0.8970 - auc: 0.9550 - f1_score: 0.5462 - loss: 0.0077 - precision: 0.9438 - recall: 0.8459 - val_accuracy: 0.8862 - val_auc: 0.9358 - val_f1_score: 0.4738 - val_loss: 0.0083 - val_precision: 0.9181 - val_recall: 0.8259\n",
      "Epoch 10/50\n",
      "\u001b[1m56/56\u001b[0m \u001b[32m━━━━━━━━━━━━━━━━━━━━\u001b[0m\u001b[37m\u001b[0m \u001b[1m0s\u001b[0m 8ms/step - accuracy: 0.9206 - auc: 0.9613 - f1_score: 0.5567 - loss: 0.0068 - precision: 0.9536 - recall: 0.8715 - val_accuracy: 0.8951 - val_auc: 0.9333 - val_f1_score: 0.5502 - val_loss: 0.0079 - val_precision: 0.9353 - val_recall: 0.8393\n",
      "Epoch 11/50\n",
      "\u001b[1m56/56\u001b[0m \u001b[32m━━━━━━━━━━━━━━━━━━━━\u001b[0m\u001b[37m\u001b[0m \u001b[1m0s\u001b[0m 8ms/step - accuracy: 0.9242 - auc: 0.9561 - f1_score: 0.5881 - loss: 0.0053 - precision: 0.9581 - recall: 0.8738 - val_accuracy: 0.8661 - val_auc: 0.9324 - val_f1_score: 0.4447 - val_loss: 0.0085 - val_precision: 0.9167 - val_recall: 0.7612\n",
      "Epoch 12/50\n",
      "\u001b[1m56/56\u001b[0m \u001b[32m━━━━━━━━━━━━━━━━━━━━\u001b[0m\u001b[37m\u001b[0m \u001b[1m0s\u001b[0m 8ms/step - accuracy: 0.9065 - auc: 0.9702 - f1_score: 0.5622 - loss: 0.0063 - precision: 0.9500 - recall: 0.8546 - val_accuracy: 0.8750 - val_auc: 0.9308 - val_f1_score: 0.5247 - val_loss: 0.0086 - val_precision: 0.9263 - val_recall: 0.8415\n",
      "Epoch 13/50\n",
      "\u001b[1m56/56\u001b[0m \u001b[32m━━━━━━━━━━━━━━━━━━━━\u001b[0m\u001b[37m\u001b[0m \u001b[1m0s\u001b[0m 8ms/step - accuracy: 0.9152 - auc: 0.9510 - f1_score: 0.5789 - loss: 0.0068 - precision: 0.9417 - recall: 0.8744 - val_accuracy: 0.8884 - val_auc: 0.9416 - val_f1_score: 0.5274 - val_loss: 0.0106 - val_precision: 0.9203 - val_recall: 0.8504\n",
      "Epoch 14/50\n",
      "\u001b[1m56/56\u001b[0m \u001b[32m━━━━━━━━━━━━━━━━━━━━\u001b[0m\u001b[37m\u001b[0m \u001b[1m0s\u001b[0m 8ms/step - accuracy: 0.8893 - auc: 0.9531 - f1_score: 0.5242 - loss: 0.0087 - precision: 0.9233 - recall: 0.8310 - val_accuracy: 0.8728 - val_auc: 0.9455 - val_f1_score: 0.5219 - val_loss: 0.0080 - val_precision: 0.9049 - val_recall: 0.8281\n",
      "Epoch 15/50\n",
      "\u001b[1m56/56\u001b[0m \u001b[32m━━━━━━━━━━━━━━━━━━━━\u001b[0m\u001b[37m\u001b[0m \u001b[1m0s\u001b[0m 8ms/step - accuracy: 0.8847 - auc: 0.9632 - f1_score: 0.5602 - loss: 0.0093 - precision: 0.9228 - recall: 0.8423 - val_accuracy: 0.8728 - val_auc: 0.9363 - val_f1_score: 0.5336 - val_loss: 0.0091 - val_precision: 0.9217 - val_recall: 0.8147\n",
      "Epoch 16/50\n",
      "\u001b[1m56/56\u001b[0m \u001b[32m━━━━━━━━━━━━━━━━━━━━\u001b[0m\u001b[37m\u001b[0m \u001b[1m0s\u001b[0m 8ms/step - accuracy: 0.9052 - auc: 0.9632 - f1_score: 0.5849 - loss: 0.0074 - precision: 0.9453 - recall: 0.8615 - val_accuracy: 0.9129 - val_auc: 0.9413 - val_f1_score: 0.5473 - val_loss: 0.0084 - val_precision: 0.9507 - val_recall: 0.8616\n",
      "Epoch 17/50\n",
      "\u001b[1m56/56\u001b[0m \u001b[32m━━━━━━━━━━━━━━━━━━━━\u001b[0m\u001b[37m\u001b[0m \u001b[1m0s\u001b[0m 8ms/step - accuracy: 0.9235 - auc: 0.9667 - f1_score: 0.5988 - loss: 0.0066 - precision: 0.9527 - recall: 0.8880 - val_accuracy: 0.9107 - val_auc: 0.9442 - val_f1_score: 0.5413 - val_loss: 0.0084 - val_precision: 0.9392 - val_recall: 0.8616\n",
      "Epoch 18/50\n",
      "\u001b[1m56/56\u001b[0m \u001b[32m━━━━━━━━━━━━━━━━━━━━\u001b[0m\u001b[37m\u001b[0m \u001b[1m0s\u001b[0m 8ms/step - accuracy: 0.9213 - auc: 0.9766 - f1_score: 0.6134 - loss: 0.0076 - precision: 0.9556 - recall: 0.8880 - val_accuracy: 0.8884 - val_auc: 0.9431 - val_f1_score: 0.5388 - val_loss: 0.0076 - val_precision: 0.9291 - val_recall: 0.8482\n",
      "Epoch 19/50\n",
      "\u001b[1m56/56\u001b[0m \u001b[32m━━━━━━━━━━━━━━━━━━━━\u001b[0m\u001b[37m\u001b[0m \u001b[1m0s\u001b[0m 8ms/step - accuracy: 0.9294 - auc: 0.9515 - f1_score: 0.6006 - loss: 0.0059 - precision: 0.9628 - recall: 0.8992 - val_accuracy: 0.8996 - val_auc: 0.9289 - val_f1_score: 0.5483 - val_loss: 0.0092 - val_precision: 0.9446 - val_recall: 0.8371\n",
      "Epoch 20/50\n",
      "\u001b[1m56/56\u001b[0m \u001b[32m━━━━━━━━━━━━━━━━━━━━\u001b[0m\u001b[37m\u001b[0m \u001b[1m0s\u001b[0m 8ms/step - accuracy: 0.9269 - auc: 0.9657 - f1_score: 0.5888 - loss: 0.0072 - precision: 0.9619 - recall: 0.8921 - val_accuracy: 0.8906 - val_auc: 0.9397 - val_f1_score: 0.5571 - val_loss: 0.0089 - val_precision: 0.9395 - val_recall: 0.8326\n",
      "Epoch 21/50\n",
      "\u001b[1m56/56\u001b[0m \u001b[32m━━━━━━━━━━━━━━━━━━━━\u001b[0m\u001b[37m\u001b[0m \u001b[1m0s\u001b[0m 8ms/step - accuracy: 0.9403 - auc: 0.9428 - f1_score: 0.6605 - loss: 0.0054 - precision: 0.9696 - recall: 0.9106 - val_accuracy: 0.9129 - val_auc: 0.9359 - val_f1_score: 0.6278 - val_loss: 0.0088 - val_precision: 0.9410 - val_recall: 0.8906\n",
      "Epoch 22/50\n",
      "\u001b[1m56/56\u001b[0m \u001b[32m━━━━━━━━━━━━━━━━━━━━\u001b[0m\u001b[37m\u001b[0m \u001b[1m0s\u001b[0m 8ms/step - accuracy: 0.9404 - auc: 0.9754 - f1_score: 0.6760 - loss: 0.0053 - precision: 0.9685 - recall: 0.9104 - val_accuracy: 0.8951 - val_auc: 0.9443 - val_f1_score: 0.5782 - val_loss: 0.0091 - val_precision: 0.9196 - val_recall: 0.8683\n",
      "Epoch 23/50\n",
      "\u001b[1m56/56\u001b[0m \u001b[32m━━━━━━━━━━━━━━━━━━━━\u001b[0m\u001b[37m\u001b[0m \u001b[1m0s\u001b[0m 8ms/step - accuracy: 0.9484 - auc: 0.9521 - f1_score: 0.6486 - loss: 0.0059 - precision: 0.9681 - recall: 0.9170 - val_accuracy: 0.8795 - val_auc: 0.9352 - val_f1_score: 0.5986 - val_loss: 0.0103 - val_precision: 0.9387 - val_recall: 0.8549\n",
      "Epoch 24/50\n",
      "\u001b[1m56/56\u001b[0m \u001b[32m━━━━━━━━━━━━━━━━━━━━\u001b[0m\u001b[37m\u001b[0m \u001b[1m0s\u001b[0m 8ms/step - accuracy: 0.9404 - auc: 0.9732 - f1_score: 0.6432 - loss: 0.0045 - precision: 0.9777 - recall: 0.9097 - val_accuracy: 0.8996 - val_auc: 0.9437 - val_f1_score: 0.5813 - val_loss: 0.0105 - val_precision: 0.9227 - val_recall: 0.8795\n",
      "Epoch 25/50\n",
      "\u001b[1m56/56\u001b[0m \u001b[32m━━━━━━━━━━━━━━━━━━━━\u001b[0m\u001b[37m\u001b[0m \u001b[1m0s\u001b[0m 8ms/step - accuracy: 0.9379 - auc: 0.9711 - f1_score: 0.7142 - loss: 0.0043 - precision: 0.9699 - recall: 0.9212 - val_accuracy: 0.9018 - val_auc: 0.9430 - val_f1_score: 0.5812 - val_loss: 0.0090 - val_precision: 0.9313 - val_recall: 0.8772\n",
      "Epoch 26/50\n",
      "\u001b[1m56/56\u001b[0m \u001b[32m━━━━━━━━━━━━━━━━━━━━\u001b[0m\u001b[37m\u001b[0m \u001b[1m0s\u001b[0m 8ms/step - accuracy: 0.9397 - auc: 0.9790 - f1_score: 0.6703 - loss: 0.0050 - precision: 0.9583 - recall: 0.9153 - val_accuracy: 0.8839 - val_auc: 0.9432 - val_f1_score: 0.5444 - val_loss: 0.0093 - val_precision: 0.9236 - val_recall: 0.8371\n",
      "Epoch 27/50\n",
      "\u001b[1m56/56\u001b[0m \u001b[32m━━━━━━━━━━━━━━━━━━━━\u001b[0m\u001b[37m\u001b[0m \u001b[1m0s\u001b[0m 8ms/step - accuracy: 0.9319 - auc: 0.9653 - f1_score: 0.6653 - loss: 0.0063 - precision: 0.9595 - recall: 0.8952 - val_accuracy: 0.8906 - val_auc: 0.9395 - val_f1_score: 0.5420 - val_loss: 0.0098 - val_precision: 0.9190 - val_recall: 0.8616\n",
      "Epoch 28/50\n",
      "\u001b[1m56/56\u001b[0m \u001b[32m━━━━━━━━━━━━━━━━━━━━\u001b[0m\u001b[37m\u001b[0m \u001b[1m0s\u001b[0m 8ms/step - accuracy: 0.9329 - auc: 0.9824 - f1_score: 0.6735 - loss: 0.0054 - precision: 0.9653 - recall: 0.9050 - val_accuracy: 0.9219 - val_auc: 0.9504 - val_f1_score: 0.5993 - val_loss: 0.0082 - val_precision: 0.9438 - val_recall: 0.8996\n",
      "Epoch 29/50\n",
      "\u001b[1m56/56\u001b[0m \u001b[32m━━━━━━━━━━━━━━━━━━━━\u001b[0m\u001b[37m\u001b[0m \u001b[1m0s\u001b[0m 8ms/step - accuracy: 0.9437 - auc: 0.9569 - f1_score: 0.6624 - loss: 0.0045 - precision: 0.9652 - recall: 0.9136 - val_accuracy: 0.9152 - val_auc: 0.9501 - val_f1_score: 0.5902 - val_loss: 0.0081 - val_precision: 0.9475 - val_recall: 0.8862\n",
      "Epoch 30/50\n",
      "\u001b[1m56/56\u001b[0m \u001b[32m━━━━━━━━━━━━━━━━━━━━\u001b[0m\u001b[37m\u001b[0m \u001b[1m0s\u001b[0m 8ms/step - accuracy: 0.9407 - auc: 0.9634 - f1_score: 0.6715 - loss: 0.0050 - precision: 0.9662 - recall: 0.9247 - val_accuracy: 0.9062 - val_auc: 0.9485 - val_f1_score: 0.5578 - val_loss: 0.0085 - val_precision: 0.9357 - val_recall: 0.8772\n",
      "Epoch 31/50\n",
      "\u001b[1m56/56\u001b[0m \u001b[32m━━━━━━━━━━━━━━━━━━━━\u001b[0m\u001b[37m\u001b[0m \u001b[1m0s\u001b[0m 8ms/step - accuracy: 0.9427 - auc: 0.9650 - f1_score: 0.7085 - loss: 0.0052 - precision: 0.9647 - recall: 0.9185 - val_accuracy: 0.9196 - val_auc: 0.9518 - val_f1_score: 0.6100 - val_loss: 0.0086 - val_precision: 0.9398 - val_recall: 0.9062\n",
      "Epoch 32/50\n",
      "\u001b[1m56/56\u001b[0m \u001b[32m━━━━━━━━━━━━━━━━━━━━\u001b[0m\u001b[37m\u001b[0m \u001b[1m0s\u001b[0m 8ms/step - accuracy: 0.9636 - auc: 0.9639 - f1_score: 0.6680 - loss: 0.0048 - precision: 0.9776 - recall: 0.9408 - val_accuracy: 0.9129 - val_auc: 0.9494 - val_f1_score: 0.6024 - val_loss: 0.0088 - val_precision: 0.9393 - val_recall: 0.8973\n",
      "Epoch 33/50\n",
      "\u001b[1m56/56\u001b[0m \u001b[32m━━━━━━━━━━━━━━━━━━━━\u001b[0m\u001b[37m\u001b[0m \u001b[1m0s\u001b[0m 8ms/step - accuracy: 0.9544 - auc: 0.9804 - f1_score: 0.6941 - loss: 0.0052 - precision: 0.9679 - recall: 0.9410 - val_accuracy: 0.9085 - val_auc: 0.9507 - val_f1_score: 0.5965 - val_loss: 0.0089 - val_precision: 0.9341 - val_recall: 0.8862\n",
      "Epoch 34/50\n",
      "\u001b[1m56/56\u001b[0m \u001b[32m━━━━━━━━━━━━━━━━━━━━\u001b[0m\u001b[37m\u001b[0m \u001b[1m0s\u001b[0m 8ms/step - accuracy: 0.9629 - auc: 0.9824 - f1_score: 0.7579 - loss: 0.0031 - precision: 0.9782 - recall: 0.9395 - val_accuracy: 0.9107 - val_auc: 0.9480 - val_f1_score: 0.5991 - val_loss: 0.0088 - val_precision: 0.9454 - val_recall: 0.8884\n",
      "Epoch 35/50\n",
      "\u001b[1m56/56\u001b[0m \u001b[32m━━━━━━━━━━━━━━━━━━━━\u001b[0m\u001b[37m\u001b[0m \u001b[1m0s\u001b[0m 8ms/step - accuracy: 0.9625 - auc: 0.9622 - f1_score: 0.7856 - loss: 0.0057 - precision: 0.9748 - recall: 0.9421 - val_accuracy: 0.8862 - val_auc: 0.9402 - val_f1_score: 0.5741 - val_loss: 0.0123 - val_precision: 0.9198 - val_recall: 0.8705\n",
      "Epoch 36/50\n",
      "\u001b[1m56/56\u001b[0m \u001b[32m━━━━━━━━━━━━━━━━━━━━\u001b[0m\u001b[37m\u001b[0m \u001b[1m0s\u001b[0m 8ms/step - accuracy: 0.9629 - auc: 0.9542 - f1_score: 0.7263 - loss: 0.0032 - precision: 0.9775 - recall: 0.9428 - val_accuracy: 0.9018 - val_auc: 0.9508 - val_f1_score: 0.5783 - val_loss: 0.0105 - val_precision: 0.9252 - val_recall: 0.8839\n",
      "Epoch 37/50\n",
      "\u001b[1m56/56\u001b[0m \u001b[32m━━━━━━━━━━━━━━━━━━━━\u001b[0m\u001b[37m\u001b[0m \u001b[1m0s\u001b[0m 8ms/step - accuracy: 0.9582 - auc: 0.9789 - f1_score: 0.7556 - loss: 0.0046 - precision: 0.9763 - recall: 0.9438 - val_accuracy: 0.9107 - val_auc: 0.9480 - val_f1_score: 0.5935 - val_loss: 0.0102 - val_precision: 0.9385 - val_recall: 0.8862\n",
      "Epoch 38/50\n",
      "\u001b[1m56/56\u001b[0m \u001b[32m━━━━━━━━━━━━━━━━━━━━\u001b[0m\u001b[37m\u001b[0m \u001b[1m0s\u001b[0m 8ms/step - accuracy: 0.9630 - auc: 0.9786 - f1_score: 0.7948 - loss: 0.0040 - precision: 0.9771 - recall: 0.9513 - val_accuracy: 0.9062 - val_auc: 0.9445 - val_f1_score: 0.5864 - val_loss: 0.0108 - val_precision: 0.9194 - val_recall: 0.8906\n"
     ]
    }
   ],
   "source": [
    "history = model.fit(X_train, y_train, epochs=50, validation_split=0.2, callbacks=[callback])"
   ]
  },
  {
   "cell_type": "code",
   "execution_count": 62,
   "metadata": {},
   "outputs": [
    {
     "name": "stdout",
     "output_type": "stream",
     "text": [
      "\u001b[1m24/24\u001b[0m \u001b[32m━━━━━━━━━━━━━━━━━━━━\u001b[0m\u001b[37m\u001b[0m \u001b[1m0s\u001b[0m 3ms/step - accuracy: 0.8972 - auc: 0.8808 - f1_score: 0.5850 - loss: 0.0148 - precision: 0.9095 - recall: 0.8907\n"
     ]
    },
    {
     "data": {
      "text/plain": [
       "{'accuracy': 0.904825747013092,\n",
       " 'auc': 0.9296860694885254,\n",
       " 'f1_score': 0.599909782409668,\n",
       " 'loss': 0.013714944012463093,\n",
       " 'precision': 0.9217032790184021,\n",
       " 'recall': 0.8994638323783875}"
      ]
     },
     "execution_count": 62,
     "metadata": {},
     "output_type": "execute_result"
    }
   ],
   "source": [
    "model.evaluate(X_test, y_test, return_dict=True)"
   ]
  },
  {
   "cell_type": "code",
   "execution_count": 63,
   "metadata": {},
   "outputs": [
    {
     "data": {
      "image/png": "[encoded data removed]",
      "text/plain": [
       "<Figure size 640x480 with 1 Axes>"
      ]
     },
     "metadata": {},
     "output_type": "display_data"
    }
   ],
   "source": [
    "plot_loss(history)"
   ]
  },
  {
   "cell_type": "code",
   "execution_count": 64,
   "metadata": {},
   "outputs": [
    {
     "data": {
      "image/png": "[encoded data removed]",
      "text/plain": [
       "<Figure size 640x480 with 1 Axes>"
      ]
     },
     "metadata": {},
     "output_type": "display_data"
    }
   ],
   "source": [
    "plot_accuracy(history)"
   ]
  },
  {
   "cell_type": "code",
   "execution_count": 65,
   "metadata": {},
   "outputs": [
    {
     "name": "stdout",
     "output_type": "stream",
     "text": [
      "\u001b[1m24/24\u001b[0m \u001b[32m━━━━━━━━━━━━━━━━━━━━\u001b[0m\u001b[37m\u001b[0m \u001b[1m0s\u001b[0m 4ms/step\n",
      "Classification Report:\n",
      "              precision    recall  f1-score   support\n",
      "\n",
      "      G Rupe       0.90      0.90      0.90       145\n",
      "        Moan       0.87      0.87      0.87        85\n",
      "     No Call       1.00      0.98      0.99       373\n",
      "      Rupe A       0.85      0.78      0.81       100\n",
      "      Rupe B       0.47      0.82      0.59        33\n",
      "      Rupe C       0.00      0.00      0.00         5\n",
      "    Type 4 A       0.00      0.00      0.00         5\n",
      "\n",
      "    accuracy                           0.90       746\n",
      "   macro avg       0.58      0.62      0.60       746\n",
      "weighted avg       0.91      0.90      0.90       746\n",
      "\n"
     ]
    },
    {
     "data": {
      "image/png": "[encoded data removed]",
      "text/plain": [
       "<Figure size 800x600 with 2 Axes>"
      ]
     },
     "metadata": {},
     "output_type": "display_data"
    }
   ],
   "source": [
    "confusion_matrix_plot()"
   ]
  },
  {
   "cell_type": "code",
   "execution_count": 66,
   "metadata": {},
   "outputs": [],
   "source": [
    "model.compile(\n",
    "    optimizer=tf.keras.optimizers.Adam(0.001),\n",
    "    loss=tf.keras.losses.CategoricalCrossentropy(from_logits=False),  # from_logits=False as softmax is on the output of the CNN\n",
    "    metrics=[\n",
    "        'accuracy',\n",
    "        tf.keras.metrics.Precision(thresholds=0.5, name=\"precision\"),\n",
    "        tf.keras.metrics.Recall(thresholds=0.5, name=\"recall\"),\n",
    "        tf.keras.metrics.AUC(multi_label=True, name=\"auc\"),  # Add AUC for multi-class classification\n",
    "        tf.keras.metrics.F1Score(threshold=0.5, average='macro', name=\"f1_score\"),\n",
    "    ]\n",
    ")"
   ]
  },
  {
   "cell_type": "markdown",
   "metadata": {},
   "source": [
    "##### **Weighting**"
   ]
  },
  {
   "cell_type": "code",
   "execution_count": 67,
   "metadata": {},
   "outputs": [],
   "source": [
    "y_train_indices = np.argmax(y_train, axis=1)\n",
    "\n",
    "unique_labels = np.unique(y_train_indices)\n",
    "class_weights = class_weight.compute_class_weight(\n",
    "    class_weight='balanced',\n",
    "    classes=unique_labels,\n",
    "    y=y_train_indices\n",
    ")\n",
    "class_weights = dict(zip(unique_labels, class_weights))"
   ]
  },
  {
   "cell_type": "markdown",
   "metadata": {
    "jp-MarkdownHeadingCollapsed": true
   },
   "source": [
    "---\n",
    "\n",
    "### **References**\n",
    "\n",
    "1. [Bird Song Dataset on Kaggle](https://www.kaggle.com/code/sophiagnetneva/cnn-for-sound-classification-bird-calls-90)\n",
    "1.\n",
    "1.\n",
    "1.\n",
    "1.\n",
    "1.\n",
    "1.\n",
    "1.\n",
    "1.\n",
    "\n",
    "\n",
    "\n"
   ]
  },
  {
   "cell_type": "markdown",
   "metadata": {},
   "source": [
    "---\n",
    "\n",
    "# END"
   ]
  }
 ],
 "metadata": {
  "kernelspec": {
   "display_name": ".venv",
   "language": "python",
   "name": "python3"
  },
  "language_info": {
   "codemirror_mode": {
    "name": "ipython",
    "version": 3
   },
   "file_extension": ".py",
   "mimetype": "text/x-python",
   "name": "python",
   "nbconvert_exporter": "python",
   "pygments_lexer": "ipython3",
   "version": "3.12.8"
  }
 },
 "nbformat": 4,
 "nbformat_minor": 4
}
